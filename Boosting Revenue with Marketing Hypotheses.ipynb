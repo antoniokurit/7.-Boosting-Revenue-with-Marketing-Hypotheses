{
 "cells": [
  {
   "cell_type": "markdown",
   "metadata": {},
   "source": [
    "# Online Store: Boosting Revenue with Marketing Hypotheses\n",
    "\n",
    "We work for the analytical department at an online store. With the help of the marketing department, we've compiled a list of hypotheses that may help boost revenue. We will prioritize these hyoptheses, launch an A/B test, and analyze the results. We've been provided with the following data:\n",
    "- Nine hypotheses on boosting the store's revenue\n",
    "- Server logs with data on the store's visits from **August 2019**\n",
    "- Dump file with all orders from **August 2019**"
   ]
  },
  {
   "cell_type": "markdown",
   "metadata": {},
   "source": [
    "# Table of Contents\n",
    "[1 Open the data file and have a look at the general information](#1heading)  \n",
    "&emsp;[1.1 Conclusion](#1.1heading)  \n",
    "[2 Data preprocessing](#2heading)  \n",
    "&emsp;[2.1 Processing missing values](#2.1heading)  \n",
    "&emsp;[2.2 Data type replacement](#2.2heading)  \n",
    "&emsp;[2.3 Processing duplicates](#2.3heading)  \n",
    "&emsp;[2.4 Extra Preprocessing](#2.4heading)  \n",
    "[3 Prioritizing Hypotheses](#3heading)   \n",
    "[4 A/B Test Analysis](#4heading)  \n",
    "&emsp;[4.1 Cumulative Revenue by Group](#4.1heading)   \n",
    "&emsp;[4.2 Cumulative Average Order Size by Group](#4.2heading)  \n",
    "&emsp;[4.3 Difference in Cumulative Average Order Size for Group B Compared to Group A](#4.3heading)  \n",
    "&emsp;[4.4 Conversion Rate](#4.4heading)  \n",
    "&emsp;[4.5 Orders Per User](#4.5heading)  \n",
    "&emsp;[4.6 Order Prices](#4.6heading)  \n",
    "&emsp;[4.7 Difference in conversion between the groups using the raw data](#4.7heading)  \n",
    "&emsp;[4.8 Difference in average order size between the groups using the raw data](#4.8heading)  \n",
    "&emsp;[4.9 Difference in conversion between the groups using the filtered data](#4.9heading)  \n",
    "&emsp;[4.10 Difference in average order size between the groups using the filtered data](#4.10heading)  \n",
    "[5 Conclusion](#5heading)  "
   ]
  },
  {
   "cell_type": "markdown",
   "metadata": {},
   "source": [
    "<a id='1heading'></a>"
   ]
  },
  {
   "cell_type": "markdown",
   "metadata": {},
   "source": [
    "## Open the data files and have a look at the general information"
   ]
  },
  {
   "cell_type": "code",
   "execution_count": 1,
   "metadata": {},
   "outputs": [],
   "source": [
    "#Importing libraries\n",
    "import pandas as pd\n",
    "import numpy as np\n",
    "import matplotlib.pyplot as plt\n",
    "import math as mt\n",
    "import datetime as dt\n",
    "import seaborn as sns\n",
    "from math import factorial\n",
    "from scipy import stats as st\n",
    "from functools import reduce"
   ]
  },
  {
   "cell_type": "code",
   "execution_count": 2,
   "metadata": {},
   "outputs": [],
   "source": [
    "#Read files\n",
    "hypotheses = pd.read_csv('/datasets/hypotheses_us.csv', sep=';')\n",
    "orders = pd.read_csv('/datasets/orders_us.csv')\n",
    "visits = pd.read_csv('/datasets/visits_us.csv')"
   ]
  },
  {
   "cell_type": "code",
   "execution_count": 3,
   "metadata": {},
   "outputs": [
    {
     "data": {
      "text/html": [
       "<div>\n",
       "<style scoped>\n",
       "    .dataframe tbody tr th:only-of-type {\n",
       "        vertical-align: middle;\n",
       "    }\n",
       "\n",
       "    .dataframe tbody tr th {\n",
       "        vertical-align: top;\n",
       "    }\n",
       "\n",
       "    .dataframe thead th {\n",
       "        text-align: right;\n",
       "    }\n",
       "</style>\n",
       "<table border=\"1\" class=\"dataframe\">\n",
       "  <thead>\n",
       "    <tr style=\"text-align: right;\">\n",
       "      <th></th>\n",
       "      <th>Hypothesis</th>\n",
       "      <th>Reach</th>\n",
       "      <th>Impact</th>\n",
       "      <th>Confidence</th>\n",
       "      <th>Effort</th>\n",
       "    </tr>\n",
       "  </thead>\n",
       "  <tbody>\n",
       "    <tr>\n",
       "      <td>0</td>\n",
       "      <td>Add two new channels for attracting traffic. T...</td>\n",
       "      <td>3</td>\n",
       "      <td>10</td>\n",
       "      <td>8</td>\n",
       "      <td>6</td>\n",
       "    </tr>\n",
       "    <tr>\n",
       "      <td>1</td>\n",
       "      <td>Launch your own delivery service. This will sh...</td>\n",
       "      <td>2</td>\n",
       "      <td>5</td>\n",
       "      <td>4</td>\n",
       "      <td>10</td>\n",
       "    </tr>\n",
       "    <tr>\n",
       "      <td>2</td>\n",
       "      <td>Add product recommendation blocks to the store...</td>\n",
       "      <td>8</td>\n",
       "      <td>3</td>\n",
       "      <td>7</td>\n",
       "      <td>3</td>\n",
       "    </tr>\n",
       "    <tr>\n",
       "      <td>3</td>\n",
       "      <td>Change the category structure. This will incre...</td>\n",
       "      <td>8</td>\n",
       "      <td>3</td>\n",
       "      <td>3</td>\n",
       "      <td>8</td>\n",
       "    </tr>\n",
       "    <tr>\n",
       "      <td>4</td>\n",
       "      <td>Change the background color on the main page. ...</td>\n",
       "      <td>3</td>\n",
       "      <td>1</td>\n",
       "      <td>1</td>\n",
       "      <td>1</td>\n",
       "    </tr>\n",
       "    <tr>\n",
       "      <td>5</td>\n",
       "      <td>Add a customer review page. This will increase...</td>\n",
       "      <td>3</td>\n",
       "      <td>2</td>\n",
       "      <td>2</td>\n",
       "      <td>3</td>\n",
       "    </tr>\n",
       "    <tr>\n",
       "      <td>6</td>\n",
       "      <td>Show banners with current offers and sales on ...</td>\n",
       "      <td>5</td>\n",
       "      <td>3</td>\n",
       "      <td>8</td>\n",
       "      <td>3</td>\n",
       "    </tr>\n",
       "    <tr>\n",
       "      <td>7</td>\n",
       "      <td>Add a subscription form to all the main pages....</td>\n",
       "      <td>10</td>\n",
       "      <td>7</td>\n",
       "      <td>8</td>\n",
       "      <td>5</td>\n",
       "    </tr>\n",
       "    <tr>\n",
       "      <td>8</td>\n",
       "      <td>Launch a promotion that gives users discounts ...</td>\n",
       "      <td>1</td>\n",
       "      <td>9</td>\n",
       "      <td>9</td>\n",
       "      <td>5</td>\n",
       "    </tr>\n",
       "  </tbody>\n",
       "</table>\n",
       "</div>"
      ],
      "text/plain": [
       "                                          Hypothesis  Reach  Impact  \\\n",
       "0  Add two new channels for attracting traffic. T...      3      10   \n",
       "1  Launch your own delivery service. This will sh...      2       5   \n",
       "2  Add product recommendation blocks to the store...      8       3   \n",
       "3  Change the category structure. This will incre...      8       3   \n",
       "4  Change the background color on the main page. ...      3       1   \n",
       "5  Add a customer review page. This will increase...      3       2   \n",
       "6  Show banners with current offers and sales on ...      5       3   \n",
       "7  Add a subscription form to all the main pages....     10       7   \n",
       "8  Launch a promotion that gives users discounts ...      1       9   \n",
       "\n",
       "   Confidence  Effort  \n",
       "0           8       6  \n",
       "1           4      10  \n",
       "2           7       3  \n",
       "3           3       8  \n",
       "4           1       1  \n",
       "5           2       3  \n",
       "6           8       3  \n",
       "7           8       5  \n",
       "8           9       5  "
      ]
     },
     "metadata": {},
     "output_type": "display_data"
    },
    {
     "name": "stdout",
     "output_type": "stream",
     "text": [
      "<class 'pandas.core.frame.DataFrame'>\n",
      "RangeIndex: 9 entries, 0 to 8\n",
      "Data columns (total 5 columns):\n",
      "Hypothesis    9 non-null object\n",
      "Reach         9 non-null int64\n",
      "Impact        9 non-null int64\n",
      "Confidence    9 non-null int64\n",
      "Effort        9 non-null int64\n",
      "dtypes: int64(4), object(1)\n",
      "memory usage: 488.0+ bytes\n"
     ]
    }
   ],
   "source": [
    "#Check hypotheses dataframe and the data info\n",
    "display(hypotheses)\n",
    "hypotheses.info()"
   ]
  },
  {
   "cell_type": "code",
   "execution_count": 4,
   "metadata": {},
   "outputs": [
    {
     "data": {
      "text/html": [
       "<div>\n",
       "<style scoped>\n",
       "    .dataframe tbody tr th:only-of-type {\n",
       "        vertical-align: middle;\n",
       "    }\n",
       "\n",
       "    .dataframe tbody tr th {\n",
       "        vertical-align: top;\n",
       "    }\n",
       "\n",
       "    .dataframe thead th {\n",
       "        text-align: right;\n",
       "    }\n",
       "</style>\n",
       "<table border=\"1\" class=\"dataframe\">\n",
       "  <thead>\n",
       "    <tr style=\"text-align: right;\">\n",
       "      <th></th>\n",
       "      <th>transactionId</th>\n",
       "      <th>visitorId</th>\n",
       "      <th>date</th>\n",
       "      <th>revenue</th>\n",
       "      <th>group</th>\n",
       "    </tr>\n",
       "  </thead>\n",
       "  <tbody>\n",
       "    <tr>\n",
       "      <td>0</td>\n",
       "      <td>3667963787</td>\n",
       "      <td>3312258926</td>\n",
       "      <td>2019-08-15</td>\n",
       "      <td>30.4</td>\n",
       "      <td>B</td>\n",
       "    </tr>\n",
       "    <tr>\n",
       "      <td>1</td>\n",
       "      <td>2804400009</td>\n",
       "      <td>3642806036</td>\n",
       "      <td>2019-08-15</td>\n",
       "      <td>15.2</td>\n",
       "      <td>B</td>\n",
       "    </tr>\n",
       "    <tr>\n",
       "      <td>2</td>\n",
       "      <td>2961555356</td>\n",
       "      <td>4069496402</td>\n",
       "      <td>2019-08-15</td>\n",
       "      <td>10.2</td>\n",
       "      <td>A</td>\n",
       "    </tr>\n",
       "    <tr>\n",
       "      <td>3</td>\n",
       "      <td>3797467345</td>\n",
       "      <td>1196621759</td>\n",
       "      <td>2019-08-15</td>\n",
       "      <td>155.1</td>\n",
       "      <td>B</td>\n",
       "    </tr>\n",
       "    <tr>\n",
       "      <td>4</td>\n",
       "      <td>2282983706</td>\n",
       "      <td>2322279887</td>\n",
       "      <td>2019-08-15</td>\n",
       "      <td>40.5</td>\n",
       "      <td>B</td>\n",
       "    </tr>\n",
       "  </tbody>\n",
       "</table>\n",
       "</div>"
      ],
      "text/plain": [
       "   transactionId   visitorId        date  revenue group\n",
       "0     3667963787  3312258926  2019-08-15     30.4     B\n",
       "1     2804400009  3642806036  2019-08-15     15.2     B\n",
       "2     2961555356  4069496402  2019-08-15     10.2     A\n",
       "3     3797467345  1196621759  2019-08-15    155.1     B\n",
       "4     2282983706  2322279887  2019-08-15     40.5     B"
      ]
     },
     "metadata": {},
     "output_type": "display_data"
    },
    {
     "name": "stdout",
     "output_type": "stream",
     "text": [
      "<class 'pandas.core.frame.DataFrame'>\n",
      "RangeIndex: 1197 entries, 0 to 1196\n",
      "Data columns (total 5 columns):\n",
      "transactionId    1197 non-null int64\n",
      "visitorId        1197 non-null int64\n",
      "date             1197 non-null object\n",
      "revenue          1197 non-null float64\n",
      "group            1197 non-null object\n",
      "dtypes: float64(1), int64(2), object(2)\n",
      "memory usage: 46.9+ KB\n"
     ]
    },
    {
     "data": {
      "text/html": [
       "<div>\n",
       "<style scoped>\n",
       "    .dataframe tbody tr th:only-of-type {\n",
       "        vertical-align: middle;\n",
       "    }\n",
       "\n",
       "    .dataframe tbody tr th {\n",
       "        vertical-align: top;\n",
       "    }\n",
       "\n",
       "    .dataframe thead th {\n",
       "        text-align: right;\n",
       "    }\n",
       "</style>\n",
       "<table border=\"1\" class=\"dataframe\">\n",
       "  <thead>\n",
       "    <tr style=\"text-align: right;\">\n",
       "      <th></th>\n",
       "      <th>transactionId</th>\n",
       "      <th>visitorId</th>\n",
       "      <th>revenue</th>\n",
       "    </tr>\n",
       "  </thead>\n",
       "  <tbody>\n",
       "    <tr>\n",
       "      <td>count</td>\n",
       "      <td>1.197000e+03</td>\n",
       "      <td>1.197000e+03</td>\n",
       "      <td>1197.000000</td>\n",
       "    </tr>\n",
       "    <tr>\n",
       "      <td>mean</td>\n",
       "      <td>2.155621e+09</td>\n",
       "      <td>2.165960e+09</td>\n",
       "      <td>131.491646</td>\n",
       "    </tr>\n",
       "    <tr>\n",
       "      <td>std</td>\n",
       "      <td>1.229085e+09</td>\n",
       "      <td>1.236014e+09</td>\n",
       "      <td>603.004729</td>\n",
       "    </tr>\n",
       "    <tr>\n",
       "      <td>min</td>\n",
       "      <td>1.062393e+06</td>\n",
       "      <td>5.114589e+06</td>\n",
       "      <td>5.000000</td>\n",
       "    </tr>\n",
       "    <tr>\n",
       "      <td>25%</td>\n",
       "      <td>1.166776e+09</td>\n",
       "      <td>1.111826e+09</td>\n",
       "      <td>20.800000</td>\n",
       "    </tr>\n",
       "    <tr>\n",
       "      <td>50%</td>\n",
       "      <td>2.145194e+09</td>\n",
       "      <td>2.217985e+09</td>\n",
       "      <td>50.200000</td>\n",
       "    </tr>\n",
       "    <tr>\n",
       "      <td>75%</td>\n",
       "      <td>3.237740e+09</td>\n",
       "      <td>3.177606e+09</td>\n",
       "      <td>130.400000</td>\n",
       "    </tr>\n",
       "    <tr>\n",
       "      <td>max</td>\n",
       "      <td>4.293856e+09</td>\n",
       "      <td>4.283872e+09</td>\n",
       "      <td>19920.400000</td>\n",
       "    </tr>\n",
       "  </tbody>\n",
       "</table>\n",
       "</div>"
      ],
      "text/plain": [
       "       transactionId     visitorId       revenue\n",
       "count   1.197000e+03  1.197000e+03   1197.000000\n",
       "mean    2.155621e+09  2.165960e+09    131.491646\n",
       "std     1.229085e+09  1.236014e+09    603.004729\n",
       "min     1.062393e+06  5.114589e+06      5.000000\n",
       "25%     1.166776e+09  1.111826e+09     20.800000\n",
       "50%     2.145194e+09  2.217985e+09     50.200000\n",
       "75%     3.237740e+09  3.177606e+09    130.400000\n",
       "max     4.293856e+09  4.283872e+09  19920.400000"
      ]
     },
     "execution_count": 4,
     "metadata": {},
     "output_type": "execute_result"
    }
   ],
   "source": [
    "#Check orders first five rows and the data info\n",
    "display(orders.head())\n",
    "orders.info()\n",
    "orders.describe()"
   ]
  },
  {
   "cell_type": "code",
   "execution_count": 5,
   "metadata": {},
   "outputs": [
    {
     "data": {
      "text/html": [
       "<div>\n",
       "<style scoped>\n",
       "    .dataframe tbody tr th:only-of-type {\n",
       "        vertical-align: middle;\n",
       "    }\n",
       "\n",
       "    .dataframe tbody tr th {\n",
       "        vertical-align: top;\n",
       "    }\n",
       "\n",
       "    .dataframe thead th {\n",
       "        text-align: right;\n",
       "    }\n",
       "</style>\n",
       "<table border=\"1\" class=\"dataframe\">\n",
       "  <thead>\n",
       "    <tr style=\"text-align: right;\">\n",
       "      <th></th>\n",
       "      <th>date</th>\n",
       "      <th>group</th>\n",
       "      <th>visits</th>\n",
       "    </tr>\n",
       "  </thead>\n",
       "  <tbody>\n",
       "    <tr>\n",
       "      <td>0</td>\n",
       "      <td>2019-08-01</td>\n",
       "      <td>A</td>\n",
       "      <td>719</td>\n",
       "    </tr>\n",
       "    <tr>\n",
       "      <td>1</td>\n",
       "      <td>2019-08-02</td>\n",
       "      <td>A</td>\n",
       "      <td>619</td>\n",
       "    </tr>\n",
       "    <tr>\n",
       "      <td>2</td>\n",
       "      <td>2019-08-03</td>\n",
       "      <td>A</td>\n",
       "      <td>507</td>\n",
       "    </tr>\n",
       "    <tr>\n",
       "      <td>3</td>\n",
       "      <td>2019-08-04</td>\n",
       "      <td>A</td>\n",
       "      <td>717</td>\n",
       "    </tr>\n",
       "    <tr>\n",
       "      <td>4</td>\n",
       "      <td>2019-08-05</td>\n",
       "      <td>A</td>\n",
       "      <td>756</td>\n",
       "    </tr>\n",
       "  </tbody>\n",
       "</table>\n",
       "</div>"
      ],
      "text/plain": [
       "         date group  visits\n",
       "0  2019-08-01     A     719\n",
       "1  2019-08-02     A     619\n",
       "2  2019-08-03     A     507\n",
       "3  2019-08-04     A     717\n",
       "4  2019-08-05     A     756"
      ]
     },
     "metadata": {},
     "output_type": "display_data"
    },
    {
     "name": "stdout",
     "output_type": "stream",
     "text": [
      "<class 'pandas.core.frame.DataFrame'>\n",
      "RangeIndex: 62 entries, 0 to 61\n",
      "Data columns (total 3 columns):\n",
      "date      62 non-null object\n",
      "group     62 non-null object\n",
      "visits    62 non-null int64\n",
      "dtypes: int64(1), object(2)\n",
      "memory usage: 1.6+ KB\n"
     ]
    },
    {
     "data": {
      "text/html": [
       "<div>\n",
       "<style scoped>\n",
       "    .dataframe tbody tr th:only-of-type {\n",
       "        vertical-align: middle;\n",
       "    }\n",
       "\n",
       "    .dataframe tbody tr th {\n",
       "        vertical-align: top;\n",
       "    }\n",
       "\n",
       "    .dataframe thead th {\n",
       "        text-align: right;\n",
       "    }\n",
       "</style>\n",
       "<table border=\"1\" class=\"dataframe\">\n",
       "  <thead>\n",
       "    <tr style=\"text-align: right;\">\n",
       "      <th></th>\n",
       "      <th>visits</th>\n",
       "    </tr>\n",
       "  </thead>\n",
       "  <tbody>\n",
       "    <tr>\n",
       "      <td>count</td>\n",
       "      <td>62.000000</td>\n",
       "    </tr>\n",
       "    <tr>\n",
       "      <td>mean</td>\n",
       "      <td>607.290323</td>\n",
       "    </tr>\n",
       "    <tr>\n",
       "      <td>std</td>\n",
       "      <td>114.400560</td>\n",
       "    </tr>\n",
       "    <tr>\n",
       "      <td>min</td>\n",
       "      <td>361.000000</td>\n",
       "    </tr>\n",
       "    <tr>\n",
       "      <td>25%</td>\n",
       "      <td>534.000000</td>\n",
       "    </tr>\n",
       "    <tr>\n",
       "      <td>50%</td>\n",
       "      <td>624.500000</td>\n",
       "    </tr>\n",
       "    <tr>\n",
       "      <td>75%</td>\n",
       "      <td>710.500000</td>\n",
       "    </tr>\n",
       "    <tr>\n",
       "      <td>max</td>\n",
       "      <td>770.000000</td>\n",
       "    </tr>\n",
       "  </tbody>\n",
       "</table>\n",
       "</div>"
      ],
      "text/plain": [
       "           visits\n",
       "count   62.000000\n",
       "mean   607.290323\n",
       "std    114.400560\n",
       "min    361.000000\n",
       "25%    534.000000\n",
       "50%    624.500000\n",
       "75%    710.500000\n",
       "max    770.000000"
      ]
     },
     "execution_count": 5,
     "metadata": {},
     "output_type": "execute_result"
    }
   ],
   "source": [
    "#Check visits first five rows and the data info\n",
    "display(visits.head())\n",
    "visits.info()\n",
    "visits.describe()"
   ]
  },
  {
   "cell_type": "markdown",
   "metadata": {},
   "source": [
    "<a id='1.1heading'></a>"
   ]
  },
  {
   "cell_type": "markdown",
   "metadata": {},
   "source": [
    "### Conclusion"
   ]
  },
  {
   "cell_type": "markdown",
   "metadata": {},
   "source": [
    "<div class=\"alert alert-info\">\n",
    "    \n",
    "Hypotheses dataframe contains 5 columns: **Hypotheses, Reach, Impact, Confidence, and Effort**\n",
    "- **Hypotheses** contains brief descriptions of the hypotheses; **Reach** is user reach, on a scale of one to ten; **Impact** is impact on users, on a scale of one to ten; **Confidence** is confidence in the hypothesis, on a scale of one to ten; **Effort** is the resources required to test a hypothesis, on a scale of one to ten.\n",
    "- Total of 9 rows. Data types are fine.\n",
    "\n",
    "Orders dataframe contains 5 columns: **transactionId, visitorId, date, revenue, and group**\n",
    "- **TransactionId** is the order identifier, **visitorId** is the identifier of the user who placed the order, **date** is the date of the order, **revenue** is the revenue from the order, and **group** is the A/B test group that the user belongs to.\n",
    "- There are a total of 1197 rows. Data types need updating.\n",
    "\n",
    "Visits dataframe contains 3 columns: **date, group, and visits**\n",
    "- **Date** is the date of the visits, **group** is the A/B test group that users belong to, and **visits** is the number of visits on the date.\n",
    "- There are a total of 62 rows. Data types need updating.\n",
    "\n",
    "</div>"
   ]
  },
  {
   "cell_type": "markdown",
   "metadata": {},
   "source": [
    "<a id='2heading'></a>"
   ]
  },
  {
   "cell_type": "markdown",
   "metadata": {},
   "source": [
    "## Data preprocessing"
   ]
  },
  {
   "cell_type": "markdown",
   "metadata": {},
   "source": [
    "<a id='2.1heading'></a>"
   ]
  },
  {
   "cell_type": "markdown",
   "metadata": {},
   "source": [
    "### Processing missing values"
   ]
  },
  {
   "cell_type": "code",
   "execution_count": 6,
   "metadata": {},
   "outputs": [
    {
     "name": "stdout",
     "output_type": "stream",
     "text": [
      "Total Rows: 9\n"
     ]
    },
    {
     "data": {
      "text/plain": [
       "Hypothesis    0\n",
       "Reach         0\n",
       "Impact        0\n",
       "Confidence    0\n",
       "Effort        0\n",
       "dtype: int64"
      ]
     },
     "execution_count": 6,
     "metadata": {},
     "output_type": "execute_result"
    }
   ],
   "source": [
    "#count of nulls for hypotheses\n",
    "print('Total Rows:', len(hypotheses))\n",
    "hypotheses.isnull().sum()"
   ]
  },
  {
   "cell_type": "code",
   "execution_count": 7,
   "metadata": {},
   "outputs": [
    {
     "name": "stdout",
     "output_type": "stream",
     "text": [
      "Total Rows: 1197\n"
     ]
    },
    {
     "data": {
      "text/plain": [
       "transactionId    0\n",
       "visitorId        0\n",
       "date             0\n",
       "revenue          0\n",
       "group            0\n",
       "dtype: int64"
      ]
     },
     "execution_count": 7,
     "metadata": {},
     "output_type": "execute_result"
    }
   ],
   "source": [
    "#count of nulls for orders\n",
    "print('Total Rows:', len(orders))\n",
    "orders.isnull().sum()"
   ]
  },
  {
   "cell_type": "code",
   "execution_count": 8,
   "metadata": {
    "scrolled": true
   },
   "outputs": [
    {
     "name": "stdout",
     "output_type": "stream",
     "text": [
      "Total Rows: 62\n"
     ]
    },
    {
     "data": {
      "text/plain": [
       "date      0\n",
       "group     0\n",
       "visits    0\n",
       "dtype: int64"
      ]
     },
     "execution_count": 8,
     "metadata": {},
     "output_type": "execute_result"
    }
   ],
   "source": [
    "#count of nulls for visits\n",
    "print('Total Rows:', len(visits))\n",
    "visits.isnull().sum()"
   ]
  },
  {
   "cell_type": "markdown",
   "metadata": {},
   "source": [
    "<a id='2.2heading'></a>"
   ]
  },
  {
   "cell_type": "markdown",
   "metadata": {},
   "source": [
    "### Data type replacement"
   ]
  },
  {
   "cell_type": "code",
   "execution_count": 9,
   "metadata": {},
   "outputs": [
    {
     "data": {
      "text/plain": [
       "Hypothesis    object\n",
       "Reach          int64\n",
       "Impact         int64\n",
       "Confidence     int64\n",
       "Effort         int64\n",
       "dtype: object"
      ]
     },
     "execution_count": 9,
     "metadata": {},
     "output_type": "execute_result"
    }
   ],
   "source": [
    "#Check hypotheses dtypes\n",
    "hypotheses.dtypes"
   ]
  },
  {
   "cell_type": "code",
   "execution_count": 10,
   "metadata": {},
   "outputs": [
    {
     "data": {
      "text/plain": [
       "transactionId      int64\n",
       "visitorId          int64\n",
       "date              object\n",
       "revenue          float64\n",
       "group             object\n",
       "dtype: object"
      ]
     },
     "execution_count": 10,
     "metadata": {},
     "output_type": "execute_result"
    }
   ],
   "source": [
    "#Check orders dtypes\n",
    "orders.dtypes"
   ]
  },
  {
   "cell_type": "code",
   "execution_count": 11,
   "metadata": {},
   "outputs": [
    {
     "data": {
      "text/plain": [
       "transactionId             int64\n",
       "visitorId                 int64\n",
       "date             datetime64[ns]\n",
       "revenue                 float64\n",
       "group                    object\n",
       "dtype: object"
      ]
     },
     "execution_count": 11,
     "metadata": {},
     "output_type": "execute_result"
    }
   ],
   "source": [
    "#Change orders dtypes\n",
    "orders['date'] = pd.to_datetime(orders['date'], format='%Y-%m-%dT%H:%M:%S')\n",
    "#orders['group'] = orders['group'].astype('category')\n",
    "orders.dtypes"
   ]
  },
  {
   "cell_type": "code",
   "execution_count": 12,
   "metadata": {},
   "outputs": [
    {
     "data": {
      "text/plain": [
       "date      object\n",
       "group     object\n",
       "visits     int64\n",
       "dtype: object"
      ]
     },
     "execution_count": 12,
     "metadata": {},
     "output_type": "execute_result"
    }
   ],
   "source": [
    "#Check visits dtypes\n",
    "visits.dtypes"
   ]
  },
  {
   "cell_type": "code",
   "execution_count": 13,
   "metadata": {
    "scrolled": true
   },
   "outputs": [
    {
     "data": {
      "text/plain": [
       "date      datetime64[ns]\n",
       "group             object\n",
       "visits             int64\n",
       "dtype: object"
      ]
     },
     "execution_count": 13,
     "metadata": {},
     "output_type": "execute_result"
    }
   ],
   "source": [
    "#Change visits dtypes\n",
    "visits['date'] = pd.to_datetime(visits['date'], format='%Y-%m-%dT%H:%M:%S')\n",
    "#visits['group'] = visits['group'].astype('category')\n",
    "visits.dtypes"
   ]
  },
  {
   "cell_type": "markdown",
   "metadata": {},
   "source": [
    "<a id='2.3heading'></a>"
   ]
  },
  {
   "cell_type": "markdown",
   "metadata": {},
   "source": [
    "### Processing duplicates"
   ]
  },
  {
   "cell_type": "code",
   "execution_count": 14,
   "metadata": {},
   "outputs": [],
   "source": [
    "#Functions for duplicates\n",
    "def duplicates_func(dataframe):\n",
    "    print('Total duplicates:', dataframe.duplicated().sum())"
   ]
  },
  {
   "cell_type": "code",
   "execution_count": 15,
   "metadata": {},
   "outputs": [
    {
     "name": "stdout",
     "output_type": "stream",
     "text": [
      "Total duplicates: 0\n"
     ]
    }
   ],
   "source": [
    "#Duplicates for hypotheses\n",
    "duplicates_func(hypotheses)"
   ]
  },
  {
   "cell_type": "code",
   "execution_count": 16,
   "metadata": {},
   "outputs": [
    {
     "name": "stdout",
     "output_type": "stream",
     "text": [
      "Total duplicates: 0\n"
     ]
    }
   ],
   "source": [
    "#Duplicates for orders\n",
    "duplicates_func(orders)"
   ]
  },
  {
   "cell_type": "code",
   "execution_count": 17,
   "metadata": {},
   "outputs": [
    {
     "name": "stdout",
     "output_type": "stream",
     "text": [
      "Total duplicates: 0\n"
     ]
    }
   ],
   "source": [
    "#Duplicates for visits\n",
    "duplicates_func(visits)"
   ]
  },
  {
   "cell_type": "markdown",
   "metadata": {},
   "source": [
    "Time to search for duplicates in orders dataframe based on 'visitorId', 'date', and 'revenue'."
   ]
  },
  {
   "cell_type": "code",
   "execution_count": 18,
   "metadata": {},
   "outputs": [
    {
     "data": {
      "text/html": [
       "<div>\n",
       "<style scoped>\n",
       "    .dataframe tbody tr th:only-of-type {\n",
       "        vertical-align: middle;\n",
       "    }\n",
       "\n",
       "    .dataframe tbody tr th {\n",
       "        vertical-align: top;\n",
       "    }\n",
       "\n",
       "    .dataframe thead th {\n",
       "        text-align: right;\n",
       "    }\n",
       "</style>\n",
       "<table border=\"1\" class=\"dataframe\">\n",
       "  <thead>\n",
       "    <tr style=\"text-align: right;\">\n",
       "      <th></th>\n",
       "      <th>transactionId</th>\n",
       "      <th>visitorId</th>\n",
       "      <th>date</th>\n",
       "      <th>revenue</th>\n",
       "      <th>group</th>\n",
       "    </tr>\n",
       "  </thead>\n",
       "  <tbody>\n",
       "    <tr>\n",
       "      <td>970</td>\n",
       "      <td>3478707774</td>\n",
       "      <td>2587333274</td>\n",
       "      <td>2019-08-08</td>\n",
       "      <td>60.4</td>\n",
       "      <td>A</td>\n",
       "    </tr>\n",
       "    <tr>\n",
       "      <td>972</td>\n",
       "      <td>2419539947</td>\n",
       "      <td>2587333274</td>\n",
       "      <td>2019-08-08</td>\n",
       "      <td>60.4</td>\n",
       "      <td>B</td>\n",
       "    </tr>\n",
       "    <tr>\n",
       "      <td>556</td>\n",
       "      <td>571224785</td>\n",
       "      <td>3941503500</td>\n",
       "      <td>2019-08-06</td>\n",
       "      <td>80.8</td>\n",
       "      <td>B</td>\n",
       "    </tr>\n",
       "    <tr>\n",
       "      <td>558</td>\n",
       "      <td>3621273697</td>\n",
       "      <td>3941503500</td>\n",
       "      <td>2019-08-06</td>\n",
       "      <td>80.8</td>\n",
       "      <td>B</td>\n",
       "    </tr>\n",
       "    <tr>\n",
       "      <td>662</td>\n",
       "      <td>1811671147</td>\n",
       "      <td>4266935830</td>\n",
       "      <td>2019-08-29</td>\n",
       "      <td>1220.2</td>\n",
       "      <td>A</td>\n",
       "    </tr>\n",
       "    <tr>\n",
       "      <td>682</td>\n",
       "      <td>1216533772</td>\n",
       "      <td>4266935830</td>\n",
       "      <td>2019-08-29</td>\n",
       "      <td>1220.2</td>\n",
       "      <td>B</td>\n",
       "    </tr>\n",
       "  </tbody>\n",
       "</table>\n",
       "</div>"
      ],
      "text/plain": [
       "     transactionId   visitorId       date  revenue group\n",
       "970     3478707774  2587333274 2019-08-08     60.4     A\n",
       "972     2419539947  2587333274 2019-08-08     60.4     B\n",
       "556      571224785  3941503500 2019-08-06     80.8     B\n",
       "558     3621273697  3941503500 2019-08-06     80.8     B\n",
       "662     1811671147  4266935830 2019-08-29   1220.2     A\n",
       "682     1216533772  4266935830 2019-08-29   1220.2     B"
      ]
     },
     "metadata": {},
     "output_type": "display_data"
    },
    {
     "name": "stdout",
     "output_type": "stream",
     "text": [
      "Total rows: 6\n"
     ]
    }
   ],
   "source": [
    "#Drop duplicates based on 'visitorId', 'date', and 'revenue'\n",
    "duplicates = orders[orders.duplicated(subset=['visitorId', 'date', 'revenue'], keep=False)].sort_values(by='visitorId')\n",
    "display(duplicates)\n",
    "print('Total rows:', len(duplicates))"
   ]
  },
  {
   "cell_type": "code",
   "execution_count": 19,
   "metadata": {
    "scrolled": true
   },
   "outputs": [
    {
     "name": "stdout",
     "output_type": "stream",
     "text": [
      "Duplicate orders left:  0\n"
     ]
    }
   ],
   "source": [
    "#Dropping duplicates in orders dataframe\n",
    "orders = orders.drop_duplicates(subset=['visitorId', 'date', 'revenue'])\n",
    "print('Duplicate orders left: ', orders.duplicated(subset=['visitorId', 'date', 'revenue']).sum())"
   ]
  },
  {
   "cell_type": "markdown",
   "metadata": {},
   "source": [
    "Time to look for users in both groups."
   ]
  },
  {
   "cell_type": "code",
   "execution_count": 20,
   "metadata": {},
   "outputs": [
    {
     "data": {
      "text/html": [
       "<div>\n",
       "<style scoped>\n",
       "    .dataframe tbody tr th:only-of-type {\n",
       "        vertical-align: middle;\n",
       "    }\n",
       "\n",
       "    .dataframe tbody tr th {\n",
       "        vertical-align: top;\n",
       "    }\n",
       "\n",
       "    .dataframe thead th {\n",
       "        text-align: right;\n",
       "    }\n",
       "</style>\n",
       "<table border=\"1\" class=\"dataframe\">\n",
       "  <thead>\n",
       "    <tr style=\"text-align: right;\">\n",
       "      <th></th>\n",
       "      <th>transactionId</th>\n",
       "      <th>visitorId</th>\n",
       "      <th>date</th>\n",
       "      <th>revenue</th>\n",
       "      <th>group</th>\n",
       "    </tr>\n",
       "  </thead>\n",
       "  <tbody>\n",
       "    <tr>\n",
       "      <td>26</td>\n",
       "      <td>2223239646</td>\n",
       "      <td>199603092</td>\n",
       "      <td>2019-08-15</td>\n",
       "      <td>55.7</td>\n",
       "      <td>A</td>\n",
       "    </tr>\n",
       "    <tr>\n",
       "      <td>823</td>\n",
       "      <td>2971973105</td>\n",
       "      <td>199603092</td>\n",
       "      <td>2019-08-27</td>\n",
       "      <td>45.9</td>\n",
       "      <td>A</td>\n",
       "    </tr>\n",
       "    <tr>\n",
       "      <td>134</td>\n",
       "      <td>62794304</td>\n",
       "      <td>199603092</td>\n",
       "      <td>2019-08-22</td>\n",
       "      <td>110.3</td>\n",
       "      <td>A</td>\n",
       "    </tr>\n",
       "    <tr>\n",
       "      <td>1102</td>\n",
       "      <td>1941707234</td>\n",
       "      <td>199603092</td>\n",
       "      <td>2019-08-12</td>\n",
       "      <td>100.0</td>\n",
       "      <td>A</td>\n",
       "    </tr>\n",
       "    <tr>\n",
       "      <td>41</td>\n",
       "      <td>2594268419</td>\n",
       "      <td>237748145</td>\n",
       "      <td>2019-08-15</td>\n",
       "      <td>20.8</td>\n",
       "      <td>A</td>\n",
       "    </tr>\n",
       "    <tr>\n",
       "      <td>...</td>\n",
       "      <td>...</td>\n",
       "      <td>...</td>\n",
       "      <td>...</td>\n",
       "      <td>...</td>\n",
       "      <td>...</td>\n",
       "    </tr>\n",
       "    <tr>\n",
       "      <td>1019</td>\n",
       "      <td>453824282</td>\n",
       "      <td>4256040402</td>\n",
       "      <td>2019-08-31</td>\n",
       "      <td>30.5</td>\n",
       "      <td>B</td>\n",
       "    </tr>\n",
       "    <tr>\n",
       "      <td>1018</td>\n",
       "      <td>1415970216</td>\n",
       "      <td>4256040402</td>\n",
       "      <td>2019-08-31</td>\n",
       "      <td>80.5</td>\n",
       "      <td>A</td>\n",
       "    </tr>\n",
       "    <tr>\n",
       "      <td>60</td>\n",
       "      <td>1421016313</td>\n",
       "      <td>4256040402</td>\n",
       "      <td>2019-08-16</td>\n",
       "      <td>875.5</td>\n",
       "      <td>B</td>\n",
       "    </tr>\n",
       "    <tr>\n",
       "      <td>1091</td>\n",
       "      <td>750632879</td>\n",
       "      <td>4256040402</td>\n",
       "      <td>2019-08-12</td>\n",
       "      <td>5.8</td>\n",
       "      <td>A</td>\n",
       "    </tr>\n",
       "    <tr>\n",
       "      <td>253</td>\n",
       "      <td>1610091760</td>\n",
       "      <td>4256040402</td>\n",
       "      <td>2019-08-23</td>\n",
       "      <td>265.8</td>\n",
       "      <td>A</td>\n",
       "    </tr>\n",
       "  </tbody>\n",
       "</table>\n",
       "<p>169 rows × 5 columns</p>\n",
       "</div>"
      ],
      "text/plain": [
       "      transactionId   visitorId       date  revenue group\n",
       "26       2223239646   199603092 2019-08-15     55.7     A\n",
       "823      2971973105   199603092 2019-08-27     45.9     A\n",
       "134        62794304   199603092 2019-08-22    110.3     A\n",
       "1102     1941707234   199603092 2019-08-12    100.0     A\n",
       "41       2594268419   237748145 2019-08-15     20.8     A\n",
       "...             ...         ...        ...      ...   ...\n",
       "1019      453824282  4256040402 2019-08-31     30.5     B\n",
       "1018     1415970216  4256040402 2019-08-31     80.5     A\n",
       "60       1421016313  4256040402 2019-08-16    875.5     B\n",
       "1091      750632879  4256040402 2019-08-12      5.8     A\n",
       "253      1610091760  4256040402 2019-08-23    265.8     A\n",
       "\n",
       "[169 rows x 5 columns]"
      ]
     },
     "execution_count": 20,
     "metadata": {},
     "output_type": "execute_result"
    }
   ],
   "source": [
    "#Get duplicates for orders by visitorId column\n",
    "duplicates2 = orders[orders.duplicated(subset=['visitorId', 'group'], keep=False)]\n",
    "duplicates2.sort_values(by='visitorId')"
   ]
  },
  {
   "cell_type": "code",
   "execution_count": 21,
   "metadata": {},
   "outputs": [
    {
     "name": "stdout",
     "output_type": "stream",
     "text": [
      "Number of duplicate users: 58\n"
     ]
    }
   ],
   "source": [
    "print('Number of duplicate users:', duplicates2['visitorId'].nunique())"
   ]
  },
  {
   "cell_type": "code",
   "execution_count": 22,
   "metadata": {},
   "outputs": [
    {
     "name": "stdout",
     "output_type": "stream",
     "text": [
      "Total amount of buyers: 1031\n",
      "Amount of buyers in both groups: 58\n",
      "Ratio = 5.63%\n"
     ]
    }
   ],
   "source": [
    "#Checking amount of buyers in both groups\n",
    "print('Total amount of buyers:',orders['visitorId'].nunique())\n",
    "print('Amount of buyers in both groups:', duplicates2['visitorId'].nunique())\n",
    "print('Ratio = {:.2%}'.format(duplicates2['visitorId'].nunique()/orders['visitorId'].nunique()))"
   ]
  },
  {
   "cell_type": "code",
   "execution_count": 23,
   "metadata": {},
   "outputs": [
    {
     "name": "stdout",
     "output_type": "stream",
     "text": [
      "Total orders: 1194\n",
      "Total orders with mixed grouping: 169\n",
      "Ratio = 14.15%\n"
     ]
    }
   ],
   "source": [
    "#Checking amount of orders in both groups\n",
    "print('Total orders:', len(orders))\n",
    "print('Total orders with mixed grouping:', len(duplicates2))\n",
    "print('Ratio = {:.2%}'.format(len(duplicates2)/len(orders)))"
   ]
  },
  {
   "cell_type": "code",
   "execution_count": 24,
   "metadata": {},
   "outputs": [
    {
     "name": "stdout",
     "output_type": "stream",
     "text": [
      "Duplicate orders left:  0\n"
     ]
    }
   ],
   "source": [
    "#Dropping duplicates in orders dataframe\n",
    "orders = orders.drop_duplicates(subset=['visitorId', 'group'], keep=False)\n",
    "print('Duplicate orders left: ', orders.duplicated(subset=['visitorId', 'group']).sum())"
   ]
  },
  {
   "cell_type": "markdown",
   "metadata": {},
   "source": [
    "<div class=\"alert alert-info\">\n",
    "\n",
    "We've checked for participants who took part in both groups of our experiment. We can't trust the results provided by these users since their purchasing behaviors were probably influenced from seeing both versions of the online store. About 5.63% of the buyers took part in both groups, and we have removed them and their purchases from the orders dataframe.\n",
    "&nbsp;\n",
    "    \n",
    "&nbsp;\n",
    "    \n",
    "If possible, I'd recommend our team to restart the test and make sure users are not placed in both A/B. Note that this approach may not be feasible at times.\n",
    "&nbsp;\n",
    "    \n",
    "&nbsp;\n",
    "    \n",
    "**Therefore, we will continue our analysis without the orders of users who partook in both groups.**\n",
    "</div>"
   ]
  },
  {
   "cell_type": "markdown",
   "metadata": {},
   "source": [
    "<a id='2.4heading'></a>"
   ]
  },
  {
   "cell_type": "markdown",
   "metadata": {},
   "source": [
    "### Extra Preprocessing"
   ]
  },
  {
   "cell_type": "markdown",
   "metadata": {},
   "source": [
    "orders.head()"
   ]
  },
  {
   "cell_type": "markdown",
   "metadata": {},
   "source": [
    "visits.head()"
   ]
  },
  {
   "cell_type": "markdown",
   "metadata": {},
   "source": [
    "#Obtaining cumulative data\n",
    "\n",
    "datesGroups = orders[['date','group']].drop_duplicates() \n",
    "\n",
    "ordersAggregated = datesGroups.apply(lambda x: orders[np.logical_and(orders['date'] <= x['date'], orders['group'] == x['group'])].agg({'date' : 'max', 'group' : 'first', 'transactionId' : pd.Series.nunique, 'visitorId' : pd.Series.nunique, 'revenue' : 'sum'}), axis=1).sort_values(by=['date','group']) \n",
    "\n",
    "visitorsAggregated = datesGroups.apply(lambda x: visitors[np.logical_and(visitors['date'] <= x['date'], visitors['group'] == x['group'])].agg({'date' : 'max', 'group' : 'first', 'visits' : 'sum'}), axis=1).sort_values(by=['date','group']) \n",
    "\n",
    "cumulativeData = ordersAggregated.merge(visitorsAggregated, left_on=['date', 'group'], right_on=['date', 'group'])\n",
    "cumulativeData.columns = ['date', 'group', 'orders', 'buyers', 'revenue', 'visits']\n",
    "\n",
    "display(cumulativeData.head(10)) "
   ]
  },
  {
   "cell_type": "markdown",
   "metadata": {},
   "source": [
    "#Building an array with unique paired date-group values \n",
    "datesGroups = orders[['date','group']].drop_duplicates().sort_values(by=['date','group']).reset_index(drop=True)\n",
    "datesGroups"
   ]
  },
  {
   "cell_type": "markdown",
   "metadata": {},
   "source": [
    "#Obtaining number or orders per day\n",
    "result_transactionId = orders.pivot_table(index=['date', 'group'], values='transactionId', aggfunc='nunique')\n",
    "del result_transactionId['date']\n",
    "del result_transactionId['group']\n",
    "result_transactionId.reset_index(inplace=True)\n",
    "result_transactionId"
   ]
  },
  {
   "cell_type": "markdown",
   "metadata": {},
   "source": [
    "#Obtaining number of visitors per day\n",
    "result_visitorId = orders.pivot_table(index=['date', 'group'], values='visitorId', aggfunc='nunique')\n",
    "del result_visitorId['date']\n",
    "del result_visitorId['group']\n",
    "result_visitorId.reset_index(inplace=True)\n",
    "result_visitorId"
   ]
  },
  {
   "cell_type": "markdown",
   "metadata": {},
   "source": [
    "#Obtaining revenue per day\n",
    "result_revenue = orders.pivot_table(index=['date', 'group'], values='revenue', aggfunc='sum')\n",
    "result_revenue.reset_index(inplace=True)\n",
    "result_revenue"
   ]
  },
  {
   "cell_type": "markdown",
   "metadata": {},
   "source": [
    "#Obtaining visits per day\n",
    "result_visits = visits.pivot_table(index=['date', 'group'], values='visits', aggfunc='sum')\n",
    "result_visits.reset_index(inplace=True)\n",
    "result_visits"
   ]
  },
  {
   "cell_type": "markdown",
   "metadata": {},
   "source": [
    "#Combining columns into one table - no need to merge or join\n",
    "cumulativeData = datesGroups.copy()\n",
    "cumulativeData['transactionId'] = result_transactionId['transactionId']\n",
    "cumulativeData['visitorId'] = result_visitorId['visitorId']\n",
    "cumulativeData['revenue'] = result_revenue['revenue']\n",
    "cumulativeData['visits'] = result_visits['visits']\n",
    "\n",
    "cumulativeData.columns = [\n",
    "    'date',\n",
    "    'group',\n",
    "    'orders',\n",
    "    'buyers',\n",
    "    'revenue',\n",
    "    'visits',\n",
    "]\n",
    "cumulativeData"
   ]
  },
  {
   "cell_type": "markdown",
   "metadata": {},
   "source": [
    "<a id='3heading'></a>"
   ]
  },
  {
   "cell_type": "markdown",
   "metadata": {},
   "source": [
    "## Prioritizing Hypotheses"
   ]
  },
  {
   "cell_type": "code",
   "execution_count": 25,
   "metadata": {},
   "outputs": [
    {
     "data": {
      "text/html": [
       "<div>\n",
       "<style scoped>\n",
       "    .dataframe tbody tr th:only-of-type {\n",
       "        vertical-align: middle;\n",
       "    }\n",
       "\n",
       "    .dataframe tbody tr th {\n",
       "        vertical-align: top;\n",
       "    }\n",
       "\n",
       "    .dataframe thead th {\n",
       "        text-align: right;\n",
       "    }\n",
       "</style>\n",
       "<table border=\"1\" class=\"dataframe\">\n",
       "  <thead>\n",
       "    <tr style=\"text-align: right;\">\n",
       "      <th></th>\n",
       "      <th>Hypothesis</th>\n",
       "      <th>Reach</th>\n",
       "      <th>Impact</th>\n",
       "      <th>Confidence</th>\n",
       "      <th>Effort</th>\n",
       "    </tr>\n",
       "  </thead>\n",
       "  <tbody>\n",
       "    <tr>\n",
       "      <td>0</td>\n",
       "      <td>Add two new channels for attracting traffic. This will bring 30% more users</td>\n",
       "      <td>3</td>\n",
       "      <td>10</td>\n",
       "      <td>8</td>\n",
       "      <td>6</td>\n",
       "    </tr>\n",
       "    <tr>\n",
       "      <td>1</td>\n",
       "      <td>Launch your own delivery service. This will shorten delivery time</td>\n",
       "      <td>2</td>\n",
       "      <td>5</td>\n",
       "      <td>4</td>\n",
       "      <td>10</td>\n",
       "    </tr>\n",
       "    <tr>\n",
       "      <td>2</td>\n",
       "      <td>Add product recommendation blocks to the store's site. This will increase conversion and average purchase size</td>\n",
       "      <td>8</td>\n",
       "      <td>3</td>\n",
       "      <td>7</td>\n",
       "      <td>3</td>\n",
       "    </tr>\n",
       "    <tr>\n",
       "      <td>3</td>\n",
       "      <td>Change the category structure. This will increase conversion since users will find the products they want more quickly</td>\n",
       "      <td>8</td>\n",
       "      <td>3</td>\n",
       "      <td>3</td>\n",
       "      <td>8</td>\n",
       "    </tr>\n",
       "    <tr>\n",
       "      <td>4</td>\n",
       "      <td>Change the background color on the main page. This will increase user engagement</td>\n",
       "      <td>3</td>\n",
       "      <td>1</td>\n",
       "      <td>1</td>\n",
       "      <td>1</td>\n",
       "    </tr>\n",
       "    <tr>\n",
       "      <td>5</td>\n",
       "      <td>Add a customer review page. This will increase the number of orders</td>\n",
       "      <td>3</td>\n",
       "      <td>2</td>\n",
       "      <td>2</td>\n",
       "      <td>3</td>\n",
       "    </tr>\n",
       "    <tr>\n",
       "      <td>6</td>\n",
       "      <td>Show banners with current offers and sales on the main page. This will boost conversion</td>\n",
       "      <td>5</td>\n",
       "      <td>3</td>\n",
       "      <td>8</td>\n",
       "      <td>3</td>\n",
       "    </tr>\n",
       "    <tr>\n",
       "      <td>7</td>\n",
       "      <td>Add a subscription form to all the main pages. This will help you compile a mailing list</td>\n",
       "      <td>10</td>\n",
       "      <td>7</td>\n",
       "      <td>8</td>\n",
       "      <td>5</td>\n",
       "    </tr>\n",
       "    <tr>\n",
       "      <td>8</td>\n",
       "      <td>Launch a promotion that gives users discounts on their birthdays</td>\n",
       "      <td>1</td>\n",
       "      <td>9</td>\n",
       "      <td>9</td>\n",
       "      <td>5</td>\n",
       "    </tr>\n",
       "  </tbody>\n",
       "</table>\n",
       "</div>"
      ],
      "text/plain": [
       "                                                                                                               Hypothesis  \\\n",
       "0  Add two new channels for attracting traffic. This will bring 30% more users                                              \n",
       "1  Launch your own delivery service. This will shorten delivery time                                                        \n",
       "2  Add product recommendation blocks to the store's site. This will increase conversion and average purchase size           \n",
       "3  Change the category structure. This will increase conversion since users will find the products they want more quickly   \n",
       "4  Change the background color on the main page. This will increase user engagement                                         \n",
       "5  Add a customer review page. This will increase the number of orders                                                      \n",
       "6  Show banners with current offers and sales on the main page. This will boost conversion                                  \n",
       "7  Add a subscription form to all the main pages. This will help you compile a mailing list                                 \n",
       "8  Launch a promotion that gives users discounts on their birthdays                                                         \n",
       "\n",
       "   Reach  Impact  Confidence  Effort  \n",
       "0  3      10      8           6       \n",
       "1  2      5       4           10      \n",
       "2  8      3       7           3       \n",
       "3  8      3       3           8       \n",
       "4  3      1       1           1       \n",
       "5  3      2       2           3       \n",
       "6  5      3       8           3       \n",
       "7  10     7       8           5       \n",
       "8  1      9       9           5       "
      ]
     },
     "execution_count": 25,
     "metadata": {},
     "output_type": "execute_result"
    }
   ],
   "source": [
    "pd.set_option('max_colwidth', -1)\n",
    "hypotheses"
   ]
  },
  {
   "cell_type": "markdown",
   "metadata": {},
   "source": [
    "<div class=\"alert alert-info\">\n",
    "    \n",
    "Parameters are rated on a scale of 1 to 10.\n",
    "    \n",
    "</div>"
   ]
  },
  {
   "cell_type": "code",
   "execution_count": 26,
   "metadata": {},
   "outputs": [
    {
     "data": {
      "text/html": [
       "<div>\n",
       "<style scoped>\n",
       "    .dataframe tbody tr th:only-of-type {\n",
       "        vertical-align: middle;\n",
       "    }\n",
       "\n",
       "    .dataframe tbody tr th {\n",
       "        vertical-align: top;\n",
       "    }\n",
       "\n",
       "    .dataframe thead th {\n",
       "        text-align: right;\n",
       "    }\n",
       "</style>\n",
       "<table border=\"1\" class=\"dataframe\">\n",
       "  <thead>\n",
       "    <tr style=\"text-align: right;\">\n",
       "      <th></th>\n",
       "      <th>Hypothesis</th>\n",
       "      <th>Reach</th>\n",
       "      <th>Impact</th>\n",
       "      <th>Confidence</th>\n",
       "      <th>Effort</th>\n",
       "      <th>ICE</th>\n",
       "      <th>RICE</th>\n",
       "    </tr>\n",
       "  </thead>\n",
       "  <tbody>\n",
       "    <tr>\n",
       "      <td>0</td>\n",
       "      <td>Add two new channels for attracting traffic. This will bring 30% more users</td>\n",
       "      <td>3</td>\n",
       "      <td>10</td>\n",
       "      <td>8</td>\n",
       "      <td>6</td>\n",
       "      <td>13.333333</td>\n",
       "      <td>40.0</td>\n",
       "    </tr>\n",
       "    <tr>\n",
       "      <td>1</td>\n",
       "      <td>Launch your own delivery service. This will shorten delivery time</td>\n",
       "      <td>2</td>\n",
       "      <td>5</td>\n",
       "      <td>4</td>\n",
       "      <td>10</td>\n",
       "      <td>2.000000</td>\n",
       "      <td>4.0</td>\n",
       "    </tr>\n",
       "    <tr>\n",
       "      <td>2</td>\n",
       "      <td>Add product recommendation blocks to the store's site. This will increase conversion and average purchase size</td>\n",
       "      <td>8</td>\n",
       "      <td>3</td>\n",
       "      <td>7</td>\n",
       "      <td>3</td>\n",
       "      <td>7.000000</td>\n",
       "      <td>56.0</td>\n",
       "    </tr>\n",
       "    <tr>\n",
       "      <td>3</td>\n",
       "      <td>Change the category structure. This will increase conversion since users will find the products they want more quickly</td>\n",
       "      <td>8</td>\n",
       "      <td>3</td>\n",
       "      <td>3</td>\n",
       "      <td>8</td>\n",
       "      <td>1.125000</td>\n",
       "      <td>9.0</td>\n",
       "    </tr>\n",
       "    <tr>\n",
       "      <td>4</td>\n",
       "      <td>Change the background color on the main page. This will increase user engagement</td>\n",
       "      <td>3</td>\n",
       "      <td>1</td>\n",
       "      <td>1</td>\n",
       "      <td>1</td>\n",
       "      <td>1.000000</td>\n",
       "      <td>3.0</td>\n",
       "    </tr>\n",
       "    <tr>\n",
       "      <td>5</td>\n",
       "      <td>Add a customer review page. This will increase the number of orders</td>\n",
       "      <td>3</td>\n",
       "      <td>2</td>\n",
       "      <td>2</td>\n",
       "      <td>3</td>\n",
       "      <td>1.333333</td>\n",
       "      <td>4.0</td>\n",
       "    </tr>\n",
       "    <tr>\n",
       "      <td>6</td>\n",
       "      <td>Show banners with current offers and sales on the main page. This will boost conversion</td>\n",
       "      <td>5</td>\n",
       "      <td>3</td>\n",
       "      <td>8</td>\n",
       "      <td>3</td>\n",
       "      <td>8.000000</td>\n",
       "      <td>40.0</td>\n",
       "    </tr>\n",
       "    <tr>\n",
       "      <td>7</td>\n",
       "      <td>Add a subscription form to all the main pages. This will help you compile a mailing list</td>\n",
       "      <td>10</td>\n",
       "      <td>7</td>\n",
       "      <td>8</td>\n",
       "      <td>5</td>\n",
       "      <td>11.200000</td>\n",
       "      <td>112.0</td>\n",
       "    </tr>\n",
       "    <tr>\n",
       "      <td>8</td>\n",
       "      <td>Launch a promotion that gives users discounts on their birthdays</td>\n",
       "      <td>1</td>\n",
       "      <td>9</td>\n",
       "      <td>9</td>\n",
       "      <td>5</td>\n",
       "      <td>16.200000</td>\n",
       "      <td>16.2</td>\n",
       "    </tr>\n",
       "  </tbody>\n",
       "</table>\n",
       "</div>"
      ],
      "text/plain": [
       "                                                                                                               Hypothesis  \\\n",
       "0  Add two new channels for attracting traffic. This will bring 30% more users                                              \n",
       "1  Launch your own delivery service. This will shorten delivery time                                                        \n",
       "2  Add product recommendation blocks to the store's site. This will increase conversion and average purchase size           \n",
       "3  Change the category structure. This will increase conversion since users will find the products they want more quickly   \n",
       "4  Change the background color on the main page. This will increase user engagement                                         \n",
       "5  Add a customer review page. This will increase the number of orders                                                      \n",
       "6  Show banners with current offers and sales on the main page. This will boost conversion                                  \n",
       "7  Add a subscription form to all the main pages. This will help you compile a mailing list                                 \n",
       "8  Launch a promotion that gives users discounts on their birthdays                                                         \n",
       "\n",
       "   Reach  Impact  Confidence  Effort        ICE   RICE  \n",
       "0  3      10      8           6       13.333333  40.0   \n",
       "1  2      5       4           10      2.000000   4.0    \n",
       "2  8      3       7           3       7.000000   56.0   \n",
       "3  8      3       3           8       1.125000   9.0    \n",
       "4  3      1       1           1       1.000000   3.0    \n",
       "5  3      2       2           3       1.333333   4.0    \n",
       "6  5      3       8           3       8.000000   40.0   \n",
       "7  10     7       8           5       11.200000  112.0  \n",
       "8  1      9       9           5       16.200000  16.2   "
      ]
     },
     "execution_count": 26,
     "metadata": {},
     "output_type": "execute_result"
    }
   ],
   "source": [
    "#Adding ICE framework to prioritize hypotheses\n",
    "hypotheses['ICE'] = (hypotheses['Impact'] * hypotheses['Confidence'])/hypotheses['Effort']\n",
    "\n",
    "#Adding RICE framework to prioritize hypotheses\n",
    "hypotheses['RICE'] = (hypotheses['Reach'] * hypotheses['Impact'] * hypotheses['Confidence'])/hypotheses['Effort']\n",
    "\n",
    "hypotheses"
   ]
  },
  {
   "cell_type": "code",
   "execution_count": 27,
   "metadata": {},
   "outputs": [
    {
     "data": {
      "text/html": [
       "<div>\n",
       "<style scoped>\n",
       "    .dataframe tbody tr th:only-of-type {\n",
       "        vertical-align: middle;\n",
       "    }\n",
       "\n",
       "    .dataframe tbody tr th {\n",
       "        vertical-align: top;\n",
       "    }\n",
       "\n",
       "    .dataframe thead th {\n",
       "        text-align: right;\n",
       "    }\n",
       "</style>\n",
       "<table border=\"1\" class=\"dataframe\">\n",
       "  <thead>\n",
       "    <tr style=\"text-align: right;\">\n",
       "      <th></th>\n",
       "      <th>Hypothesis</th>\n",
       "      <th>ICE</th>\n",
       "    </tr>\n",
       "  </thead>\n",
       "  <tbody>\n",
       "    <tr>\n",
       "      <td>8</td>\n",
       "      <td>Launch a promotion that gives users discounts on their birthdays</td>\n",
       "      <td>16.200000</td>\n",
       "    </tr>\n",
       "    <tr>\n",
       "      <td>0</td>\n",
       "      <td>Add two new channels for attracting traffic. This will bring 30% more users</td>\n",
       "      <td>13.333333</td>\n",
       "    </tr>\n",
       "    <tr>\n",
       "      <td>7</td>\n",
       "      <td>Add a subscription form to all the main pages. This will help you compile a mailing list</td>\n",
       "      <td>11.200000</td>\n",
       "    </tr>\n",
       "    <tr>\n",
       "      <td>6</td>\n",
       "      <td>Show banners with current offers and sales on the main page. This will boost conversion</td>\n",
       "      <td>8.000000</td>\n",
       "    </tr>\n",
       "    <tr>\n",
       "      <td>2</td>\n",
       "      <td>Add product recommendation blocks to the store's site. This will increase conversion and average purchase size</td>\n",
       "      <td>7.000000</td>\n",
       "    </tr>\n",
       "    <tr>\n",
       "      <td>1</td>\n",
       "      <td>Launch your own delivery service. This will shorten delivery time</td>\n",
       "      <td>2.000000</td>\n",
       "    </tr>\n",
       "    <tr>\n",
       "      <td>5</td>\n",
       "      <td>Add a customer review page. This will increase the number of orders</td>\n",
       "      <td>1.333333</td>\n",
       "    </tr>\n",
       "    <tr>\n",
       "      <td>3</td>\n",
       "      <td>Change the category structure. This will increase conversion since users will find the products they want more quickly</td>\n",
       "      <td>1.125000</td>\n",
       "    </tr>\n",
       "    <tr>\n",
       "      <td>4</td>\n",
       "      <td>Change the background color on the main page. This will increase user engagement</td>\n",
       "      <td>1.000000</td>\n",
       "    </tr>\n",
       "  </tbody>\n",
       "</table>\n",
       "</div>"
      ],
      "text/plain": [
       "                                                                                                               Hypothesis  \\\n",
       "8  Launch a promotion that gives users discounts on their birthdays                                                         \n",
       "0  Add two new channels for attracting traffic. This will bring 30% more users                                              \n",
       "7  Add a subscription form to all the main pages. This will help you compile a mailing list                                 \n",
       "6  Show banners with current offers and sales on the main page. This will boost conversion                                  \n",
       "2  Add product recommendation blocks to the store's site. This will increase conversion and average purchase size           \n",
       "1  Launch your own delivery service. This will shorten delivery time                                                        \n",
       "5  Add a customer review page. This will increase the number of orders                                                      \n",
       "3  Change the category structure. This will increase conversion since users will find the products they want more quickly   \n",
       "4  Change the background color on the main page. This will increase user engagement                                         \n",
       "\n",
       "         ICE  \n",
       "8  16.200000  \n",
       "0  13.333333  \n",
       "7  11.200000  \n",
       "6  8.000000   \n",
       "2  7.000000   \n",
       "1  2.000000   \n",
       "5  1.333333   \n",
       "3  1.125000   \n",
       "4  1.000000   "
      ]
     },
     "metadata": {},
     "output_type": "display_data"
    }
   ],
   "source": [
    "#Displaying hypothesis in order of prioritiy based on ICE method\n",
    "display(hypotheses[['Hypothesis', 'ICE']].sort_values(by='ICE', ascending=False))"
   ]
  },
  {
   "cell_type": "code",
   "execution_count": 28,
   "metadata": {},
   "outputs": [
    {
     "data": {
      "text/html": [
       "<div>\n",
       "<style scoped>\n",
       "    .dataframe tbody tr th:only-of-type {\n",
       "        vertical-align: middle;\n",
       "    }\n",
       "\n",
       "    .dataframe tbody tr th {\n",
       "        vertical-align: top;\n",
       "    }\n",
       "\n",
       "    .dataframe thead th {\n",
       "        text-align: right;\n",
       "    }\n",
       "</style>\n",
       "<table border=\"1\" class=\"dataframe\">\n",
       "  <thead>\n",
       "    <tr style=\"text-align: right;\">\n",
       "      <th></th>\n",
       "      <th>Hypothesis</th>\n",
       "      <th>RICE</th>\n",
       "    </tr>\n",
       "  </thead>\n",
       "  <tbody>\n",
       "    <tr>\n",
       "      <td>7</td>\n",
       "      <td>Add a subscription form to all the main pages. This will help you compile a mailing list</td>\n",
       "      <td>112.0</td>\n",
       "    </tr>\n",
       "    <tr>\n",
       "      <td>2</td>\n",
       "      <td>Add product recommendation blocks to the store's site. This will increase conversion and average purchase size</td>\n",
       "      <td>56.0</td>\n",
       "    </tr>\n",
       "    <tr>\n",
       "      <td>0</td>\n",
       "      <td>Add two new channels for attracting traffic. This will bring 30% more users</td>\n",
       "      <td>40.0</td>\n",
       "    </tr>\n",
       "    <tr>\n",
       "      <td>6</td>\n",
       "      <td>Show banners with current offers and sales on the main page. This will boost conversion</td>\n",
       "      <td>40.0</td>\n",
       "    </tr>\n",
       "    <tr>\n",
       "      <td>8</td>\n",
       "      <td>Launch a promotion that gives users discounts on their birthdays</td>\n",
       "      <td>16.2</td>\n",
       "    </tr>\n",
       "    <tr>\n",
       "      <td>3</td>\n",
       "      <td>Change the category structure. This will increase conversion since users will find the products they want more quickly</td>\n",
       "      <td>9.0</td>\n",
       "    </tr>\n",
       "    <tr>\n",
       "      <td>1</td>\n",
       "      <td>Launch your own delivery service. This will shorten delivery time</td>\n",
       "      <td>4.0</td>\n",
       "    </tr>\n",
       "    <tr>\n",
       "      <td>5</td>\n",
       "      <td>Add a customer review page. This will increase the number of orders</td>\n",
       "      <td>4.0</td>\n",
       "    </tr>\n",
       "    <tr>\n",
       "      <td>4</td>\n",
       "      <td>Change the background color on the main page. This will increase user engagement</td>\n",
       "      <td>3.0</td>\n",
       "    </tr>\n",
       "  </tbody>\n",
       "</table>\n",
       "</div>"
      ],
      "text/plain": [
       "                                                                                                               Hypothesis  \\\n",
       "7  Add a subscription form to all the main pages. This will help you compile a mailing list                                 \n",
       "2  Add product recommendation blocks to the store's site. This will increase conversion and average purchase size           \n",
       "0  Add two new channels for attracting traffic. This will bring 30% more users                                              \n",
       "6  Show banners with current offers and sales on the main page. This will boost conversion                                  \n",
       "8  Launch a promotion that gives users discounts on their birthdays                                                         \n",
       "3  Change the category structure. This will increase conversion since users will find the products they want more quickly   \n",
       "1  Launch your own delivery service. This will shorten delivery time                                                        \n",
       "5  Add a customer review page. This will increase the number of orders                                                      \n",
       "4  Change the background color on the main page. This will increase user engagement                                         \n",
       "\n",
       "    RICE  \n",
       "7  112.0  \n",
       "2  56.0   \n",
       "0  40.0   \n",
       "6  40.0   \n",
       "8  16.2   \n",
       "3  9.0    \n",
       "1  4.0    \n",
       "5  4.0    \n",
       "4  3.0    "
      ]
     },
     "metadata": {},
     "output_type": "display_data"
    }
   ],
   "source": [
    "#Displaying hypothesis in order of prioritiy based on RICE method\n",
    "display(hypotheses[['Hypothesis', 'RICE']].sort_values(by='RICE', ascending=False))"
   ]
  },
  {
   "cell_type": "markdown",
   "metadata": {},
   "source": [
    "<div class=\"alert alert-info\">\n",
    "\n",
    "The difference between the ICE and RICE frameworks is that RICE includes Reach in its calculation. The priority results are similar for both frameworks, with minor differences:\n",
    "- Hypothesis 2 changes from medium priority in ICE to being \\#2 on our RICE list.\n",
    "- Hypothesis 8 goes from being \\#1 to being medium priority in RICE.\n",
    "- Hypotheses 0 and 7 still remain in the top three.\n",
    "- Hypothesis 6 remains the same at \\#4.\n",
    "- Hypotheses 3, 1, 5, and 4 stay in the same low priority range.\n",
    "\n",
    "</div>"
   ]
  },
  {
   "cell_type": "markdown",
   "metadata": {},
   "source": [
    "<a id='4heading'></a>"
   ]
  },
  {
   "cell_type": "markdown",
   "metadata": {},
   "source": [
    "## A/B Test Analysis"
   ]
  },
  {
   "cell_type": "markdown",
   "metadata": {},
   "source": [
    "<a id='4.1heading'></a>"
   ]
  },
  {
   "cell_type": "markdown",
   "metadata": {},
   "source": [
    "<div class=\"alert alert-block alert-danger\">\n",
    "<b>Reviewer's comment</b> <a class=\"tocSkip\"></a>\n",
    "    \n",
    "~I will continue to review your project after returning rows. :)~ \n",
    "</div>\n"
   ]
  },
  {
   "cell_type": "code",
   "execution_count": 29,
   "metadata": {},
   "outputs": [
    {
     "name": "stdout",
     "output_type": "stream",
     "text": [
      "<class 'pandas.core.frame.DataFrame'>\n",
      "RangeIndex: 1197 entries, 0 to 1196\n",
      "Data columns (total 5 columns):\n",
      "transactionId    1197 non-null int64\n",
      "visitorId        1197 non-null int64\n",
      "date             1197 non-null datetime64[ns]\n",
      "revenue          1197 non-null float64\n",
      "group            1197 non-null object\n",
      "dtypes: datetime64[ns](1), float64(1), int64(2), object(1)\n",
      "memory usage: 46.9+ KB\n"
     ]
    }
   ],
   "source": [
    "orders_2 = pd.read_csv('/datasets/orders_us.csv', parse_dates=['date'])\n",
    "\n",
    "orders_2.info()"
   ]
  },
  {
   "cell_type": "code",
   "execution_count": 30,
   "metadata": {},
   "outputs": [
    {
     "name": "stdout",
     "output_type": "stream",
     "text": [
      "<class 'pandas.core.frame.DataFrame'>\n",
      "RangeIndex: 62 entries, 0 to 61\n",
      "Data columns (total 3 columns):\n",
      "date      62 non-null datetime64[ns]\n",
      "group     62 non-null object\n",
      "visits    62 non-null int64\n",
      "dtypes: datetime64[ns](1), int64(1), object(1)\n",
      "memory usage: 1.6+ KB\n"
     ]
    }
   ],
   "source": [
    "visits_2 = pd.read_csv('/datasets/visits_us.csv', parse_dates=['date'])\n",
    "visits_2.info()"
   ]
  },
  {
   "cell_type": "code",
   "execution_count": 31,
   "metadata": {},
   "outputs": [
    {
     "data": {
      "text/html": [
       "<div>\n",
       "<style scoped>\n",
       "    .dataframe tbody tr th:only-of-type {\n",
       "        vertical-align: middle;\n",
       "    }\n",
       "\n",
       "    .dataframe tbody tr th {\n",
       "        vertical-align: top;\n",
       "    }\n",
       "\n",
       "    .dataframe thead th {\n",
       "        text-align: right;\n",
       "    }\n",
       "</style>\n",
       "<table border=\"1\" class=\"dataframe\">\n",
       "  <thead>\n",
       "    <tr style=\"text-align: right;\">\n",
       "      <th></th>\n",
       "      <th>date</th>\n",
       "      <th>group</th>\n",
       "      <th>orders</th>\n",
       "      <th>buyers</th>\n",
       "      <th>revenue</th>\n",
       "      <th>visits</th>\n",
       "    </tr>\n",
       "  </thead>\n",
       "  <tbody>\n",
       "    <tr>\n",
       "      <td>0</td>\n",
       "      <td>2019-08-01</td>\n",
       "      <td>A</td>\n",
       "      <td>24</td>\n",
       "      <td>20</td>\n",
       "      <td>2356.8</td>\n",
       "      <td>719</td>\n",
       "    </tr>\n",
       "    <tr>\n",
       "      <td>1</td>\n",
       "      <td>2019-08-01</td>\n",
       "      <td>B</td>\n",
       "      <td>21</td>\n",
       "      <td>20</td>\n",
       "      <td>1620.0</td>\n",
       "      <td>713</td>\n",
       "    </tr>\n",
       "    <tr>\n",
       "      <td>2</td>\n",
       "      <td>2019-08-02</td>\n",
       "      <td>A</td>\n",
       "      <td>44</td>\n",
       "      <td>38</td>\n",
       "      <td>3860.3</td>\n",
       "      <td>1338</td>\n",
       "    </tr>\n",
       "    <tr>\n",
       "      <td>3</td>\n",
       "      <td>2019-08-02</td>\n",
       "      <td>B</td>\n",
       "      <td>45</td>\n",
       "      <td>43</td>\n",
       "      <td>4243.8</td>\n",
       "      <td>1294</td>\n",
       "    </tr>\n",
       "    <tr>\n",
       "      <td>4</td>\n",
       "      <td>2019-08-03</td>\n",
       "      <td>A</td>\n",
       "      <td>68</td>\n",
       "      <td>62</td>\n",
       "      <td>5675.5</td>\n",
       "      <td>1845</td>\n",
       "    </tr>\n",
       "  </tbody>\n",
       "</table>\n",
       "</div>"
      ],
      "text/plain": [
       "        date group  orders  buyers  revenue  visits\n",
       "0 2019-08-01  A     24      20      2356.8   719   \n",
       "1 2019-08-01  B     21      20      1620.0   713   \n",
       "2 2019-08-02  A     44      38      3860.3   1338  \n",
       "3 2019-08-02  B     45      43      4243.8   1294  \n",
       "4 2019-08-03  A     68      62      5675.5   1845  "
      ]
     },
     "execution_count": 31,
     "metadata": {},
     "output_type": "execute_result"
    }
   ],
   "source": [
    "#building an array with unique paired date-group values \n",
    "datesGroups = orders_2[['date', 'group']].drop_duplicates()\n",
    "\n",
    "#Obtaining transactionId column\n",
    "ordersAggregated1 = datesGroups.apply(lambda x: orders_2[np.logical_and(orders_2['date'] <= x['date'], orders_2['group'] == x['group'])].agg({'date' : 'max', 'transactionId' : pd.Series.nunique}), axis=1)\n",
    "\n",
    "#Obtaining visitorId column\n",
    "ordersAggregated2 = datesGroups.apply(lambda x: orders_2[np.logical_and(orders_2['date'] <= x['date'], orders_2['group'] == x['group'])].agg({'date' : 'max', 'visitorId' : pd.Series.nunique}), axis=1)\n",
    "\n",
    "#Obtaining revenue column\n",
    "ordersAggregated3 = datesGroups.apply(lambda x: orders_2[np.logical_and(orders_2['date'] <= x['date'], orders_2['group'] == x['group'])].agg({'date' : 'max', 'revenue' : 'sum'}), axis=1)\n",
    "\n",
    "#Obtaining visits column\n",
    "visitorsAggregated1 = datesGroups.apply(lambda x: visits_2[np.logical_and(visits_2['date'] <= x['date'], visits_2['group'] == x['group'])].agg({'date' : 'max', 'visits' : 'sum'}), axis=1)\n",
    "\n",
    "#Combining columns into one table - no need to merge or join\n",
    "cumulativeData = datesGroups.copy()\n",
    "cumulativeData['transactionId'] = ordersAggregated1['transactionId']\n",
    "cumulativeData['visitorId'] = ordersAggregated2['visitorId']\n",
    "cumulativeData['revenue'] = ordersAggregated3['revenue']\n",
    "cumulativeData['visits'] = visitorsAggregated1['visits']\n",
    "cumulativeData = cumulativeData.sort_values(by=['date','group']).reset_index(drop=True)\n",
    "\n",
    "#Assigning column names\n",
    "cumulativeData.columns = [\n",
    "    'date',\n",
    "    'group',\n",
    "    'orders',\n",
    "    'buyers',\n",
    "    'revenue',\n",
    "    'visits',\n",
    "]\n",
    "cumulativeData.head()"
   ]
  },
  {
   "cell_type": "markdown",
   "metadata": {},
   "source": [
    "### Cumulative Revenue by Group"
   ]
  },
  {
   "cell_type": "code",
   "execution_count": 32,
   "metadata": {},
   "outputs": [
    {
     "name": "stderr",
     "output_type": "stream",
     "text": [
      "/opt/conda/lib/python3.7/site-packages/pandas/plotting/_matplotlib/converter.py:103: FutureWarning: Using an implicitly registered datetime converter for a matplotlib plotting method. The converter was registered by pandas on import. Future versions of pandas will require you to explicitly register matplotlib converters.\n",
      "\n",
      "To register the converters:\n",
      "\t>>> from pandas.plotting import register_matplotlib_converters\n",
      "\t>>> register_matplotlib_converters()\n",
      "  warnings.warn(msg, FutureWarning)\n"
     ]
    },
    {
     "data": {
      "image/png": "[encoded data removed]",
      "text/plain": [
       "<Figure size 432x288 with 1 Axes>"
      ]
     },
     "metadata": {
      "needs_background": "light"
     },
     "output_type": "display_data"
    }
   ],
   "source": [
    "# DataFrame with cumulative orders and cumulative revenue by day, group A and group B\n",
    "cumulativeRevenueA = cumulativeData[cumulativeData['group']=='A'][['date','revenue', 'orders']]\n",
    "cumulativeRevenueB = cumulativeData[cumulativeData['group']=='B'][['date','revenue', 'orders']]\n",
    "\n",
    "# Plotting the group A and B revenue graph \n",
    "plt.plot(cumulativeRevenueA['date'], cumulativeRevenueA['revenue'], label='A')\n",
    "plt.plot(cumulativeRevenueB['date'], cumulativeRevenueB['revenue'], label='B')\n",
    "plt.title('Cumulative Revenue by Group')\n",
    "plt.xlabel('Date', rotation=0)\n",
    "plt.xticks(rotation=30)\n",
    "plt.ylabel('Revenue           ', rotation=0)\n",
    "plt.legend()\n",
    "plt.show()"
   ]
  },
  {
   "cell_type": "markdown",
   "metadata": {},
   "source": [
    "<div class=\"alert alert-info\">\n",
    "It seems that Group B accomuluated more revenue in the month of August. We do see a spike on date 2019-08-19 for Group B, which takes into account an outlier dealt with in section 4.6.\n",
    "</div>"
   ]
  },
  {
   "cell_type": "markdown",
   "metadata": {},
   "source": [
    "<a id='4.2heading'></a>"
   ]
  },
  {
   "cell_type": "markdown",
   "metadata": {},
   "source": [
    "### Cumulative Average Order Size by Group"
   ]
  },
  {
   "cell_type": "code",
   "execution_count": 33,
   "metadata": {},
   "outputs": [
    {
     "data": {
      "image/png": "[encoded data removed]",
      "text/plain": [
       "<Figure size 432x288 with 1 Axes>"
      ]
     },
     "metadata": {
      "needs_background": "light"
     },
     "output_type": "display_data"
    }
   ],
   "source": [
    "#Plotting graph showing daily average order size for each group\n",
    "plt.plot(cumulativeRevenueA['date'], cumulativeRevenueA['revenue']/cumulativeRevenueA['orders'], label='A')\n",
    "plt.plot(cumulativeRevenueB['date'], cumulativeRevenueB['revenue']/cumulativeRevenueB['orders'], label='B')\n",
    "plt.title('Cumulative Average Order Size by Group')\n",
    "plt.xlabel('Date', rotation=0)\n",
    "plt.xticks(rotation=30)\n",
    "plt.ylabel('Order Size                ', rotation=0)\n",
    "plt.legend()\n",
    "plt.show()"
   ]
  },
  {
   "cell_type": "markdown",
   "metadata": {},
   "source": [
    "<div class=\"alert alert-info\">\n",
    "By looing at this graph, we can see that Group B had bigger average order sizes throughout the month of August. We do see a spike on date 2019-08-19 for Group B, which takes into account an outlier dealt with in section 4.6.\n",
    "</div>"
   ]
  },
  {
   "cell_type": "markdown",
   "metadata": {},
   "source": [
    "<a id='4.3heading'></a>"
   ]
  },
  {
   "cell_type": "markdown",
   "metadata": {},
   "source": [
    "### Difference in Cumulative Average Order Size for Group B Compared to Group A"
   ]
  },
  {
   "cell_type": "code",
   "execution_count": 34,
   "metadata": {},
   "outputs": [
    {
     "data": {
      "image/png": "[encoded data removed]",
      "text/plain": [
       "<Figure size 432x288 with 1 Axes>"
      ]
     },
     "metadata": {
      "needs_background": "light"
     },
     "output_type": "display_data"
    }
   ],
   "source": [
    "#Plotting graph showing the differene in daily average order size for Group B compared to Group A\n",
    "mergedCumulativeRevenue = cumulativeRevenueA.merge(cumulativeRevenueB, left_on='date', right_on='date', how='left', suffixes=['A', 'B'])\n",
    "\n",
    "plt.plot(mergedCumulativeRevenue['date'], (mergedCumulativeRevenue['revenueB']/mergedCumulativeRevenue['ordersB'])/(mergedCumulativeRevenue['revenueA']/mergedCumulativeRevenue['ordersB'])-1)\n",
    "plt.axhline(y=0, color='black', linestyle='--')\n",
    "plt.title('Relative Difference: Cumulative Average Order Size of Group B to Group A')\n",
    "plt.xlabel('Date', rotation=0)\n",
    "plt.xticks(rotation=75)\n",
    "plt.ylabel('Difference           ', rotation=0)\n",
    "plt.show()"
   ]
  },
  {
   "cell_type": "markdown",
   "metadata": {},
   "source": [
    "<div class=\"alert alert-info\">\n",
    "Our graph shows that the difference in cumulative average orders size is bigger for Group B compared to Group A.\n",
    "</div>"
   ]
  },
  {
   "cell_type": "markdown",
   "metadata": {},
   "source": [
    "<a id='4.4heading'></a>"
   ]
  },
  {
   "cell_type": "markdown",
   "metadata": {},
   "source": [
    "### Conversion Rate"
   ]
  },
  {
   "cell_type": "code",
   "execution_count": 35,
   "metadata": {},
   "outputs": [],
   "source": [
    "#Adding conversion column\n",
    "cumulativeData['conversion'] = cumulativeData['orders']/cumulativeData['visits']\n",
    "\n",
    "#Separating data by groups\n",
    "cumulativeDataA = cumulativeData[cumulativeData['group']=='A']\n",
    "cumulativeDataB = cumulativeData[cumulativeData['group']=='B']"
   ]
  },
  {
   "cell_type": "code",
   "execution_count": 36,
   "metadata": {},
   "outputs": [
    {
     "data": {
      "image/png": "[encoded data removed]",
      "text/plain": [
       "<Figure size 432x288 with 1 Axes>"
      ]
     },
     "metadata": {
      "needs_background": "light"
     },
     "output_type": "display_data"
    }
   ],
   "source": [
    "#Plotting daily conversion rate\n",
    "plt.plot(cumulativeDataA['date'], cumulativeDataA['conversion'], label='A')\n",
    "plt.plot(cumulativeDataB['date'], cumulativeDataB['conversion'], label='B')\n",
    "plt.title('Daily Conversion Rate')\n",
    "plt.xlabel('Date', rotation=0)\n",
    "plt.xticks(rotation=30)\n",
    "plt.ylabel('Conversion Rate                         ', rotation=0)\n",
    "plt.legend()\n",
    "plt.axis([\"2019-08-01\", '2019-08-31', 0, 0.07])\n",
    "plt.show()"
   ]
  },
  {
   "cell_type": "markdown",
   "metadata": {},
   "source": [
    "<div class=\"alert alert-info\">\n",
    "Group B seems to have a higher daily conversion rate, but we don't know yet if the difference is significant.\n",
    "</div>"
   ]
  },
  {
   "cell_type": "markdown",
   "metadata": {},
   "source": [
    "<a id='4.5heading'></a>"
   ]
  },
  {
   "cell_type": "markdown",
   "metadata": {},
   "source": [
    "### Orders Per User"
   ]
  },
  {
   "cell_type": "code",
   "execution_count": 37,
   "metadata": {},
   "outputs": [
    {
     "data": {
      "text/html": [
       "<div>\n",
       "<style scoped>\n",
       "    .dataframe tbody tr th:only-of-type {\n",
       "        vertical-align: middle;\n",
       "    }\n",
       "\n",
       "    .dataframe tbody tr th {\n",
       "        vertical-align: top;\n",
       "    }\n",
       "\n",
       "    .dataframe thead th {\n",
       "        text-align: right;\n",
       "    }\n",
       "</style>\n",
       "<table border=\"1\" class=\"dataframe\">\n",
       "  <thead>\n",
       "    <tr style=\"text-align: right;\">\n",
       "      <th></th>\n",
       "      <th>visitorId</th>\n",
       "      <th>transactionId</th>\n",
       "    </tr>\n",
       "  </thead>\n",
       "  <tbody>\n",
       "    <tr>\n",
       "      <td>0</td>\n",
       "      <td>5114589</td>\n",
       "      <td>1</td>\n",
       "    </tr>\n",
       "    <tr>\n",
       "      <td>1</td>\n",
       "      <td>6958315</td>\n",
       "      <td>1</td>\n",
       "    </tr>\n",
       "    <tr>\n",
       "      <td>2</td>\n",
       "      <td>8300375</td>\n",
       "      <td>2</td>\n",
       "    </tr>\n",
       "    <tr>\n",
       "      <td>3</td>\n",
       "      <td>11685486</td>\n",
       "      <td>1</td>\n",
       "    </tr>\n",
       "    <tr>\n",
       "      <td>4</td>\n",
       "      <td>39475350</td>\n",
       "      <td>1</td>\n",
       "    </tr>\n",
       "  </tbody>\n",
       "</table>\n",
       "</div>"
      ],
      "text/plain": [
       "   visitorId  transactionId\n",
       "0  5114589    1            \n",
       "1  6958315    1            \n",
       "2  8300375    2            \n",
       "3  11685486   1            \n",
       "4  39475350   1            "
      ]
     },
     "execution_count": 37,
     "metadata": {},
     "output_type": "execute_result"
    }
   ],
   "source": [
    "#Dataframe containing orders placed by user\n",
    "ordersByUsers = (\n",
    "    orders_2.drop(['group', 'revenue', 'date'], axis=1)\n",
    "    .groupby('visitorId', as_index=False)\n",
    "    .agg({'transactionId': pd.Series.nunique})\n",
    ")\n",
    "ordersByUsers.head()"
   ]
  },
  {
   "cell_type": "code",
   "execution_count": 38,
   "metadata": {},
   "outputs": [
    {
     "data": {
      "image/png": "[encoded data removed]",
      "text/plain": [
       "<Figure size 432x288 with 1 Axes>"
      ]
     },
     "metadata": {
      "needs_background": "light"
     },
     "output_type": "display_data"
    }
   ],
   "source": [
    "#Plotting histogram with scatter method for the number of order per user\n",
    "x_values = pd.Series(range(0,len(ordersByUsers)))\n",
    "\n",
    "plt.scatter(x_values, ordersByUsers['transactionId'])\n",
    "plt.title('Orders per User')\n",
    "plt.xlabel('Each User', rotation=0)\n",
    "plt.xticks(rotation=75)\n",
    "plt.ylabel('Orders           ', rotation=0)\n",
    "plt.show()"
   ]
  },
  {
   "cell_type": "markdown",
   "metadata": {},
   "source": [
    "<div class=\"alert alert-info\">\n",
    "Most of the users placed 1 through 3 orders. We have a couple of outliers that placed 5 or more orders.\n",
    "</div>"
   ]
  },
  {
   "cell_type": "code",
   "execution_count": 39,
   "metadata": {},
   "outputs": [
    {
     "name": "stdout",
     "output_type": "stream",
     "text": [
      "[2. 4.]\n"
     ]
    }
   ],
   "source": [
    "#Calculating 95th and 99th percentiles for the number of orders per user\n",
    "print(np.percentile(ordersByUsers['transactionId'], [95, 99])) "
   ]
  },
  {
   "cell_type": "markdown",
   "metadata": {},
   "source": [
    "<div class=\"alert alert-info\">\n",
    "We will consider users who placed 4 for more orders as anomalies.\n",
    "</div>"
   ]
  },
  {
   "cell_type": "markdown",
   "metadata": {},
   "source": [
    "<a id='4.6heading'></a>"
   ]
  },
  {
   "cell_type": "markdown",
   "metadata": {},
   "source": [
    "### Order Prices"
   ]
  },
  {
   "cell_type": "code",
   "execution_count": 40,
   "metadata": {},
   "outputs": [
    {
     "data": {
      "image/png": "[encoded data removed]",
      "text/plain": [
       "<Figure size 432x288 with 1 Axes>"
      ]
     },
     "metadata": {
      "needs_background": "light"
     },
     "output_type": "display_data"
    }
   ],
   "source": [
    "#Plotting histogram with scatter method for the number of order per user\n",
    "x_values = pd.Series(range(0,len(orders_2['revenue'])))\n",
    "\n",
    "plt.scatter(x_values, orders_2['revenue'])\n",
    "plt.title('Prices for All Orders')\n",
    "plt.xlabel('Each Order', rotation=0)\n",
    "plt.xticks(rotation=75)\n",
    "plt.ylabel('Orders           ', rotation=0)\n",
    "plt.show()"
   ]
  },
  {
   "cell_type": "markdown",
   "metadata": {},
   "source": [
    "<div class=\"alert alert-info\">\n",
    "This plot shows the outlier that influenced the charts in sections 4.1 and 4.2. Please take note of the outlier who placed an order of almost 20,000 dollars.\n",
    "</div>"
   ]
  },
  {
   "cell_type": "code",
   "execution_count": 41,
   "metadata": {},
   "outputs": [
    {
     "name": "stdout",
     "output_type": "stream",
     "text": [
      "[435.54  900.904]\n"
     ]
    }
   ],
   "source": [
    "#Calculating 95th and 99th percentiles for the prices of orders\n",
    "print(np.percentile(orders_2['revenue'], [95, 99])) "
   ]
  },
  {
   "cell_type": "markdown",
   "metadata": {},
   "source": [
    "<div class=\"alert alert-info\">\n",
    "We will consider orders with prices above 900.9 as anomalies.\n",
    "</div>"
   ]
  },
  {
   "cell_type": "markdown",
   "metadata": {},
   "source": [
    "<a id='4.7heading'></a>"
   ]
  },
  {
   "cell_type": "markdown",
   "metadata": {},
   "source": [
    "### Difference in conversion between the groups using the raw data"
   ]
  },
  {
   "cell_type": "code",
   "execution_count": 42,
   "metadata": {},
   "outputs": [],
   "source": [
    "#Obtaining orders by users by group in two dataframes\n",
    "ordersByUsersA = orders_2[orders_2['group']=='A'].groupby('visitorId', as_index=False).agg({'transactionId' : pd.Series.nunique})\n",
    "ordersByUsersA.columns = ['visitorId', 'orders']\n",
    "\n",
    "ordersByUsersB = orders_2[orders_2['group']=='B'].groupby('visitorId', as_index=False).agg({'transactionId' : pd.Series.nunique})\n",
    "ordersByUsersB.columns = ['visitorId', 'orders']"
   ]
  },
  {
   "cell_type": "code",
   "execution_count": 43,
   "metadata": {},
   "outputs": [],
   "source": [
    "#Samples of users who made orders, with their corresponding numbers of orders\n",
    "sampleA = pd.concat([ordersByUsersA['orders'],pd.Series(0, index=np.arange(visits[visits['group']=='A']['visits'].sum() - len(ordersByUsersA['orders'])), name='orders')],axis=0)\n",
    "\n",
    "sampleB = pd.concat([ordersByUsersB['orders'],pd.Series(0, index=np.arange(visits[visits['group']=='B']['visits'].sum() - len(ordersByUsersB['orders'])), name='orders')],axis=0)"
   ]
  },
  {
   "cell_type": "markdown",
   "metadata": {},
   "source": [
    "<ins>Experiment<ins/>\n",
    "\n",
    "Null Hypothesis H0: The conversion rates for Sample A and Sample B are the same\n",
    "\n",
    "Alternative Hypothesis H1: The conversion rates for Sample A and Sample B are different"
   ]
  },
  {
   "cell_type": "code",
   "execution_count": 44,
   "metadata": {},
   "outputs": [
    {
     "name": "stdout",
     "output_type": "stream",
     "text": [
      "We reject the null hypothesis\n",
      "Relative Difference in Conversion Rates between groups: 0.138\n"
     ]
    }
   ],
   "source": [
    "#Experiment: The Wilcoxon-Mann-Whitney Nonparametric Test\n",
    "\n",
    "alpha = 0.05 #critical statistical significance level\n",
    "\n",
    "results = st.mannwhitneyu(sampleA, sampleB)[1]\n",
    "\n",
    "if results < alpha:\n",
    "    print(\"We reject the null hypothesis\")\n",
    "else:\n",
    "    print(\"We can't reject the null hypothesis\")\n",
    "    \n",
    "print(\"Relative Difference in Conversion Rates between groups: {0:.3f}\".format(sampleB.mean()/sampleA.mean()-1))"
   ]
  },
  {
   "cell_type": "markdown",
   "metadata": {},
   "source": [
    "<div class=\"alert alert-info\">\n",
    "The p-value is lower than 0.05, so we rejected the null hypothesis. The raw data analysis showed that the groups' conversion rates have statistically significant differences. The relative comparison gain for group B compared to group A is 13.8%.\n",
    "</div>"
   ]
  },
  {
   "cell_type": "markdown",
   "metadata": {},
   "source": [
    "<a id='4.8heading'></a>"
   ]
  },
  {
   "cell_type": "markdown",
   "metadata": {},
   "source": [
    "### Difference in average order size between the groups using the raw data"
   ]
  },
  {
   "cell_type": "markdown",
   "metadata": {},
   "source": [
    "<ins>Experiment<ins/>\n",
    "\n",
    "Null Hypothesis H0: The average order sizes for Sample A and Sample B are the same\n",
    "\n",
    "Alternative Hypothesis H1: The average order sizes for Sample A and Sample B are different"
   ]
  },
  {
   "cell_type": "code",
   "execution_count": 45,
   "metadata": {},
   "outputs": [
    {
     "name": "stdout",
     "output_type": "stream",
     "text": [
      "We can't reject the null hypothesis\n",
      "Relative Difference in Average Order Size between groups: 0.252\n"
     ]
    }
   ],
   "source": [
    "#Experiment: The Wilcoxon-Mann-Whitney Nonparametric Test\n",
    "\n",
    "alpha = 0.05 #critical statistical significance level\n",
    "\n",
    "results = st.mannwhitneyu(orders_2[orders_2['group']=='A']['revenue'], orders_2[orders_2['group']=='B']['revenue'])[1]\n",
    "\n",
    "if results < alpha:\n",
    "    print(\"We reject the null hypothesis\")\n",
    "else:\n",
    "    print(\"We can't reject the null hypothesis\")\n",
    "    \n",
    "print(\"Relative Difference in Average Order Size between groups: {0:.3f}\".format(orders_2[orders_2['group']=='B']['revenue'].mean()/orders_2[orders_2['group']=='A']['revenue'].mean()-1))"
   ]
  },
  {
   "cell_type": "markdown",
   "metadata": {},
   "source": [
    "<div class=\"alert alert-info\">\n",
    "The p-value is greater than 0.05, so we accept the null hypothesis. The raw data analysis showed that the groups' average order sizes haev no statistically significant differences. The relative comparison gain for group B compared to group A is 25.2%.\n",
    "</div>"
   ]
  },
  {
   "cell_type": "markdown",
   "metadata": {},
   "source": [
    "<a id='4.9heading'></a>"
   ]
  },
  {
   "cell_type": "markdown",
   "metadata": {},
   "source": [
    "### Difference in conversion between the groups using the filtered data"
   ]
  },
  {
   "cell_type": "code",
   "execution_count": 46,
   "metadata": {},
   "outputs": [
    {
     "name": "stdout",
     "output_type": "stream",
     "text": [
      "1099    148427295\n",
      "18      199603092\n",
      "23      237748145\n",
      "949     887908475\n",
      "744     888512513\n",
      "Name: visitorId, dtype: int64\n"
     ]
    }
   ],
   "source": [
    "#Filtering data by using the 99th percentile\n",
    "usersWithManyOrders = pd.concat([ordersByUsersA[ordersByUsersA['orders'] > 3.5]['visitorId'], ordersByUsersB[ordersByUsersB['orders'] > 3.5]['visitorId']], axis = 0)\n",
    "\n",
    "usersWithExpensiveOrders = orders_2[orders_2['revenue'] > 900.9]['visitorId']\n",
    "\n",
    "#List of abnormal users\n",
    "abnormalUsers = pd.concat([usersWithManyOrders, usersWithExpensiveOrders], axis = 0).drop_duplicates().sort_values()\n",
    "print(abnormalUsers.head(5))"
   ]
  },
  {
   "cell_type": "code",
   "execution_count": 47,
   "metadata": {},
   "outputs": [],
   "source": [
    "#Filtered samples without anomalies\n",
    "sampleAFiltered = pd.concat([ordersByUsersA[np.logical_not(ordersByUsersA['visitorId'].isin(abnormalUsers))]['orders'],pd.Series(0, index=np.arange(visits[visits['group']=='A']['visits'].sum() - len(ordersByUsersA['orders'])),name='orders')],axis=0)\n",
    "\n",
    "sampleBFiltered = pd.concat([ordersByUsersB[np.logical_not(ordersByUsersB['visitorId'].isin(abnormalUsers))]['orders'],pd.Series(0, index=np.arange(visits[visits['group']=='B']['visits'].sum() - len(ordersByUsersB['orders'])),name='orders')],axis=0)"
   ]
  },
  {
   "cell_type": "markdown",
   "metadata": {},
   "source": [
    "<ins>Experiment<ins/>\n",
    "\n",
    "Null Hypothesis H0: The conversion rates for Sample A and Sample B are the same\n",
    "\n",
    "Alternative Hypothesis H1: The conversion rates for Sample A and Sample B are different"
   ]
  },
  {
   "cell_type": "code",
   "execution_count": 48,
   "metadata": {},
   "outputs": [
    {
     "name": "stdout",
     "output_type": "stream",
     "text": [
      "We reject the null hypothesis\n",
      "Relative Difference in Conversion Rates between groups: 0.151\n"
     ]
    }
   ],
   "source": [
    "#Experiment: The Wilcoxon-Mann-Whitney Nonparametric Test\n",
    "\n",
    "alpha = 0.05 #critical statistical significance level\n",
    "\n",
    "results = st.mannwhitneyu(sampleAFiltered, sampleBFiltered)[1]\n",
    "\n",
    "if results < alpha:\n",
    "    print(\"We reject the null hypothesis\")\n",
    "else:\n",
    "    print(\"We can't reject the null hypothesis\")\n",
    "\n",
    "print(\"Relative Difference in Conversion Rates between groups: {0:.3f}\".format(sampleBFiltered.mean()/sampleAFiltered.mean()-1))"
   ]
  },
  {
   "cell_type": "markdown",
   "metadata": {},
   "source": [
    "<div class=\"alert alert-info\">\n",
    "The p-value is lower than 0.05, so we rejected the null hypothesis. The filtered data analysis showed that the groups' conversion rates have statistically significant differences. The relative comparison gain for group B compared to group A is 15.1%.\n",
    "</div>"
   ]
  },
  {
   "cell_type": "markdown",
   "metadata": {},
   "source": [
    "<a id='4.10heading'></a>"
   ]
  },
  {
   "cell_type": "markdown",
   "metadata": {},
   "source": [
    "### Difference in average order size between the groups using the filtered data"
   ]
  },
  {
   "cell_type": "markdown",
   "metadata": {},
   "source": [
    "<ins>Experiment<ins/>\n",
    "\n",
    "Null Hypothesis H0: The average order sizes for Sample A and Sample B are the same\n",
    "\n",
    "Alternative Hypothesis H1: The average order sizes for Sample A and Sample B are different"
   ]
  },
  {
   "cell_type": "code",
   "execution_count": 49,
   "metadata": {},
   "outputs": [
    {
     "name": "stdout",
     "output_type": "stream",
     "text": [
      "We can't reject the null hypothesis\n",
      "Relative Difference in Average Order Size between groups: -0.014\n"
     ]
    }
   ],
   "source": [
    "#Experiment: The Wilcoxon-Mann-Whitney Nonparametric Test\n",
    "\n",
    "alpha = 0.05 #critical statistical significance level\n",
    "\n",
    "results = st.mannwhitneyu(\n",
    "    orders_2[np.logical_and(orders_2['group']=='A', np.logical_not(orders_2['visitorId'].isin(abnormalUsers)))]['revenue'],\n",
    "    orders_2[np.logical_and(orders_2['group']=='B', np.logical_not(orders_2['visitorId'].isin(abnormalUsers)))]['revenue'])[1]\n",
    "\n",
    "if results < alpha:\n",
    "    print(\"We reject the null hypothesis\")\n",
    "else:\n",
    "    print(\"We can't reject the null hypothesis\")\n",
    "\n",
    "print(\"Relative Difference in Average Order Size between groups: {0:.3f}\".format(\n",
    "    orders_2[np.logical_and(orders_2['group']=='B',np.logical_not(orders_2['visitorId'].isin(abnormalUsers)))]['revenue'].mean()/\n",
    "    orders_2[np.logical_and(orders_2['group']=='A',np.logical_not(orders_2['visitorId'].isin(abnormalUsers)))]['revenue'].mean() - 1))"
   ]
  },
  {
   "cell_type": "markdown",
   "metadata": {},
   "source": [
    "<div class=\"alert alert-info\">\n",
    "This time we got a big p-value, therefore we don't reject the null hypothesis. The 1.4% difference in average order size between groups is not statistically signficant.\n",
    "</div>"
   ]
  },
  {
   "cell_type": "markdown",
   "metadata": {},
   "source": [
    "<a id='5heading'></a>"
   ]
  },
  {
   "cell_type": "markdown",
   "metadata": {},
   "source": [
    "## Overall Conclusion"
   ]
  },
  {
   "cell_type": "markdown",
   "metadata": {},
   "source": [
    "In this file we have conducted the A/B testing of two website versions.\n",
    "- The **raw data** analysis showed that the groups' **conversion rates** have statistically significant differences. The relative comparison gain for group B compared to group A is 13.8%.\n",
    "- The **filtered data** analysis showed that the groups' **conversion rates** have statistically significant differences. The relative comparison gain for group B compared to group A is 15.1%.\n",
    "- The **raw data** analysis showed that the groups' **average order sizes** have no statistically significant differences. The relative comparison gain for group B compared to group A is 25.2%.\n",
    "- The **filtered data** analysis showed that the groups' **average order sizes** have no statistically significant differences. The relative comparison gain for group A compared to group B is 1.4%.\n",
    "\n",
    "With this A/B results in mind, we can stop the test and consider group B the leader. We concluded with both raw and filtered data that Group B has around a **14%** higher conversion rate that is statistically significant; Section 4.4 contains a graph depicting this. Average order sizes showed no statistical significant differences in neither the raw nor filtered data."
   ]
  }
 ],
 "metadata": {
  "ExecuteTimeLog": [
   {
    "duration": 82,
    "start_time": "2021-12-27T02:57:17.155Z"
   },
   {
    "duration": 1127,
    "start_time": "2021-12-27T02:59:14.724Z"
   },
   {
    "duration": 151,
    "start_time": "2021-12-27T03:09:52.119Z"
   },
   {
    "duration": 284,
    "start_time": "2021-12-27T03:10:19.709Z"
   },
   {
    "duration": 10,
    "start_time": "2021-12-27T03:10:23.153Z"
   },
   {
    "duration": 13,
    "start_time": "2021-12-27T03:10:33.100Z"
   },
   {
    "duration": 10,
    "start_time": "2021-12-27T03:10:38.829Z"
   },
   {
    "duration": 65,
    "start_time": "2021-12-27T03:11:17.940Z"
   },
   {
    "duration": 6,
    "start_time": "2021-12-27T03:11:21.552Z"
   },
   {
    "duration": 5,
    "start_time": "2021-12-27T03:11:50.468Z"
   },
   {
    "duration": 1156,
    "start_time": "2021-12-27T03:20:49.893Z"
   },
   {
    "duration": 67,
    "start_time": "2021-12-27T03:20:51.051Z"
   },
   {
    "duration": 275,
    "start_time": "2021-12-27T03:20:51.120Z"
   },
   {
    "duration": 10,
    "start_time": "2021-12-27T03:20:54.183Z"
   },
   {
    "duration": 12,
    "start_time": "2021-12-27T03:23:16.095Z"
   },
   {
    "duration": 477,
    "start_time": "2021-12-27T03:23:23.923Z"
   },
   {
    "duration": 184,
    "start_time": "2021-12-27T03:23:31.857Z"
   },
   {
    "duration": 12,
    "start_time": "2021-12-27T03:23:37.738Z"
   },
   {
    "duration": 64,
    "start_time": "2021-12-27T03:23:48.438Z"
   },
   {
    "duration": 8,
    "start_time": "2021-12-27T03:23:51.980Z"
   },
   {
    "duration": 6,
    "start_time": "2021-12-27T03:23:56.931Z"
   },
   {
    "duration": 9,
    "start_time": "2021-12-27T03:24:00.814Z"
   },
   {
    "duration": 64,
    "start_time": "2021-12-27T03:27:57.212Z"
   },
   {
    "duration": 8,
    "start_time": "2021-12-27T03:28:03.514Z"
   },
   {
    "duration": 28,
    "start_time": "2021-12-27T03:31:29.998Z"
   },
   {
    "duration": 25,
    "start_time": "2021-12-27T03:31:38.230Z"
   },
   {
    "duration": 23,
    "start_time": "2021-12-27T03:32:07.022Z"
   },
   {
    "duration": 13,
    "start_time": "2021-12-27T03:32:24.457Z"
   },
   {
    "duration": 13,
    "start_time": "2021-12-27T03:32:35.063Z"
   },
   {
    "duration": 24,
    "start_time": "2021-12-27T03:32:49.231Z"
   },
   {
    "duration": 29,
    "start_time": "2021-12-27T03:33:01.199Z"
   },
   {
    "duration": 19,
    "start_time": "2021-12-27T03:34:24.811Z"
   },
   {
    "duration": 92,
    "start_time": "2021-12-29T03:29:43.186Z"
   },
   {
    "duration": 329,
    "start_time": "2021-12-29T03:31:09.183Z"
   },
   {
    "duration": 1940,
    "start_time": "2021-12-29T03:31:16.833Z"
   },
   {
    "duration": 151,
    "start_time": "2021-12-29T03:31:18.776Z"
   },
   {
    "duration": 25,
    "start_time": "2021-12-29T03:31:18.930Z"
   },
   {
    "duration": 42,
    "start_time": "2021-12-29T03:31:18.957Z"
   },
   {
    "duration": 32,
    "start_time": "2021-12-29T03:31:19.001Z"
   },
   {
    "duration": 40,
    "start_time": "2021-12-29T03:31:19.036Z"
   },
   {
    "duration": 9,
    "start_time": "2021-12-29T03:31:48.795Z"
   },
   {
    "duration": 10,
    "start_time": "2021-12-29T03:31:49.745Z"
   },
   {
    "duration": 93,
    "start_time": "2021-12-29T03:43:58.802Z"
   },
   {
    "duration": 7,
    "start_time": "2021-12-29T03:45:00.644Z"
   },
   {
    "duration": 7,
    "start_time": "2021-12-29T03:45:50.357Z"
   },
   {
    "duration": 6,
    "start_time": "2021-12-29T03:45:50.683Z"
   },
   {
    "duration": 7,
    "start_time": "2021-12-29T03:46:51.907Z"
   },
   {
    "duration": 6,
    "start_time": "2021-12-29T03:46:59.496Z"
   },
   {
    "duration": 7039,
    "start_time": "2021-12-29T03:47:27.750Z"
   },
   {
    "duration": 8,
    "start_time": "2021-12-29T03:47:45.415Z"
   },
   {
    "duration": 8,
    "start_time": "2021-12-29T03:47:46.109Z"
   },
   {
    "duration": 14,
    "start_time": "2021-12-29T03:48:13.180Z"
   },
   {
    "duration": 8,
    "start_time": "2021-12-29T03:48:13.999Z"
   },
   {
    "duration": 11,
    "start_time": "2021-12-29T03:48:36.185Z"
   },
   {
    "duration": 12,
    "start_time": "2021-12-29T03:49:24.446Z"
   },
   {
    "duration": 8,
    "start_time": "2021-12-29T03:50:38.450Z"
   },
   {
    "duration": 10,
    "start_time": "2021-12-29T03:50:40.227Z"
   },
   {
    "duration": 307,
    "start_time": "2021-12-29T03:50:47.572Z"
   },
   {
    "duration": 8,
    "start_time": "2021-12-29T03:50:47.932Z"
   },
   {
    "duration": 7,
    "start_time": "2021-12-29T03:50:48.336Z"
   },
   {
    "duration": 310,
    "start_time": "2021-12-29T03:50:54.865Z"
   },
   {
    "duration": 8,
    "start_time": "2021-12-29T03:50:57.993Z"
   },
   {
    "duration": 8,
    "start_time": "2021-12-29T03:50:58.418Z"
   },
   {
    "duration": 8,
    "start_time": "2021-12-29T03:50:58.763Z"
   },
   {
    "duration": 8,
    "start_time": "2021-12-29T03:59:09.258Z"
   },
   {
    "duration": 9,
    "start_time": "2021-12-29T03:59:19.812Z"
   },
   {
    "duration": 9,
    "start_time": "2021-12-29T03:59:21.767Z"
   },
   {
    "duration": 308,
    "start_time": "2021-12-29T04:05:16.786Z"
   },
   {
    "duration": 99,
    "start_time": "2021-12-29T04:07:52.275Z"
   },
   {
    "duration": 124,
    "start_time": "2021-12-29T04:08:02.715Z"
   },
   {
    "duration": 20,
    "start_time": "2021-12-29T04:08:10.928Z"
   },
   {
    "duration": 12,
    "start_time": "2021-12-29T04:08:31.213Z"
   },
   {
    "duration": 18,
    "start_time": "2021-12-29T04:08:34.503Z"
   },
   {
    "duration": 89,
    "start_time": "2021-12-29T04:16:46.677Z"
   },
   {
    "duration": 4,
    "start_time": "2021-12-29T04:16:54.111Z"
   },
   {
    "duration": 7,
    "start_time": "2021-12-29T04:17:07.004Z"
   },
   {
    "duration": 7,
    "start_time": "2021-12-29T04:17:17.706Z"
   },
   {
    "duration": 8,
    "start_time": "2021-12-29T04:17:37.256Z"
   },
   {
    "duration": 7,
    "start_time": "2021-12-29T04:17:37.738Z"
   },
   {
    "duration": 22,
    "start_time": "2021-12-29T04:21:00.515Z"
   },
   {
    "duration": 14,
    "start_time": "2021-12-29T04:21:29.735Z"
   },
   {
    "duration": 6,
    "start_time": "2021-12-29T04:21:42.901Z"
   },
   {
    "duration": 14,
    "start_time": "2021-12-29T04:21:43.633Z"
   },
   {
    "duration": 19,
    "start_time": "2021-12-29T04:22:00.093Z"
   },
   {
    "duration": 13,
    "start_time": "2021-12-29T04:22:57.997Z"
   },
   {
    "duration": 1769,
    "start_time": "2021-12-29T04:25:04.534Z"
   },
   {
    "duration": 59,
    "start_time": "2021-12-29T04:25:06.305Z"
   },
   {
    "duration": 32,
    "start_time": "2021-12-29T04:25:06.368Z"
   },
   {
    "duration": 79,
    "start_time": "2021-12-29T04:25:06.404Z"
   },
   {
    "duration": 29,
    "start_time": "2021-12-29T04:25:06.485Z"
   },
   {
    "duration": 9,
    "start_time": "2021-12-29T04:25:06.517Z"
   },
   {
    "duration": 10,
    "start_time": "2021-12-29T04:25:06.568Z"
   },
   {
    "duration": 9,
    "start_time": "2021-12-29T04:25:06.582Z"
   },
   {
    "duration": 6,
    "start_time": "2021-12-29T04:25:06.594Z"
   },
   {
    "duration": 66,
    "start_time": "2021-12-29T04:25:06.603Z"
   },
   {
    "duration": 13,
    "start_time": "2021-12-29T04:25:06.672Z"
   },
   {
    "duration": 11,
    "start_time": "2021-12-29T04:25:06.688Z"
   },
   {
    "duration": 15,
    "start_time": "2021-12-29T04:25:06.702Z"
   },
   {
    "duration": 4,
    "start_time": "2021-12-29T04:25:06.768Z"
   },
   {
    "duration": 9,
    "start_time": "2021-12-29T04:25:06.775Z"
   },
   {
    "duration": 10,
    "start_time": "2021-12-29T04:25:06.786Z"
   },
   {
    "duration": 8,
    "start_time": "2021-12-29T04:25:06.799Z"
   },
   {
    "duration": 69,
    "start_time": "2021-12-29T04:25:06.810Z"
   },
   {
    "duration": 15,
    "start_time": "2021-12-29T04:25:06.881Z"
   },
   {
    "duration": 19,
    "start_time": "2021-12-29T04:25:06.898Z"
   },
   {
    "duration": 1178,
    "start_time": "2021-12-29T07:38:29.042Z"
   },
   {
    "duration": 102,
    "start_time": "2021-12-29T07:38:30.222Z"
   },
   {
    "duration": 14,
    "start_time": "2021-12-29T07:38:30.326Z"
   },
   {
    "duration": 46,
    "start_time": "2021-12-29T07:38:30.342Z"
   },
   {
    "duration": 31,
    "start_time": "2021-12-29T07:38:30.390Z"
   },
   {
    "duration": 12,
    "start_time": "2021-12-29T07:38:30.422Z"
   },
   {
    "duration": 40,
    "start_time": "2021-12-29T07:38:30.435Z"
   },
   {
    "duration": 37,
    "start_time": "2021-12-29T07:38:30.476Z"
   },
   {
    "duration": 24,
    "start_time": "2021-12-29T07:38:30.515Z"
   },
   {
    "duration": 34,
    "start_time": "2021-12-29T07:38:30.541Z"
   },
   {
    "duration": 37,
    "start_time": "2021-12-29T07:38:30.576Z"
   },
   {
    "duration": 33,
    "start_time": "2021-12-29T07:38:30.614Z"
   },
   {
    "duration": 35,
    "start_time": "2021-12-29T07:38:30.649Z"
   },
   {
    "duration": 43,
    "start_time": "2021-12-29T07:38:30.686Z"
   },
   {
    "duration": 31,
    "start_time": "2021-12-29T07:38:30.731Z"
   },
   {
    "duration": 31,
    "start_time": "2021-12-29T07:38:30.764Z"
   },
   {
    "duration": 21,
    "start_time": "2021-12-29T07:38:30.797Z"
   },
   {
    "duration": 44,
    "start_time": "2021-12-29T07:38:30.820Z"
   },
   {
    "duration": 33,
    "start_time": "2021-12-29T07:38:30.865Z"
   },
   {
    "duration": 50,
    "start_time": "2021-12-29T07:38:30.899Z"
   },
   {
    "duration": 7,
    "start_time": "2021-12-29T07:48:34.881Z"
   },
   {
    "duration": 12,
    "start_time": "2021-12-29T07:52:10.544Z"
   },
   {
    "duration": 4,
    "start_time": "2021-12-29T07:52:10.886Z"
   },
   {
    "duration": 10,
    "start_time": "2021-12-29T07:52:11.508Z"
   },
   {
    "duration": 4,
    "start_time": "2021-12-29T07:53:01.482Z"
   },
   {
    "duration": 5,
    "start_time": "2021-12-29T07:53:01.696Z"
   },
   {
    "duration": 9,
    "start_time": "2021-12-29T07:53:01.947Z"
   },
   {
    "duration": 1122,
    "start_time": "2021-12-29T07:53:08.492Z"
   },
   {
    "duration": 65,
    "start_time": "2021-12-29T07:53:09.616Z"
   },
   {
    "duration": 17,
    "start_time": "2021-12-29T07:53:09.684Z"
   },
   {
    "duration": 29,
    "start_time": "2021-12-29T07:53:09.704Z"
   },
   {
    "duration": 42,
    "start_time": "2021-12-29T07:53:09.735Z"
   },
   {
    "duration": 7,
    "start_time": "2021-12-29T07:53:09.779Z"
   },
   {
    "duration": 9,
    "start_time": "2021-12-29T07:53:09.788Z"
   },
   {
    "duration": 8,
    "start_time": "2021-12-29T07:53:09.799Z"
   },
   {
    "duration": 55,
    "start_time": "2021-12-29T07:53:09.811Z"
   },
   {
    "duration": 5,
    "start_time": "2021-12-29T07:53:09.869Z"
   },
   {
    "duration": 11,
    "start_time": "2021-12-29T07:53:09.876Z"
   },
   {
    "duration": 7,
    "start_time": "2021-12-29T07:53:09.889Z"
   },
   {
    "duration": 9,
    "start_time": "2021-12-29T07:53:09.898Z"
   },
   {
    "duration": 56,
    "start_time": "2021-12-29T07:53:09.908Z"
   },
   {
    "duration": 8,
    "start_time": "2021-12-29T07:53:09.966Z"
   },
   {
    "duration": 8,
    "start_time": "2021-12-29T07:53:09.976Z"
   },
   {
    "duration": 5,
    "start_time": "2021-12-29T07:53:09.985Z"
   },
   {
    "duration": 24,
    "start_time": "2021-12-29T07:53:09.992Z"
   },
   {
    "duration": 48,
    "start_time": "2021-12-29T07:53:10.018Z"
   },
   {
    "duration": 11,
    "start_time": "2021-12-29T07:53:10.068Z"
   },
   {
    "duration": 9,
    "start_time": "2021-12-29T07:53:10.081Z"
   },
   {
    "duration": 5,
    "start_time": "2021-12-29T07:53:10.092Z"
   },
   {
    "duration": 5,
    "start_time": "2021-12-29T07:53:10.099Z"
   },
   {
    "duration": 12,
    "start_time": "2021-12-29T07:53:10.105Z"
   },
   {
    "duration": 8,
    "start_time": "2021-12-29T07:57:26.006Z"
   },
   {
    "duration": 9,
    "start_time": "2021-12-29T07:57:34.057Z"
   },
   {
    "duration": 10,
    "start_time": "2021-12-29T07:58:43.054Z"
   },
   {
    "duration": 8,
    "start_time": "2021-12-29T07:59:49.015Z"
   },
   {
    "duration": 1135,
    "start_time": "2021-12-29T08:01:02.189Z"
   },
   {
    "duration": 60,
    "start_time": "2021-12-29T08:01:03.326Z"
   },
   {
    "duration": 14,
    "start_time": "2021-12-29T08:01:03.390Z"
   },
   {
    "duration": 25,
    "start_time": "2021-12-29T08:01:03.406Z"
   },
   {
    "duration": 29,
    "start_time": "2021-12-29T08:01:03.433Z"
   },
   {
    "duration": 6,
    "start_time": "2021-12-29T08:01:03.464Z"
   },
   {
    "duration": 11,
    "start_time": "2021-12-29T08:01:03.471Z"
   },
   {
    "duration": 8,
    "start_time": "2021-12-29T08:01:03.485Z"
   },
   {
    "duration": 12,
    "start_time": "2021-12-29T08:01:03.495Z"
   },
   {
    "duration": 12,
    "start_time": "2021-12-29T08:01:03.509Z"
   },
   {
    "duration": 43,
    "start_time": "2021-12-29T08:01:03.523Z"
   },
   {
    "duration": 5,
    "start_time": "2021-12-29T08:01:03.568Z"
   },
   {
    "duration": 9,
    "start_time": "2021-12-29T08:01:03.575Z"
   },
   {
    "duration": 6,
    "start_time": "2021-12-29T08:01:03.586Z"
   },
   {
    "duration": 9,
    "start_time": "2021-12-29T08:01:03.593Z"
   },
   {
    "duration": 11,
    "start_time": "2021-12-29T08:01:03.603Z"
   },
   {
    "duration": 11,
    "start_time": "2021-12-29T08:01:03.615Z"
   },
   {
    "duration": 16,
    "start_time": "2021-12-29T08:01:03.661Z"
   },
   {
    "duration": 10,
    "start_time": "2021-12-29T08:01:03.680Z"
   },
   {
    "duration": 14,
    "start_time": "2021-12-29T08:01:03.692Z"
   },
   {
    "duration": 12,
    "start_time": "2021-12-29T08:01:03.708Z"
   },
   {
    "duration": 51,
    "start_time": "2021-12-29T08:01:03.722Z"
   },
   {
    "duration": 8,
    "start_time": "2021-12-29T08:01:03.774Z"
   },
   {
    "duration": 12,
    "start_time": "2021-12-29T08:01:03.784Z"
   },
   {
    "duration": 1172,
    "start_time": "2021-12-29T08:20:34.666Z"
   },
   {
    "duration": 61,
    "start_time": "2021-12-29T08:20:35.841Z"
   },
   {
    "duration": 67,
    "start_time": "2021-12-29T08:20:35.904Z"
   },
   {
    "duration": 64,
    "start_time": "2021-12-29T08:20:35.973Z"
   },
   {
    "duration": 28,
    "start_time": "2021-12-29T08:20:36.039Z"
   },
   {
    "duration": 27,
    "start_time": "2021-12-29T08:20:36.069Z"
   },
   {
    "duration": 33,
    "start_time": "2021-12-29T08:20:36.098Z"
   },
   {
    "duration": 37,
    "start_time": "2021-12-29T08:20:36.133Z"
   },
   {
    "duration": 35,
    "start_time": "2021-12-29T08:20:36.172Z"
   },
   {
    "duration": 53,
    "start_time": "2021-12-29T08:20:36.209Z"
   },
   {
    "duration": 37,
    "start_time": "2021-12-29T08:20:36.264Z"
   },
   {
    "duration": 44,
    "start_time": "2021-12-29T08:20:36.303Z"
   },
   {
    "duration": 39,
    "start_time": "2021-12-29T08:20:36.349Z"
   },
   {
    "duration": 42,
    "start_time": "2021-12-29T08:20:36.389Z"
   },
   {
    "duration": 64,
    "start_time": "2021-12-29T08:20:36.432Z"
   },
   {
    "duration": 20,
    "start_time": "2021-12-29T08:20:36.498Z"
   },
   {
    "duration": 32,
    "start_time": "2021-12-29T08:20:36.520Z"
   },
   {
    "duration": 74,
    "start_time": "2021-12-29T08:20:36.554Z"
   },
   {
    "duration": 114,
    "start_time": "2021-12-29T08:20:36.630Z"
   },
   {
    "duration": 66,
    "start_time": "2021-12-29T08:20:36.746Z"
   },
   {
    "duration": 36,
    "start_time": "2021-12-29T08:20:36.814Z"
   },
   {
    "duration": 57,
    "start_time": "2021-12-29T08:20:36.852Z"
   },
   {
    "duration": 31,
    "start_time": "2021-12-29T08:20:36.912Z"
   },
   {
    "duration": 31,
    "start_time": "2021-12-29T08:20:36.945Z"
   },
   {
    "duration": 1199,
    "start_time": "2021-12-29T08:22:14.030Z"
   },
   {
    "duration": 60,
    "start_time": "2021-12-29T08:22:15.231Z"
   },
   {
    "duration": 15,
    "start_time": "2021-12-29T08:22:15.293Z"
   },
   {
    "duration": 27,
    "start_time": "2021-12-29T08:22:15.310Z"
   },
   {
    "duration": 27,
    "start_time": "2021-12-29T08:22:15.338Z"
   },
   {
    "duration": 6,
    "start_time": "2021-12-29T08:22:15.366Z"
   },
   {
    "duration": 10,
    "start_time": "2021-12-29T08:22:15.374Z"
   },
   {
    "duration": 9,
    "start_time": "2021-12-29T08:22:15.385Z"
   },
   {
    "duration": 5,
    "start_time": "2021-12-29T08:22:15.396Z"
   },
   {
    "duration": 5,
    "start_time": "2021-12-29T08:22:15.403Z"
   },
   {
    "duration": 57,
    "start_time": "2021-12-29T08:22:15.410Z"
   },
   {
    "duration": 7,
    "start_time": "2021-12-29T08:22:15.468Z"
   },
   {
    "duration": 10,
    "start_time": "2021-12-29T08:22:15.476Z"
   },
   {
    "duration": 5,
    "start_time": "2021-12-29T08:22:15.488Z"
   },
   {
    "duration": 8,
    "start_time": "2021-12-29T08:22:15.495Z"
   },
   {
    "duration": 7,
    "start_time": "2021-12-29T08:22:15.505Z"
   },
   {
    "duration": 5,
    "start_time": "2021-12-29T08:22:15.514Z"
   },
   {
    "duration": 20,
    "start_time": "2021-12-29T08:22:15.562Z"
   },
   {
    "duration": 17,
    "start_time": "2021-12-29T08:22:15.584Z"
   },
   {
    "duration": 11,
    "start_time": "2021-12-29T08:22:15.603Z"
   },
   {
    "duration": 45,
    "start_time": "2021-12-29T08:22:15.616Z"
   },
   {
    "duration": 12,
    "start_time": "2021-12-29T08:22:15.663Z"
   },
   {
    "duration": 8,
    "start_time": "2021-12-29T08:22:15.677Z"
   },
   {
    "duration": 10,
    "start_time": "2021-12-29T08:22:15.687Z"
   },
   {
    "duration": 1446,
    "start_time": "2021-12-30T05:19:22.376Z"
   },
   {
    "duration": 96,
    "start_time": "2021-12-30T05:19:23.824Z"
   },
   {
    "duration": 20,
    "start_time": "2021-12-30T05:19:23.924Z"
   },
   {
    "duration": 39,
    "start_time": "2021-12-30T05:19:23.946Z"
   },
   {
    "duration": 27,
    "start_time": "2021-12-30T05:19:23.987Z"
   },
   {
    "duration": 8,
    "start_time": "2021-12-30T05:19:24.016Z"
   },
   {
    "duration": 39,
    "start_time": "2021-12-30T05:19:24.027Z"
   },
   {
    "duration": 9,
    "start_time": "2021-12-30T05:19:24.070Z"
   },
   {
    "duration": 11,
    "start_time": "2021-12-30T05:19:24.082Z"
   },
   {
    "duration": 11,
    "start_time": "2021-12-30T05:19:24.095Z"
   },
   {
    "duration": 58,
    "start_time": "2021-12-30T05:19:24.108Z"
   },
   {
    "duration": 7,
    "start_time": "2021-12-30T05:19:24.168Z"
   },
   {
    "duration": 11,
    "start_time": "2021-12-30T05:19:24.178Z"
   },
   {
    "duration": 7,
    "start_time": "2021-12-30T05:19:24.191Z"
   },
   {
    "duration": 20,
    "start_time": "2021-12-30T05:19:24.200Z"
   },
   {
    "duration": 39,
    "start_time": "2021-12-30T05:19:24.222Z"
   },
   {
    "duration": 8,
    "start_time": "2021-12-30T05:19:24.264Z"
   },
   {
    "duration": 21,
    "start_time": "2021-12-30T05:19:24.274Z"
   },
   {
    "duration": 14,
    "start_time": "2021-12-30T05:19:24.298Z"
   },
   {
    "duration": 57,
    "start_time": "2021-12-30T05:19:24.315Z"
   },
   {
    "duration": 16,
    "start_time": "2021-12-30T05:19:24.375Z"
   },
   {
    "duration": 24,
    "start_time": "2021-12-30T05:19:24.394Z"
   },
   {
    "duration": 39,
    "start_time": "2021-12-30T05:19:24.422Z"
   },
   {
    "duration": 13,
    "start_time": "2021-12-30T05:19:24.463Z"
   },
   {
    "duration": 1534,
    "start_time": "2021-12-30T06:14:56.499Z"
   },
   {
    "duration": 70,
    "start_time": "2021-12-30T06:14:58.035Z"
   },
   {
    "duration": 21,
    "start_time": "2021-12-30T06:14:58.108Z"
   },
   {
    "duration": 37,
    "start_time": "2021-12-30T06:14:58.132Z"
   },
   {
    "duration": 28,
    "start_time": "2021-12-30T06:14:58.171Z"
   },
   {
    "duration": 8,
    "start_time": "2021-12-30T06:14:58.202Z"
   },
   {
    "duration": 12,
    "start_time": "2021-12-30T06:14:58.213Z"
   },
   {
    "duration": 9,
    "start_time": "2021-12-30T06:14:58.260Z"
   },
   {
    "duration": 6,
    "start_time": "2021-12-30T06:14:58.272Z"
   },
   {
    "duration": 7,
    "start_time": "2021-12-30T06:14:58.281Z"
   },
   {
    "duration": 13,
    "start_time": "2021-12-30T06:14:58.290Z"
   },
   {
    "duration": 54,
    "start_time": "2021-12-30T06:14:58.305Z"
   },
   {
    "duration": 11,
    "start_time": "2021-12-30T06:14:58.361Z"
   },
   {
    "duration": 6,
    "start_time": "2021-12-30T06:14:58.374Z"
   },
   {
    "duration": 7,
    "start_time": "2021-12-30T06:14:58.383Z"
   },
   {
    "duration": 8,
    "start_time": "2021-12-30T06:14:58.392Z"
   },
   {
    "duration": 6,
    "start_time": "2021-12-30T06:14:58.402Z"
   },
   {
    "duration": 64,
    "start_time": "2021-12-30T06:14:58.410Z"
   },
   {
    "duration": 11,
    "start_time": "2021-12-30T06:14:58.476Z"
   },
   {
    "duration": 22,
    "start_time": "2021-12-30T06:14:58.489Z"
   },
   {
    "duration": 13,
    "start_time": "2021-12-30T06:14:58.513Z"
   },
   {
    "duration": 42,
    "start_time": "2021-12-30T06:14:58.528Z"
   },
   {
    "duration": 11,
    "start_time": "2021-12-30T06:15:44.013Z"
   },
   {
    "duration": 9,
    "start_time": "2021-12-30T06:15:52.616Z"
   },
   {
    "duration": 16,
    "start_time": "2021-12-30T06:19:05.618Z"
   },
   {
    "duration": 22,
    "start_time": "2021-12-30T06:20:23.184Z"
   },
   {
    "duration": 9,
    "start_time": "2021-12-30T06:21:34.776Z"
   },
   {
    "duration": 19,
    "start_time": "2021-12-30T06:23:23.196Z"
   },
   {
    "duration": 9,
    "start_time": "2021-12-30T06:23:24.904Z"
   },
   {
    "duration": 10,
    "start_time": "2021-12-30T06:23:26.016Z"
   },
   {
    "duration": 8,
    "start_time": "2021-12-30T06:23:28.288Z"
   },
   {
    "duration": 19,
    "start_time": "2021-12-30T06:23:48.316Z"
   },
   {
    "duration": 9,
    "start_time": "2021-12-30T06:23:48.622Z"
   },
   {
    "duration": 8,
    "start_time": "2021-12-30T06:23:48.926Z"
   },
   {
    "duration": 8,
    "start_time": "2021-12-30T06:23:49.330Z"
   },
   {
    "duration": 1461,
    "start_time": "2021-12-30T06:32:35.660Z"
   },
   {
    "duration": 71,
    "start_time": "2021-12-30T06:32:37.123Z"
   },
   {
    "duration": 20,
    "start_time": "2021-12-30T06:32:37.197Z"
   },
   {
    "duration": 42,
    "start_time": "2021-12-30T06:32:37.221Z"
   },
   {
    "duration": 29,
    "start_time": "2021-12-30T06:32:37.266Z"
   },
   {
    "duration": 10,
    "start_time": "2021-12-30T06:32:37.298Z"
   },
   {
    "duration": 49,
    "start_time": "2021-12-30T06:32:37.311Z"
   },
   {
    "duration": 11,
    "start_time": "2021-12-30T06:32:37.364Z"
   },
   {
    "duration": 8,
    "start_time": "2021-12-30T06:32:37.380Z"
   },
   {
    "duration": 14,
    "start_time": "2021-12-30T06:32:37.392Z"
   },
   {
    "duration": 56,
    "start_time": "2021-12-30T06:32:37.408Z"
   },
   {
    "duration": 6,
    "start_time": "2021-12-30T06:32:37.466Z"
   },
   {
    "duration": 12,
    "start_time": "2021-12-30T06:32:37.475Z"
   },
   {
    "duration": 7,
    "start_time": "2021-12-30T06:32:37.489Z"
   },
   {
    "duration": 10,
    "start_time": "2021-12-30T06:32:37.498Z"
   },
   {
    "duration": 52,
    "start_time": "2021-12-30T06:32:37.510Z"
   },
   {
    "duration": 7,
    "start_time": "2021-12-30T06:32:37.564Z"
   },
   {
    "duration": 20,
    "start_time": "2021-12-30T06:32:37.573Z"
   },
   {
    "duration": 9,
    "start_time": "2021-12-30T06:32:37.595Z"
   },
   {
    "duration": 11,
    "start_time": "2021-12-30T06:32:37.606Z"
   },
   {
    "duration": 43,
    "start_time": "2021-12-30T06:32:37.620Z"
   },
   {
    "duration": 23,
    "start_time": "2021-12-30T06:32:37.666Z"
   },
   {
    "duration": 6,
    "start_time": "2021-12-30T06:32:37.692Z"
   },
   {
    "duration": 14,
    "start_time": "2021-12-30T06:32:37.700Z"
   },
   {
    "duration": 63,
    "start_time": "2021-12-30T06:32:37.716Z"
   },
   {
    "duration": 11,
    "start_time": "2021-12-30T06:32:37.782Z"
   },
   {
    "duration": 12,
    "start_time": "2021-12-30T06:32:37.797Z"
   },
   {
    "duration": 1503,
    "start_time": "2021-12-30T06:33:02.229Z"
   },
   {
    "duration": 70,
    "start_time": "2021-12-30T06:33:03.734Z"
   },
   {
    "duration": 21,
    "start_time": "2021-12-30T06:33:03.807Z"
   },
   {
    "duration": 40,
    "start_time": "2021-12-30T06:33:03.830Z"
   },
   {
    "duration": 28,
    "start_time": "2021-12-30T06:33:03.873Z"
   },
   {
    "duration": 9,
    "start_time": "2021-12-30T06:33:03.903Z"
   },
   {
    "duration": 46,
    "start_time": "2021-12-30T06:33:03.915Z"
   },
   {
    "duration": 9,
    "start_time": "2021-12-30T06:33:03.964Z"
   },
   {
    "duration": 6,
    "start_time": "2021-12-30T06:33:03.976Z"
   },
   {
    "duration": 7,
    "start_time": "2021-12-30T06:33:03.984Z"
   },
   {
    "duration": 19,
    "start_time": "2021-12-30T06:33:03.993Z"
   },
   {
    "duration": 47,
    "start_time": "2021-12-30T06:33:04.014Z"
   },
   {
    "duration": 13,
    "start_time": "2021-12-30T06:33:04.064Z"
   },
   {
    "duration": 5,
    "start_time": "2021-12-30T06:33:04.080Z"
   },
   {
    "duration": 10,
    "start_time": "2021-12-30T06:33:04.088Z"
   },
   {
    "duration": 9,
    "start_time": "2021-12-30T06:33:04.100Z"
   },
   {
    "duration": 50,
    "start_time": "2021-12-30T06:33:04.111Z"
   },
   {
    "duration": 20,
    "start_time": "2021-12-30T06:33:04.164Z"
   },
   {
    "duration": 7,
    "start_time": "2021-12-30T06:33:04.187Z"
   },
   {
    "duration": 9,
    "start_time": "2021-12-30T06:33:04.196Z"
   },
   {
    "duration": 8,
    "start_time": "2021-12-30T06:33:04.207Z"
   },
   {
    "duration": 64,
    "start_time": "2021-12-30T06:33:04.217Z"
   },
   {
    "duration": 10,
    "start_time": "2021-12-30T06:33:04.286Z"
   },
   {
    "duration": 39,
    "start_time": "2021-12-30T06:33:04.299Z"
   },
   {
    "duration": 28,
    "start_time": "2021-12-30T06:33:04.340Z"
   },
   {
    "duration": 13,
    "start_time": "2021-12-30T06:33:04.371Z"
   },
   {
    "duration": 1106,
    "start_time": "2021-12-30T06:38:21.883Z"
   },
   {
    "duration": 9,
    "start_time": "2021-12-30T06:38:31.315Z"
   },
   {
    "duration": 1549,
    "start_time": "2021-12-30T06:39:04.681Z"
   },
   {
    "duration": 70,
    "start_time": "2021-12-30T06:39:06.232Z"
   },
   {
    "duration": 22,
    "start_time": "2021-12-30T06:39:06.305Z"
   },
   {
    "duration": 41,
    "start_time": "2021-12-30T06:39:06.330Z"
   },
   {
    "duration": 30,
    "start_time": "2021-12-30T06:39:06.373Z"
   },
   {
    "duration": 10,
    "start_time": "2021-12-30T06:39:06.406Z"
   },
   {
    "duration": 43,
    "start_time": "2021-12-30T06:39:06.419Z"
   },
   {
    "duration": 9,
    "start_time": "2021-12-30T06:39:06.465Z"
   },
   {
    "duration": 7,
    "start_time": "2021-12-30T06:39:06.478Z"
   },
   {
    "duration": 9,
    "start_time": "2021-12-30T06:39:06.487Z"
   },
   {
    "duration": 14,
    "start_time": "2021-12-30T06:39:06.498Z"
   },
   {
    "duration": 6,
    "start_time": "2021-12-30T06:39:06.560Z"
   },
   {
    "duration": 10,
    "start_time": "2021-12-30T06:39:06.569Z"
   },
   {
    "duration": 4,
    "start_time": "2021-12-30T06:39:06.581Z"
   },
   {
    "duration": 8,
    "start_time": "2021-12-30T06:39:06.587Z"
   },
   {
    "duration": 9,
    "start_time": "2021-12-30T06:39:06.597Z"
   },
   {
    "duration": 56,
    "start_time": "2021-12-30T06:39:06.608Z"
   },
   {
    "duration": 20,
    "start_time": "2021-12-30T06:39:06.667Z"
   },
   {
    "duration": 9,
    "start_time": "2021-12-30T06:39:06.690Z"
   },
   {
    "duration": 11,
    "start_time": "2021-12-30T06:39:06.702Z"
   },
   {
    "duration": 63,
    "start_time": "2021-12-30T06:39:06.716Z"
   },
   {
    "duration": 10,
    "start_time": "2021-12-30T06:39:06.782Z"
   },
   {
    "duration": 23,
    "start_time": "2021-12-30T06:39:06.796Z"
   },
   {
    "duration": 43,
    "start_time": "2021-12-30T06:39:06.821Z"
   },
   {
    "duration": 15,
    "start_time": "2021-12-30T06:39:06.867Z"
   },
   {
    "duration": 813,
    "start_time": "2021-12-31T03:23:50.724Z"
   },
   {
    "duration": 1628,
    "start_time": "2021-12-31T03:23:57.927Z"
   },
   {
    "duration": 61,
    "start_time": "2021-12-31T03:23:59.558Z"
   },
   {
    "duration": 23,
    "start_time": "2021-12-31T03:23:59.622Z"
   },
   {
    "duration": 43,
    "start_time": "2021-12-31T03:23:59.648Z"
   },
   {
    "duration": 29,
    "start_time": "2021-12-31T03:23:59.693Z"
   },
   {
    "duration": 9,
    "start_time": "2021-12-31T03:23:59.725Z"
   },
   {
    "duration": 9,
    "start_time": "2021-12-31T03:23:59.768Z"
   },
   {
    "duration": 10,
    "start_time": "2021-12-31T03:23:59.780Z"
   },
   {
    "duration": 6,
    "start_time": "2021-12-31T03:23:59.794Z"
   },
   {
    "duration": 8,
    "start_time": "2021-12-31T03:23:59.804Z"
   },
   {
    "duration": 20,
    "start_time": "2021-12-31T03:23:59.868Z"
   },
   {
    "duration": 8,
    "start_time": "2021-12-31T03:23:59.891Z"
   },
   {
    "duration": 15,
    "start_time": "2021-12-31T03:23:59.902Z"
   },
   {
    "duration": 5,
    "start_time": "2021-12-31T03:23:59.920Z"
   },
   {
    "duration": 46,
    "start_time": "2021-12-31T03:23:59.928Z"
   },
   {
    "duration": 10,
    "start_time": "2021-12-31T03:23:59.977Z"
   },
   {
    "duration": 9,
    "start_time": "2021-12-31T03:23:59.990Z"
   },
   {
    "duration": 70,
    "start_time": "2021-12-31T03:24:00.002Z"
   },
   {
    "duration": 13,
    "start_time": "2021-12-31T03:24:00.075Z"
   },
   {
    "duration": 9,
    "start_time": "2021-12-31T03:24:00.091Z"
   },
   {
    "duration": 13,
    "start_time": "2021-12-31T03:24:00.103Z"
   },
   {
    "duration": 60,
    "start_time": "2021-12-31T03:24:00.118Z"
   },
   {
    "duration": 23,
    "start_time": "2021-12-31T03:24:00.180Z"
   },
   {
    "duration": 13,
    "start_time": "2021-12-31T03:24:00.206Z"
   },
   {
    "duration": 47,
    "start_time": "2021-12-31T03:24:00.222Z"
   },
   {
    "duration": 406,
    "start_time": "2021-12-31T03:25:52.194Z"
   },
   {
    "duration": 104,
    "start_time": "2021-12-31T03:26:22.772Z"
   },
   {
    "duration": 6,
    "start_time": "2021-12-31T03:26:40.612Z"
   },
   {
    "duration": 96,
    "start_time": "2021-12-31T03:26:50.988Z"
   },
   {
    "duration": 5,
    "start_time": "2021-12-31T03:26:53.540Z"
   },
   {
    "duration": 5,
    "start_time": "2021-12-31T03:27:53.186Z"
   },
   {
    "duration": 9,
    "start_time": "2021-12-31T03:32:40.920Z"
   },
   {
    "duration": 8,
    "start_time": "2021-12-31T03:33:19.428Z"
   },
   {
    "duration": 6,
    "start_time": "2021-12-31T03:33:24.748Z"
   },
   {
    "duration": 6,
    "start_time": "2021-12-31T03:33:40.566Z"
   },
   {
    "duration": 6,
    "start_time": "2021-12-31T03:38:19.584Z"
   },
   {
    "duration": 6,
    "start_time": "2021-12-31T03:43:05.400Z"
   },
   {
    "duration": 5,
    "start_time": "2021-12-31T03:43:13.579Z"
   },
   {
    "duration": 5,
    "start_time": "2021-12-31T03:44:23.215Z"
   },
   {
    "duration": 6,
    "start_time": "2021-12-31T03:44:30.575Z"
   },
   {
    "duration": 7,
    "start_time": "2021-12-31T03:45:22.412Z"
   },
   {
    "duration": 6,
    "start_time": "2021-12-31T03:45:38.925Z"
   },
   {
    "duration": 6,
    "start_time": "2021-12-31T03:46:46.156Z"
   },
   {
    "duration": 7,
    "start_time": "2021-12-31T03:47:18.076Z"
   },
   {
    "duration": 7,
    "start_time": "2021-12-31T03:47:40.349Z"
   },
   {
    "duration": 7,
    "start_time": "2021-12-31T03:48:17.679Z"
   },
   {
    "duration": 120,
    "start_time": "2021-12-31T04:18:07.301Z"
   },
   {
    "duration": 8,
    "start_time": "2021-12-31T04:18:13.515Z"
   },
   {
    "duration": 8,
    "start_time": "2021-12-31T04:18:18.676Z"
   },
   {
    "duration": 8,
    "start_time": "2021-12-31T04:18:23.008Z"
   },
   {
    "duration": 4,
    "start_time": "2021-12-31T04:39:33.872Z"
   },
   {
    "duration": 1119,
    "start_time": "2021-12-31T04:44:49.805Z"
   },
   {
    "duration": 1229,
    "start_time": "2021-12-31T04:45:40.978Z"
   },
   {
    "duration": 1334,
    "start_time": "2021-12-31T04:47:19.724Z"
   },
   {
    "duration": 1425,
    "start_time": "2021-12-31T04:47:38.222Z"
   },
   {
    "duration": 61,
    "start_time": "2021-12-31T04:47:39.649Z"
   },
   {
    "duration": 21,
    "start_time": "2021-12-31T04:47:39.712Z"
   },
   {
    "duration": 39,
    "start_time": "2021-12-31T04:47:39.735Z"
   },
   {
    "duration": 32,
    "start_time": "2021-12-31T04:47:39.776Z"
   },
   {
    "duration": 56,
    "start_time": "2021-12-31T04:47:39.811Z"
   },
   {
    "duration": 9,
    "start_time": "2021-12-31T04:47:39.870Z"
   },
   {
    "duration": 9,
    "start_time": "2021-12-31T04:47:39.882Z"
   },
   {
    "duration": 7,
    "start_time": "2021-12-31T04:47:39.895Z"
   },
   {
    "duration": 62,
    "start_time": "2021-12-31T04:47:39.905Z"
   },
   {
    "duration": 16,
    "start_time": "2021-12-31T04:47:39.970Z"
   },
   {
    "duration": 7,
    "start_time": "2021-12-31T04:47:39.988Z"
   },
   {
    "duration": 12,
    "start_time": "2021-12-31T04:47:39.997Z"
   },
   {
    "duration": 56,
    "start_time": "2021-12-31T04:47:40.011Z"
   },
   {
    "duration": 9,
    "start_time": "2021-12-31T04:47:40.070Z"
   },
   {
    "duration": 12,
    "start_time": "2021-12-31T04:47:40.082Z"
   },
   {
    "duration": 7,
    "start_time": "2021-12-31T04:47:40.097Z"
   },
   {
    "duration": 68,
    "start_time": "2021-12-31T04:47:40.107Z"
   },
   {
    "duration": 9,
    "start_time": "2021-12-31T04:47:40.178Z"
   },
   {
    "duration": 7,
    "start_time": "2021-12-31T04:47:40.190Z"
   },
   {
    "duration": 1311,
    "start_time": "2021-12-31T04:47:40.200Z"
   },
   {
    "duration": -282,
    "start_time": "2021-12-31T04:47:41.796Z"
   },
   {
    "duration": -284,
    "start_time": "2021-12-31T04:47:41.799Z"
   },
   {
    "duration": -288,
    "start_time": "2021-12-31T04:47:41.805Z"
   },
   {
    "duration": -291,
    "start_time": "2021-12-31T04:47:41.809Z"
   },
   {
    "duration": -291,
    "start_time": "2021-12-31T04:47:41.811Z"
   },
   {
    "duration": 1219,
    "start_time": "2021-12-31T04:48:13.055Z"
   },
   {
    "duration": 1263,
    "start_time": "2021-12-31T04:48:28.081Z"
   },
   {
    "duration": 1452,
    "start_time": "2021-12-31T04:49:20.781Z"
   },
   {
    "duration": 60,
    "start_time": "2021-12-31T04:49:22.236Z"
   },
   {
    "duration": 24,
    "start_time": "2021-12-31T04:49:22.300Z"
   },
   {
    "duration": 62,
    "start_time": "2021-12-31T04:49:22.328Z"
   },
   {
    "duration": 32,
    "start_time": "2021-12-31T04:49:22.394Z"
   },
   {
    "duration": 12,
    "start_time": "2021-12-31T04:49:22.468Z"
   },
   {
    "duration": 17,
    "start_time": "2021-12-31T04:49:22.483Z"
   },
   {
    "duration": 63,
    "start_time": "2021-12-31T04:49:22.506Z"
   },
   {
    "duration": 7,
    "start_time": "2021-12-31T04:49:22.572Z"
   },
   {
    "duration": 10,
    "start_time": "2021-12-31T04:49:22.581Z"
   },
   {
    "duration": 19,
    "start_time": "2021-12-31T04:49:22.593Z"
   },
   {
    "duration": 55,
    "start_time": "2021-12-31T04:49:22.615Z"
   },
   {
    "duration": 14,
    "start_time": "2021-12-31T04:49:22.673Z"
   },
   {
    "duration": 9,
    "start_time": "2021-12-31T04:49:22.690Z"
   },
   {
    "duration": 13,
    "start_time": "2021-12-31T04:49:22.701Z"
   },
   {
    "duration": 59,
    "start_time": "2021-12-31T04:49:22.717Z"
   },
   {
    "duration": 7,
    "start_time": "2021-12-31T04:49:22.779Z"
   },
   {
    "duration": 23,
    "start_time": "2021-12-31T04:49:22.789Z"
   },
   {
    "duration": 57,
    "start_time": "2021-12-31T04:49:22.815Z"
   },
   {
    "duration": 7,
    "start_time": "2021-12-31T04:49:22.875Z"
   },
   {
    "duration": 1376,
    "start_time": "2021-12-31T04:49:22.885Z"
   },
   {
    "duration": -373,
    "start_time": "2021-12-31T04:49:24.637Z"
   },
   {
    "duration": -377,
    "start_time": "2021-12-31T04:49:24.642Z"
   },
   {
    "duration": -380,
    "start_time": "2021-12-31T04:49:24.646Z"
   },
   {
    "duration": -382,
    "start_time": "2021-12-31T04:49:24.650Z"
   },
   {
    "duration": -383,
    "start_time": "2021-12-31T04:49:24.652Z"
   },
   {
    "duration": 1226,
    "start_time": "2021-12-31T04:49:45.928Z"
   },
   {
    "duration": 1283,
    "start_time": "2021-12-31T04:50:21.625Z"
   },
   {
    "duration": 1504,
    "start_time": "2021-12-31T04:51:30.152Z"
   },
   {
    "duration": 61,
    "start_time": "2021-12-31T04:51:31.659Z"
   },
   {
    "duration": 23,
    "start_time": "2021-12-31T04:51:31.723Z"
   },
   {
    "duration": 42,
    "start_time": "2021-12-31T04:51:31.750Z"
   },
   {
    "duration": 29,
    "start_time": "2021-12-31T04:51:31.795Z"
   },
   {
    "duration": 45,
    "start_time": "2021-12-31T04:51:31.827Z"
   },
   {
    "duration": 12,
    "start_time": "2021-12-31T04:51:31.875Z"
   },
   {
    "duration": 9,
    "start_time": "2021-12-31T04:51:31.891Z"
   },
   {
    "duration": 63,
    "start_time": "2021-12-31T04:51:31.904Z"
   },
   {
    "duration": 6,
    "start_time": "2021-12-31T04:51:31.970Z"
   },
   {
    "duration": 15,
    "start_time": "2021-12-31T04:51:31.979Z"
   },
   {
    "duration": 12,
    "start_time": "2021-12-31T04:51:31.997Z"
   },
   {
    "duration": 60,
    "start_time": "2021-12-31T04:51:32.013Z"
   },
   {
    "duration": 3,
    "start_time": "2021-12-31T04:51:32.076Z"
   },
   {
    "duration": 10,
    "start_time": "2021-12-31T04:51:32.081Z"
   },
   {
    "duration": 15,
    "start_time": "2021-12-31T04:51:32.094Z"
   },
   {
    "duration": 13,
    "start_time": "2021-12-31T04:51:32.111Z"
   },
   {
    "duration": 56,
    "start_time": "2021-12-31T04:51:32.126Z"
   },
   {
    "duration": 12,
    "start_time": "2021-12-31T04:51:32.184Z"
   },
   {
    "duration": 9,
    "start_time": "2021-12-31T04:51:32.198Z"
   },
   {
    "duration": 1342,
    "start_time": "2021-12-31T04:51:32.209Z"
   },
   {
    "duration": -138,
    "start_time": "2021-12-31T04:51:33.692Z"
   },
   {
    "duration": -143,
    "start_time": "2021-12-31T04:51:33.698Z"
   },
   {
    "duration": -146,
    "start_time": "2021-12-31T04:51:33.703Z"
   },
   {
    "duration": -148,
    "start_time": "2021-12-31T04:51:33.706Z"
   },
   {
    "duration": -395,
    "start_time": "2021-12-31T04:51:33.954Z"
   },
   {
    "duration": 1180,
    "start_time": "2021-12-31T04:53:57.011Z"
   },
   {
    "duration": 9,
    "start_time": "2021-12-31T04:54:16.898Z"
   },
   {
    "duration": 1125,
    "start_time": "2021-12-31T04:55:25.761Z"
   },
   {
    "duration": 1145,
    "start_time": "2021-12-31T04:58:04.420Z"
   },
   {
    "duration": 5,
    "start_time": "2021-12-31T05:00:00.875Z"
   },
   {
    "duration": 3,
    "start_time": "2021-12-31T05:00:14.922Z"
   },
   {
    "duration": 1598,
    "start_time": "2021-12-31T05:00:18.441Z"
   },
   {
    "duration": 4,
    "start_time": "2021-12-31T05:00:29.678Z"
   },
   {
    "duration": 2989,
    "start_time": "2021-12-31T05:00:32.450Z"
   },
   {
    "duration": 5,
    "start_time": "2021-12-31T05:00:53.710Z"
   },
   {
    "duration": 4,
    "start_time": "2021-12-31T05:00:58.568Z"
   },
   {
    "duration": 1475,
    "start_time": "2021-12-31T05:01:53.667Z"
   },
   {
    "duration": 60,
    "start_time": "2021-12-31T05:01:55.145Z"
   },
   {
    "duration": 21,
    "start_time": "2021-12-31T05:01:55.208Z"
   },
   {
    "duration": 44,
    "start_time": "2021-12-31T05:01:55.232Z"
   },
   {
    "duration": 27,
    "start_time": "2021-12-31T05:01:55.278Z"
   },
   {
    "duration": 8,
    "start_time": "2021-12-31T05:01:55.307Z"
   },
   {
    "duration": 53,
    "start_time": "2021-12-31T05:01:55.318Z"
   },
   {
    "duration": 9,
    "start_time": "2021-12-31T05:01:55.374Z"
   },
   {
    "duration": 6,
    "start_time": "2021-12-31T05:01:55.387Z"
   },
   {
    "duration": 7,
    "start_time": "2021-12-31T05:01:55.396Z"
   },
   {
    "duration": 64,
    "start_time": "2021-12-31T05:01:55.405Z"
   },
   {
    "duration": 10,
    "start_time": "2021-12-31T05:01:55.471Z"
   },
   {
    "duration": 13,
    "start_time": "2021-12-31T05:01:55.483Z"
   },
   {
    "duration": 7,
    "start_time": "2021-12-31T05:01:55.498Z"
   },
   {
    "duration": 62,
    "start_time": "2021-12-31T05:01:55.507Z"
   },
   {
    "duration": 9,
    "start_time": "2021-12-31T05:01:55.571Z"
   },
   {
    "duration": 12,
    "start_time": "2021-12-31T05:01:55.582Z"
   },
   {
    "duration": 20,
    "start_time": "2021-12-31T05:01:55.596Z"
   },
   {
    "duration": 50,
    "start_time": "2021-12-31T05:01:55.618Z"
   },
   {
    "duration": 6,
    "start_time": "2021-12-31T05:01:55.670Z"
   },
   {
    "duration": 9,
    "start_time": "2021-12-31T05:01:55.678Z"
   },
   {
    "duration": 10,
    "start_time": "2021-12-31T05:01:55.689Z"
   },
   {
    "duration": 1514,
    "start_time": "2021-12-31T05:02:56.943Z"
   },
   {
    "duration": 65,
    "start_time": "2021-12-31T05:02:58.460Z"
   },
   {
    "duration": 21,
    "start_time": "2021-12-31T05:02:58.529Z"
   },
   {
    "duration": 42,
    "start_time": "2021-12-31T05:02:58.553Z"
   },
   {
    "duration": 31,
    "start_time": "2021-12-31T05:02:58.598Z"
   },
   {
    "duration": 10,
    "start_time": "2021-12-31T05:02:58.668Z"
   },
   {
    "duration": 12,
    "start_time": "2021-12-31T05:02:58.680Z"
   },
   {
    "duration": 11,
    "start_time": "2021-12-31T05:02:58.695Z"
   },
   {
    "duration": 57,
    "start_time": "2021-12-31T05:02:58.710Z"
   },
   {
    "duration": 7,
    "start_time": "2021-12-31T05:02:58.771Z"
   },
   {
    "duration": 24,
    "start_time": "2021-12-31T05:02:58.780Z"
   },
   {
    "duration": 7,
    "start_time": "2021-12-31T05:02:58.807Z"
   },
   {
    "duration": 58,
    "start_time": "2021-12-31T05:02:58.817Z"
   },
   {
    "duration": 9,
    "start_time": "2021-12-31T05:02:58.877Z"
   },
   {
    "duration": 10,
    "start_time": "2021-12-31T05:02:58.888Z"
   },
   {
    "duration": 8,
    "start_time": "2021-12-31T05:02:58.901Z"
   },
   {
    "duration": 7,
    "start_time": "2021-12-31T05:02:58.912Z"
   },
   {
    "duration": 62,
    "start_time": "2021-12-31T05:02:58.921Z"
   },
   {
    "duration": 8,
    "start_time": "2021-12-31T05:02:58.985Z"
   },
   {
    "duration": 6,
    "start_time": "2021-12-31T05:02:58.996Z"
   },
   {
    "duration": 62,
    "start_time": "2021-12-31T05:02:59.005Z"
   },
   {
    "duration": 9,
    "start_time": "2021-12-31T05:02:59.069Z"
   },
   {
    "duration": 420,
    "start_time": "2021-12-31T05:02:59.080Z"
   },
   {
    "duration": -309,
    "start_time": "2021-12-31T05:02:59.812Z"
   },
   {
    "duration": -313,
    "start_time": "2021-12-31T05:02:59.817Z"
   },
   {
    "duration": -318,
    "start_time": "2021-12-31T05:02:59.823Z"
   },
   {
    "duration": -321,
    "start_time": "2021-12-31T05:02:59.828Z"
   },
   {
    "duration": -322,
    "start_time": "2021-12-31T05:02:59.831Z"
   },
   {
    "duration": -325,
    "start_time": "2021-12-31T05:02:59.836Z"
   },
   {
    "duration": -332,
    "start_time": "2021-12-31T05:02:59.845Z"
   },
   {
    "duration": -337,
    "start_time": "2021-12-31T05:02:59.853Z"
   },
   {
    "duration": 3,
    "start_time": "2021-12-31T05:03:11.202Z"
   },
   {
    "duration": 1465,
    "start_time": "2021-12-31T05:04:06.083Z"
   },
   {
    "duration": 60,
    "start_time": "2021-12-31T05:04:07.551Z"
   },
   {
    "duration": 21,
    "start_time": "2021-12-31T05:04:07.614Z"
   },
   {
    "duration": 43,
    "start_time": "2021-12-31T05:04:07.639Z"
   },
   {
    "duration": 28,
    "start_time": "2021-12-31T05:04:07.685Z"
   },
   {
    "duration": 52,
    "start_time": "2021-12-31T05:04:07.715Z"
   },
   {
    "duration": 10,
    "start_time": "2021-12-31T05:04:07.770Z"
   },
   {
    "duration": 9,
    "start_time": "2021-12-31T05:04:07.784Z"
   },
   {
    "duration": 7,
    "start_time": "2021-12-31T05:04:07.797Z"
   },
   {
    "duration": 64,
    "start_time": "2021-12-31T05:04:07.806Z"
   },
   {
    "duration": 14,
    "start_time": "2021-12-31T05:04:07.872Z"
   },
   {
    "duration": 7,
    "start_time": "2021-12-31T05:04:07.889Z"
   },
   {
    "duration": 69,
    "start_time": "2021-12-31T05:04:07.899Z"
   },
   {
    "duration": 4,
    "start_time": "2021-12-31T05:04:07.970Z"
   },
   {
    "duration": 8,
    "start_time": "2021-12-31T05:04:07.976Z"
   },
   {
    "duration": 10,
    "start_time": "2021-12-31T05:04:07.986Z"
   },
   {
    "duration": 6,
    "start_time": "2021-12-31T05:04:07.999Z"
   },
   {
    "duration": 72,
    "start_time": "2021-12-31T05:04:08.007Z"
   },
   {
    "duration": 6,
    "start_time": "2021-12-31T05:04:08.082Z"
   },
   {
    "duration": 6,
    "start_time": "2021-12-31T05:04:08.091Z"
   },
   {
    "duration": 4,
    "start_time": "2021-12-31T05:04:08.100Z"
   },
   {
    "duration": 12,
    "start_time": "2021-12-31T05:04:08.106Z"
   },
   {
    "duration": 2874,
    "start_time": "2021-12-31T05:04:08.170Z"
   },
   {
    "duration": -1994,
    "start_time": "2021-12-31T05:04:13.042Z"
   },
   {
    "duration": -2318,
    "start_time": "2021-12-31T05:04:13.368Z"
   },
   {
    "duration": -2338,
    "start_time": "2021-12-31T05:04:13.391Z"
   },
   {
    "duration": -2427,
    "start_time": "2021-12-31T05:04:13.482Z"
   },
   {
    "duration": -2427,
    "start_time": "2021-12-31T05:04:13.484Z"
   },
   {
    "duration": -2428,
    "start_time": "2021-12-31T05:04:13.487Z"
   },
   {
    "duration": -2424,
    "start_time": "2021-12-31T05:04:13.491Z"
   },
   {
    "duration": 3,
    "start_time": "2021-12-31T05:04:23.735Z"
   },
   {
    "duration": 3515,
    "start_time": "2021-12-31T05:04:25.833Z"
   },
   {
    "duration": 3,
    "start_time": "2021-12-31T05:04:39.697Z"
   },
   {
    "duration": 9,
    "start_time": "2021-12-31T05:04:40.448Z"
   },
   {
    "duration": 3657,
    "start_time": "2021-12-31T05:04:40.842Z"
   },
   {
    "duration": 4,
    "start_time": "2021-12-31T05:04:51.254Z"
   },
   {
    "duration": 10,
    "start_time": "2021-12-31T05:04:51.641Z"
   },
   {
    "duration": 1441,
    "start_time": "2021-12-31T05:06:25.103Z"
   },
   {
    "duration": 59,
    "start_time": "2021-12-31T05:06:26.547Z"
   },
   {
    "duration": 20,
    "start_time": "2021-12-31T05:06:26.609Z"
   },
   {
    "duration": 44,
    "start_time": "2021-12-31T05:06:26.632Z"
   },
   {
    "duration": 27,
    "start_time": "2021-12-31T05:06:26.679Z"
   },
   {
    "duration": 9,
    "start_time": "2021-12-31T05:06:26.709Z"
   },
   {
    "duration": 55,
    "start_time": "2021-12-31T05:06:26.720Z"
   },
   {
    "duration": 15,
    "start_time": "2021-12-31T05:06:26.779Z"
   },
   {
    "duration": 6,
    "start_time": "2021-12-31T05:06:26.797Z"
   },
   {
    "duration": 8,
    "start_time": "2021-12-31T05:06:26.806Z"
   },
   {
    "duration": 14,
    "start_time": "2021-12-31T05:06:26.867Z"
   },
   {
    "duration": 11,
    "start_time": "2021-12-31T05:06:26.884Z"
   },
   {
    "duration": 11,
    "start_time": "2021-12-31T05:06:26.897Z"
   },
   {
    "duration": 3,
    "start_time": "2021-12-31T05:06:26.911Z"
   },
   {
    "duration": 53,
    "start_time": "2021-12-31T05:06:26.917Z"
   },
   {
    "duration": 10,
    "start_time": "2021-12-31T05:06:26.973Z"
   },
   {
    "duration": 7,
    "start_time": "2021-12-31T05:06:26.986Z"
   },
   {
    "duration": 28,
    "start_time": "2021-12-31T05:06:26.995Z"
   },
   {
    "duration": 46,
    "start_time": "2021-12-31T05:06:27.026Z"
   },
   {
    "duration": 7,
    "start_time": "2021-12-31T05:06:27.074Z"
   },
   {
    "duration": 10,
    "start_time": "2021-12-31T05:06:27.083Z"
   },
   {
    "duration": 10,
    "start_time": "2021-12-31T05:06:27.095Z"
   },
   {
    "duration": 3946,
    "start_time": "2021-12-31T05:06:27.110Z"
   },
   {
    "duration": -378,
    "start_time": "2021-12-31T05:06:31.437Z"
   },
   {
    "duration": -381,
    "start_time": "2021-12-31T05:06:31.441Z"
   },
   {
    "duration": -384,
    "start_time": "2021-12-31T05:06:31.445Z"
   },
   {
    "duration": -384,
    "start_time": "2021-12-31T05:06:31.450Z"
   },
   {
    "duration": -385,
    "start_time": "2021-12-31T05:06:31.453Z"
   },
   {
    "duration": -387,
    "start_time": "2021-12-31T05:06:31.457Z"
   },
   {
    "duration": -389,
    "start_time": "2021-12-31T05:06:31.460Z"
   },
   {
    "duration": 95,
    "start_time": "2021-12-31T05:08:25.890Z"
   },
   {
    "duration": 86,
    "start_time": "2021-12-31T05:08:36.081Z"
   },
   {
    "duration": 4033,
    "start_time": "2021-12-31T05:08:46.199Z"
   },
   {
    "duration": 3953,
    "start_time": "2021-12-31T05:09:46.731Z"
   },
   {
    "duration": 1509,
    "start_time": "2021-12-31T05:20:56.047Z"
   },
   {
    "duration": 59,
    "start_time": "2021-12-31T05:20:57.559Z"
   },
   {
    "duration": 20,
    "start_time": "2021-12-31T05:20:57.621Z"
   },
   {
    "duration": 40,
    "start_time": "2021-12-31T05:20:57.643Z"
   },
   {
    "duration": 27,
    "start_time": "2021-12-31T05:20:57.686Z"
   },
   {
    "duration": 8,
    "start_time": "2021-12-31T05:20:57.716Z"
   },
   {
    "duration": 48,
    "start_time": "2021-12-31T05:20:57.726Z"
   },
   {
    "duration": 9,
    "start_time": "2021-12-31T05:20:57.777Z"
   },
   {
    "duration": 11,
    "start_time": "2021-12-31T05:20:57.789Z"
   },
   {
    "duration": 7,
    "start_time": "2021-12-31T05:20:57.802Z"
   },
   {
    "duration": 66,
    "start_time": "2021-12-31T05:20:57.812Z"
   },
   {
    "duration": 7,
    "start_time": "2021-12-31T05:20:57.881Z"
   },
   {
    "duration": 15,
    "start_time": "2021-12-31T05:20:57.891Z"
   },
   {
    "duration": 58,
    "start_time": "2021-12-31T05:20:57.909Z"
   },
   {
    "duration": 9,
    "start_time": "2021-12-31T05:20:57.971Z"
   },
   {
    "duration": 18,
    "start_time": "2021-12-31T05:20:57.983Z"
   },
   {
    "duration": 7,
    "start_time": "2021-12-31T05:20:58.005Z"
   },
   {
    "duration": 24,
    "start_time": "2021-12-31T05:20:58.067Z"
   },
   {
    "duration": 10,
    "start_time": "2021-12-31T05:20:58.094Z"
   },
   {
    "duration": 60,
    "start_time": "2021-12-31T05:20:58.108Z"
   },
   {
    "duration": 4,
    "start_time": "2021-12-31T05:20:58.171Z"
   },
   {
    "duration": 13,
    "start_time": "2021-12-31T05:20:58.178Z"
   },
   {
    "duration": 3968,
    "start_time": "2021-12-31T05:20:58.198Z"
   },
   {
    "duration": -518,
    "start_time": "2021-12-31T05:21:02.687Z"
   },
   {
    "duration": -524,
    "start_time": "2021-12-31T05:21:02.694Z"
   },
   {
    "duration": -526,
    "start_time": "2021-12-31T05:21:02.698Z"
   },
   {
    "duration": -530,
    "start_time": "2021-12-31T05:21:02.703Z"
   },
   {
    "duration": -671,
    "start_time": "2021-12-31T05:21:02.846Z"
   },
   {
    "duration": -674,
    "start_time": "2021-12-31T05:21:02.850Z"
   },
   {
    "duration": -680,
    "start_time": "2021-12-31T05:21:02.857Z"
   },
   {
    "duration": 4001,
    "start_time": "2021-12-31T05:30:57.721Z"
   },
   {
    "duration": 441,
    "start_time": "2021-12-31T05:33:21.017Z"
   },
   {
    "duration": 2971,
    "start_time": "2021-12-31T05:33:40.524Z"
   },
   {
    "duration": 1617,
    "start_time": "2021-12-31T05:39:55.229Z"
   },
   {
    "duration": 63,
    "start_time": "2021-12-31T05:39:56.849Z"
   },
   {
    "duration": 24,
    "start_time": "2021-12-31T05:39:56.916Z"
   },
   {
    "duration": 44,
    "start_time": "2021-12-31T05:39:56.943Z"
   },
   {
    "duration": 31,
    "start_time": "2021-12-31T05:39:56.990Z"
   },
   {
    "duration": 49,
    "start_time": "2021-12-31T05:39:57.024Z"
   },
   {
    "duration": 11,
    "start_time": "2021-12-31T05:39:57.076Z"
   },
   {
    "duration": 10,
    "start_time": "2021-12-31T05:39:57.092Z"
   },
   {
    "duration": 8,
    "start_time": "2021-12-31T05:39:57.106Z"
   },
   {
    "duration": 6,
    "start_time": "2021-12-31T05:39:57.168Z"
   },
   {
    "duration": 15,
    "start_time": "2021-12-31T05:39:57.177Z"
   },
   {
    "duration": 6,
    "start_time": "2021-12-31T05:39:57.194Z"
   },
   {
    "duration": 13,
    "start_time": "2021-12-31T05:39:57.203Z"
   },
   {
    "duration": 4,
    "start_time": "2021-12-31T05:39:57.218Z"
   },
   {
    "duration": 49,
    "start_time": "2021-12-31T05:39:57.224Z"
   },
   {
    "duration": 9,
    "start_time": "2021-12-31T05:39:57.275Z"
   },
   {
    "duration": 6,
    "start_time": "2021-12-31T05:39:57.286Z"
   },
   {
    "duration": 19,
    "start_time": "2021-12-31T05:39:57.295Z"
   },
   {
    "duration": 49,
    "start_time": "2021-12-31T05:39:57.317Z"
   },
   {
    "duration": 6,
    "start_time": "2021-12-31T05:39:57.369Z"
   },
   {
    "duration": 10,
    "start_time": "2021-12-31T05:39:57.377Z"
   },
   {
    "duration": 1222,
    "start_time": "2021-12-31T05:39:57.389Z"
   },
   {
    "duration": -369,
    "start_time": "2021-12-31T05:39:58.983Z"
   },
   {
    "duration": -527,
    "start_time": "2021-12-31T05:39:59.142Z"
   },
   {
    "duration": -538,
    "start_time": "2021-12-31T05:39:59.155Z"
   },
   {
    "duration": -550,
    "start_time": "2021-12-31T05:39:59.168Z"
   },
   {
    "duration": -563,
    "start_time": "2021-12-31T05:39:59.182Z"
   },
   {
    "duration": -566,
    "start_time": "2021-12-31T05:39:59.187Z"
   },
   {
    "duration": 286,
    "start_time": "2022-01-01T02:34:08.460Z"
   },
   {
    "duration": 1152,
    "start_time": "2022-01-01T02:34:20.361Z"
   },
   {
    "duration": 60,
    "start_time": "2022-01-01T02:34:21.515Z"
   },
   {
    "duration": 13,
    "start_time": "2022-01-01T02:34:21.577Z"
   },
   {
    "duration": 25,
    "start_time": "2022-01-01T02:34:21.592Z"
   },
   {
    "duration": 18,
    "start_time": "2022-01-01T02:34:21.618Z"
   },
   {
    "duration": 27,
    "start_time": "2022-01-01T02:34:21.638Z"
   },
   {
    "duration": 8,
    "start_time": "2022-01-01T02:34:21.666Z"
   },
   {
    "duration": 10,
    "start_time": "2022-01-01T02:34:21.676Z"
   },
   {
    "duration": 13,
    "start_time": "2022-01-01T02:34:21.688Z"
   },
   {
    "duration": 7,
    "start_time": "2022-01-01T02:34:21.703Z"
   },
   {
    "duration": 19,
    "start_time": "2022-01-01T02:34:21.712Z"
   },
   {
    "duration": 9,
    "start_time": "2022-01-01T02:34:21.733Z"
   },
   {
    "duration": 9,
    "start_time": "2022-01-01T02:34:21.761Z"
   },
   {
    "duration": 11,
    "start_time": "2022-01-01T02:34:21.772Z"
   },
   {
    "duration": 7,
    "start_time": "2022-01-01T02:34:21.784Z"
   },
   {
    "duration": 11,
    "start_time": "2022-01-01T02:34:21.793Z"
   },
   {
    "duration": 5,
    "start_time": "2022-01-01T02:34:21.806Z"
   },
   {
    "duration": 14,
    "start_time": "2022-01-01T02:34:21.813Z"
   },
   {
    "duration": 36,
    "start_time": "2022-01-01T02:34:21.828Z"
   },
   {
    "duration": 7,
    "start_time": "2022-01-01T02:34:21.866Z"
   },
   {
    "duration": 7,
    "start_time": "2022-01-01T02:34:21.875Z"
   },
   {
    "duration": 8,
    "start_time": "2022-01-01T02:34:21.884Z"
   },
   {
    "duration": 332,
    "start_time": "2022-01-01T02:34:21.895Z"
   },
   {
    "duration": -19,
    "start_time": "2022-01-01T02:34:22.248Z"
   },
   {
    "duration": -23,
    "start_time": "2022-01-01T02:34:22.253Z"
   },
   {
    "duration": -27,
    "start_time": "2022-01-01T02:34:22.258Z"
   },
   {
    "duration": -33,
    "start_time": "2022-01-01T02:34:22.265Z"
   },
   {
    "duration": -38,
    "start_time": "2022-01-01T02:34:22.271Z"
   },
   {
    "duration": -47,
    "start_time": "2022-01-01T02:34:22.280Z"
   },
   {
    "duration": -49,
    "start_time": "2022-01-01T02:34:22.283Z"
   },
   {
    "duration": 80,
    "start_time": "2022-01-01T02:40:45.485Z"
   },
   {
    "duration": 742,
    "start_time": "2022-01-01T02:41:08.865Z"
   },
   {
    "duration": 2,
    "start_time": "2022-01-01T02:41:19.951Z"
   },
   {
    "duration": 2502,
    "start_time": "2022-01-01T02:41:24.435Z"
   },
   {
    "duration": 2506,
    "start_time": "2022-01-01T02:42:01.829Z"
   },
   {
    "duration": 2336,
    "start_time": "2022-01-01T02:42:37.208Z"
   },
   {
    "duration": 2645,
    "start_time": "2022-01-01T02:53:17.819Z"
   },
   {
    "duration": 3438,
    "start_time": "2022-01-01T02:55:21.717Z"
   },
   {
    "duration": 135,
    "start_time": "2022-01-01T02:56:04.157Z"
   },
   {
    "duration": 9,
    "start_time": "2022-01-01T02:56:13.490Z"
   },
   {
    "duration": 131,
    "start_time": "2022-01-01T02:56:47.941Z"
   },
   {
    "duration": 1802,
    "start_time": "2022-01-01T02:56:49.516Z"
   },
   {
    "duration": 3,
    "start_time": "2022-01-01T02:57:13.273Z"
   },
   {
    "duration": 127,
    "start_time": "2022-01-01T02:57:16.055Z"
   },
   {
    "duration": 129,
    "start_time": "2022-01-01T02:57:20.187Z"
   },
   {
    "duration": 3,
    "start_time": "2022-01-01T02:57:27.493Z"
   },
   {
    "duration": 133,
    "start_time": "2022-01-01T02:57:31.667Z"
   },
   {
    "duration": 1951,
    "start_time": "2022-01-01T02:57:32.216Z"
   },
   {
    "duration": 402,
    "start_time": "2022-01-01T03:00:03.687Z"
   },
   {
    "duration": 88,
    "start_time": "2022-01-01T03:00:22.418Z"
   },
   {
    "duration": 141,
    "start_time": "2022-01-01T03:00:25.624Z"
   },
   {
    "duration": 8,
    "start_time": "2022-01-01T03:00:33.006Z"
   },
   {
    "duration": 9,
    "start_time": "2022-01-01T03:00:41.724Z"
   },
   {
    "duration": 394,
    "start_time": "2022-01-01T03:01:29.262Z"
   },
   {
    "duration": 141,
    "start_time": "2022-01-01T03:01:42.488Z"
   },
   {
    "duration": 131,
    "start_time": "2022-01-01T03:02:08.519Z"
   },
   {
    "duration": 1780,
    "start_time": "2022-01-01T03:02:14.704Z"
   },
   {
    "duration": 6,
    "start_time": "2022-01-01T03:03:17.062Z"
   },
   {
    "duration": 8,
    "start_time": "2022-01-01T03:03:20.130Z"
   },
   {
    "duration": 3,
    "start_time": "2022-01-01T03:03:24.915Z"
   },
   {
    "duration": 1448,
    "start_time": "2022-01-05T00:37:40.709Z"
   },
   {
    "duration": 1459,
    "start_time": "2022-01-05T00:38:07.978Z"
   },
   {
    "duration": 59,
    "start_time": "2022-01-05T00:38:09.440Z"
   },
   {
    "duration": 22,
    "start_time": "2022-01-05T00:38:09.501Z"
   },
   {
    "duration": 53,
    "start_time": "2022-01-05T00:38:09.525Z"
   },
   {
    "duration": 28,
    "start_time": "2022-01-05T00:38:09.580Z"
   },
   {
    "duration": 8,
    "start_time": "2022-01-05T00:38:09.610Z"
   },
   {
    "duration": 54,
    "start_time": "2022-01-05T00:38:09.621Z"
   },
   {
    "duration": 8,
    "start_time": "2022-01-05T00:38:09.679Z"
   },
   {
    "duration": 7,
    "start_time": "2022-01-05T00:38:09.690Z"
   },
   {
    "duration": 10,
    "start_time": "2022-01-05T00:38:09.699Z"
   },
   {
    "duration": 67,
    "start_time": "2022-01-05T00:38:09.711Z"
   },
   {
    "duration": 12,
    "start_time": "2022-01-05T00:38:09.780Z"
   },
   {
    "duration": 13,
    "start_time": "2022-01-05T00:38:09.794Z"
   },
   {
    "duration": 3,
    "start_time": "2022-01-05T00:38:09.810Z"
   },
   {
    "duration": 57,
    "start_time": "2022-01-05T00:38:09.816Z"
   },
   {
    "duration": 8,
    "start_time": "2022-01-05T00:38:09.876Z"
   },
   {
    "duration": 7,
    "start_time": "2022-01-05T00:38:09.887Z"
   },
   {
    "duration": 20,
    "start_time": "2022-01-05T00:38:09.896Z"
   },
   {
    "duration": 8,
    "start_time": "2022-01-05T00:38:09.968Z"
   },
   {
    "duration": 8,
    "start_time": "2022-01-05T00:38:09.978Z"
   },
   {
    "duration": 9,
    "start_time": "2022-01-05T00:38:09.988Z"
   },
   {
    "duration": 11,
    "start_time": "2022-01-05T00:38:10.000Z"
   },
   {
    "duration": 329,
    "start_time": "2022-01-05T00:38:10.015Z"
   },
   {
    "duration": 4,
    "start_time": "2022-01-05T00:38:10.346Z"
   },
   {
    "duration": 262,
    "start_time": "2022-01-05T00:38:10.352Z"
   },
   {
    "duration": 273,
    "start_time": "2022-01-05T00:38:10.616Z"
   },
   {
    "duration": 256,
    "start_time": "2022-01-05T00:38:10.892Z"
   },
   {
    "duration": 402,
    "start_time": "2022-01-05T00:38:11.150Z"
   },
   {
    "duration": -1610,
    "start_time": "2022-01-05T00:38:13.165Z"
   },
   {
    "duration": -1613,
    "start_time": "2022-01-05T00:38:13.169Z"
   },
   {
    "duration": -1614,
    "start_time": "2022-01-05T00:38:13.172Z"
   },
   {
    "duration": -1617,
    "start_time": "2022-01-05T00:38:13.176Z"
   },
   {
    "duration": -1618,
    "start_time": "2022-01-05T00:38:13.179Z"
   },
   {
    "duration": -1620,
    "start_time": "2022-01-05T00:38:13.182Z"
   },
   {
    "duration": 12,
    "start_time": "2022-01-05T00:39:14.936Z"
   },
   {
    "duration": 11,
    "start_time": "2022-01-05T00:39:23.058Z"
   },
   {
    "duration": 12,
    "start_time": "2022-01-05T00:39:35.882Z"
   },
   {
    "duration": 723,
    "start_time": "2022-01-05T00:47:28.652Z"
   },
   {
    "duration": 12,
    "start_time": "2022-01-05T00:52:02.762Z"
   },
   {
    "duration": 350,
    "start_time": "2022-01-05T01:03:24.043Z"
   },
   {
    "duration": 1463,
    "start_time": "2022-01-05T01:03:37.704Z"
   },
   {
    "duration": 60,
    "start_time": "2022-01-05T01:03:39.170Z"
   },
   {
    "duration": 24,
    "start_time": "2022-01-05T01:03:39.233Z"
   },
   {
    "duration": 43,
    "start_time": "2022-01-05T01:03:39.260Z"
   },
   {
    "duration": 29,
    "start_time": "2022-01-05T01:03:39.306Z"
   },
   {
    "duration": 9,
    "start_time": "2022-01-05T01:03:39.369Z"
   },
   {
    "duration": 10,
    "start_time": "2022-01-05T01:03:39.380Z"
   },
   {
    "duration": 12,
    "start_time": "2022-01-05T01:03:39.394Z"
   },
   {
    "duration": 60,
    "start_time": "2022-01-05T01:03:39.409Z"
   },
   {
    "duration": 9,
    "start_time": "2022-01-05T01:03:39.472Z"
   },
   {
    "duration": 18,
    "start_time": "2022-01-05T01:03:39.484Z"
   },
   {
    "duration": 10,
    "start_time": "2022-01-05T01:03:39.504Z"
   },
   {
    "duration": 12,
    "start_time": "2022-01-05T01:03:39.567Z"
   },
   {
    "duration": 6,
    "start_time": "2022-01-05T01:03:39.582Z"
   },
   {
    "duration": 10,
    "start_time": "2022-01-05T01:03:39.590Z"
   },
   {
    "duration": 10,
    "start_time": "2022-01-05T01:03:39.603Z"
   },
   {
    "duration": 56,
    "start_time": "2022-01-05T01:03:39.615Z"
   },
   {
    "duration": 21,
    "start_time": "2022-01-05T01:03:39.674Z"
   },
   {
    "duration": 8,
    "start_time": "2022-01-05T01:03:39.697Z"
   },
   {
    "duration": 8,
    "start_time": "2022-01-05T01:03:39.708Z"
   },
   {
    "duration": 10,
    "start_time": "2022-01-05T01:03:39.769Z"
   },
   {
    "duration": 14,
    "start_time": "2022-01-05T01:03:39.782Z"
   },
   {
    "duration": 4,
    "start_time": "2022-01-05T01:03:39.801Z"
   },
   {
    "duration": 6,
    "start_time": "2022-01-05T01:03:39.807Z"
   },
   {
    "duration": 406,
    "start_time": "2022-01-05T01:03:39.815Z"
   },
   {
    "duration": -300,
    "start_time": "2022-01-05T01:03:40.523Z"
   },
   {
    "duration": -303,
    "start_time": "2022-01-05T01:03:40.528Z"
   },
   {
    "duration": -310,
    "start_time": "2022-01-05T01:03:40.536Z"
   },
   {
    "duration": -314,
    "start_time": "2022-01-05T01:03:40.541Z"
   },
   {
    "duration": -315,
    "start_time": "2022-01-05T01:03:40.544Z"
   },
   {
    "duration": -317,
    "start_time": "2022-01-05T01:03:40.547Z"
   },
   {
    "duration": -320,
    "start_time": "2022-01-05T01:03:40.551Z"
   },
   {
    "duration": -321,
    "start_time": "2022-01-05T01:03:40.553Z"
   },
   {
    "duration": -323,
    "start_time": "2022-01-05T01:03:40.557Z"
   },
   {
    "duration": -324,
    "start_time": "2022-01-05T01:03:40.559Z"
   },
   {
    "duration": -327,
    "start_time": "2022-01-05T01:03:40.563Z"
   },
   {
    "duration": 273,
    "start_time": "2022-01-05T01:03:49.343Z"
   },
   {
    "duration": 14,
    "start_time": "2022-01-05T01:03:57.477Z"
   },
   {
    "duration": 14,
    "start_time": "2022-01-05T01:04:25.346Z"
   },
   {
    "duration": 281,
    "start_time": "2022-01-05T01:04:59.409Z"
   },
   {
    "duration": 266,
    "start_time": "2022-01-05T01:04:59.903Z"
   },
   {
    "duration": 36,
    "start_time": "2022-01-05T01:05:07.575Z"
   },
   {
    "duration": 35,
    "start_time": "2022-01-05T01:05:28.257Z"
   },
   {
    "duration": 15,
    "start_time": "2022-01-05T01:05:47.230Z"
   },
   {
    "duration": 4,
    "start_time": "2022-01-05T01:06:36.326Z"
   },
   {
    "duration": 14,
    "start_time": "2022-01-05T01:07:03.900Z"
   },
   {
    "duration": 5,
    "start_time": "2022-01-05T01:07:39.865Z"
   },
   {
    "duration": 17,
    "start_time": "2022-01-05T01:07:42.662Z"
   },
   {
    "duration": 14,
    "start_time": "2022-01-05T01:08:10.172Z"
   },
   {
    "duration": 7,
    "start_time": "2022-01-05T01:08:18.140Z"
   },
   {
    "duration": 22,
    "start_time": "2022-01-05T01:08:18.790Z"
   },
   {
    "duration": 102,
    "start_time": "2022-01-05T01:10:40.077Z"
   },
   {
    "duration": 11,
    "start_time": "2022-01-05T01:10:40.621Z"
   },
   {
    "duration": 84,
    "start_time": "2022-01-05T01:11:05.656Z"
   },
   {
    "duration": 19,
    "start_time": "2022-01-05T01:11:23.578Z"
   },
   {
    "duration": 1026,
    "start_time": "2022-01-05T01:12:14.849Z"
   },
   {
    "duration": 1117,
    "start_time": "2022-01-05T01:12:58.738Z"
   },
   {
    "duration": 100,
    "start_time": "2022-01-05T01:13:31.973Z"
   },
   {
    "duration": 274,
    "start_time": "2022-01-05T01:13:37.599Z"
   },
   {
    "duration": 14,
    "start_time": "2022-01-05T01:13:40.040Z"
   },
   {
    "duration": 16,
    "start_time": "2022-01-05T01:15:21.142Z"
   },
   {
    "duration": 1514,
    "start_time": "2022-01-05T01:16:02.241Z"
   },
   {
    "duration": 60,
    "start_time": "2022-01-05T01:16:03.757Z"
   },
   {
    "duration": 22,
    "start_time": "2022-01-05T01:16:03.821Z"
   },
   {
    "duration": 40,
    "start_time": "2022-01-05T01:16:03.846Z"
   },
   {
    "duration": 29,
    "start_time": "2022-01-05T01:16:03.889Z"
   },
   {
    "duration": 9,
    "start_time": "2022-01-05T01:16:03.920Z"
   },
   {
    "duration": 11,
    "start_time": "2022-01-05T01:16:03.968Z"
   },
   {
    "duration": 9,
    "start_time": "2022-01-05T01:16:03.983Z"
   },
   {
    "duration": 8,
    "start_time": "2022-01-05T01:16:03.995Z"
   },
   {
    "duration": 65,
    "start_time": "2022-01-05T01:16:04.005Z"
   },
   {
    "duration": 15,
    "start_time": "2022-01-05T01:16:04.072Z"
   },
   {
    "duration": 9,
    "start_time": "2022-01-05T01:16:04.089Z"
   },
   {
    "duration": 72,
    "start_time": "2022-01-05T01:16:04.101Z"
   },
   {
    "duration": 7,
    "start_time": "2022-01-05T01:16:04.176Z"
   },
   {
    "duration": 9,
    "start_time": "2022-01-05T01:16:04.185Z"
   },
   {
    "duration": 12,
    "start_time": "2022-01-05T01:16:04.196Z"
   },
   {
    "duration": 6,
    "start_time": "2022-01-05T01:16:04.210Z"
   },
   {
    "duration": 66,
    "start_time": "2022-01-05T01:16:04.219Z"
   },
   {
    "duration": 7,
    "start_time": "2022-01-05T01:16:04.287Z"
   },
   {
    "duration": 8,
    "start_time": "2022-01-05T01:16:04.297Z"
   },
   {
    "duration": 9,
    "start_time": "2022-01-05T01:16:04.307Z"
   },
   {
    "duration": 16,
    "start_time": "2022-01-05T01:16:04.367Z"
   },
   {
    "duration": 4,
    "start_time": "2022-01-05T01:16:04.387Z"
   },
   {
    "duration": 5,
    "start_time": "2022-01-05T01:16:04.393Z"
   },
   {
    "duration": 322,
    "start_time": "2022-01-05T01:16:04.400Z"
   },
   {
    "duration": 13,
    "start_time": "2022-01-05T01:16:04.724Z"
   },
   {
    "duration": 295,
    "start_time": "2022-01-05T01:16:04.739Z"
   },
   {
    "duration": 12,
    "start_time": "2022-01-05T01:16:05.037Z"
   },
   {
    "duration": 301,
    "start_time": "2022-01-05T01:16:05.051Z"
   },
   {
    "duration": 22,
    "start_time": "2022-01-05T01:16:05.354Z"
   },
   {
    "duration": 379,
    "start_time": "2022-01-05T01:16:05.378Z"
   },
   {
    "duration": -334,
    "start_time": "2022-01-05T01:16:06.094Z"
   },
   {
    "duration": -343,
    "start_time": "2022-01-05T01:16:06.104Z"
   },
   {
    "duration": -353,
    "start_time": "2022-01-05T01:16:06.115Z"
   },
   {
    "duration": -355,
    "start_time": "2022-01-05T01:16:06.119Z"
   },
   {
    "duration": -357,
    "start_time": "2022-01-05T01:16:06.122Z"
   },
   {
    "duration": -360,
    "start_time": "2022-01-05T01:16:06.127Z"
   },
   {
    "duration": -363,
    "start_time": "2022-01-05T01:16:06.131Z"
   },
   {
    "duration": 25,
    "start_time": "2022-01-05T01:17:16.849Z"
   },
   {
    "duration": 261,
    "start_time": "2022-01-05T01:20:45.912Z"
   },
   {
    "duration": 11,
    "start_time": "2022-01-05T01:21:04.810Z"
   },
   {
    "duration": 19,
    "start_time": "2022-01-05T01:21:09.400Z"
   },
   {
    "duration": 1523,
    "start_time": "2022-01-05T01:21:55.030Z"
   },
   {
    "duration": 60,
    "start_time": "2022-01-05T01:21:56.556Z"
   },
   {
    "duration": 23,
    "start_time": "2022-01-05T01:21:56.619Z"
   },
   {
    "duration": 48,
    "start_time": "2022-01-05T01:21:56.646Z"
   },
   {
    "duration": 75,
    "start_time": "2022-01-05T01:21:56.697Z"
   },
   {
    "duration": 10,
    "start_time": "2022-01-05T01:21:56.775Z"
   },
   {
    "duration": 19,
    "start_time": "2022-01-05T01:21:56.788Z"
   },
   {
    "duration": 61,
    "start_time": "2022-01-05T01:21:56.813Z"
   },
   {
    "duration": 8,
    "start_time": "2022-01-05T01:21:56.879Z"
   },
   {
    "duration": 15,
    "start_time": "2022-01-05T01:21:56.890Z"
   },
   {
    "duration": 69,
    "start_time": "2022-01-05T01:21:56.908Z"
   },
   {
    "duration": 8,
    "start_time": "2022-01-05T01:21:56.981Z"
   },
   {
    "duration": 16,
    "start_time": "2022-01-05T01:21:56.991Z"
   },
   {
    "duration": 6,
    "start_time": "2022-01-05T01:21:57.010Z"
   },
   {
    "duration": 51,
    "start_time": "2022-01-05T01:21:57.018Z"
   },
   {
    "duration": 10,
    "start_time": "2022-01-05T01:21:57.073Z"
   },
   {
    "duration": 9,
    "start_time": "2022-01-05T01:21:57.086Z"
   },
   {
    "duration": 76,
    "start_time": "2022-01-05T01:21:57.099Z"
   },
   {
    "duration": 10,
    "start_time": "2022-01-05T01:21:57.178Z"
   },
   {
    "duration": 7,
    "start_time": "2022-01-05T01:21:57.191Z"
   },
   {
    "duration": 12,
    "start_time": "2022-01-05T01:21:57.201Z"
   },
   {
    "duration": 21,
    "start_time": "2022-01-05T01:21:57.267Z"
   },
   {
    "duration": 3,
    "start_time": "2022-01-05T01:21:57.296Z"
   },
   {
    "duration": 4,
    "start_time": "2022-01-05T01:21:57.303Z"
   },
   {
    "duration": 340,
    "start_time": "2022-01-05T01:21:57.311Z"
   },
   {
    "duration": 294,
    "start_time": "2022-01-05T01:21:57.654Z"
   },
   {
    "duration": 290,
    "start_time": "2022-01-05T01:21:57.951Z"
   },
   {
    "duration": 8,
    "start_time": "2022-01-05T01:21:58.244Z"
   },
   {
    "duration": 31,
    "start_time": "2022-01-05T01:21:58.255Z"
   },
   {
    "duration": 423,
    "start_time": "2022-01-05T01:21:58.288Z"
   },
   {
    "duration": -83,
    "start_time": "2022-01-05T01:21:58.796Z"
   },
   {
    "duration": -87,
    "start_time": "2022-01-05T01:21:58.802Z"
   },
   {
    "duration": -107,
    "start_time": "2022-01-05T01:21:58.823Z"
   },
   {
    "duration": -112,
    "start_time": "2022-01-05T01:21:58.830Z"
   },
   {
    "duration": -116,
    "start_time": "2022-01-05T01:21:58.835Z"
   },
   {
    "duration": -118,
    "start_time": "2022-01-05T01:21:58.839Z"
   },
   {
    "duration": 11,
    "start_time": "2022-01-05T01:26:30.122Z"
   },
   {
    "duration": 32,
    "start_time": "2022-01-05T01:26:36.670Z"
   },
   {
    "duration": 12,
    "start_time": "2022-01-05T01:26:57.513Z"
   },
   {
    "duration": 13,
    "start_time": "2022-01-05T01:27:00.833Z"
   },
   {
    "duration": 29,
    "start_time": "2022-01-05T01:27:07.109Z"
   },
   {
    "duration": 273,
    "start_time": "2022-01-05T01:27:26.696Z"
   },
   {
    "duration": 30,
    "start_time": "2022-01-05T01:28:01.652Z"
   },
   {
    "duration": 21,
    "start_time": "2022-01-05T01:28:25.816Z"
   },
   {
    "duration": 16,
    "start_time": "2022-01-05T01:39:40.414Z"
   },
   {
    "duration": 245,
    "start_time": "2022-01-05T01:44:43.042Z"
   },
   {
    "duration": 13,
    "start_time": "2022-01-05T01:44:46.259Z"
   },
   {
    "duration": 269,
    "start_time": "2022-01-05T01:47:43.976Z"
   },
   {
    "duration": 264,
    "start_time": "2022-01-05T01:47:48.903Z"
   },
   {
    "duration": 22,
    "start_time": "2022-01-05T01:47:50.196Z"
   },
   {
    "duration": 23,
    "start_time": "2022-01-05T01:48:15.524Z"
   },
   {
    "duration": 121,
    "start_time": "2022-01-05T01:54:12.552Z"
   },
   {
    "duration": 82,
    "start_time": "2022-01-05T01:54:19.224Z"
   },
   {
    "duration": 529,
    "start_time": "2022-01-05T01:54:27.335Z"
   },
   {
    "duration": 329,
    "start_time": "2022-01-05T01:55:55.132Z"
   },
   {
    "duration": 16,
    "start_time": "2022-01-05T01:55:59.674Z"
   },
   {
    "duration": 3573,
    "start_time": "2022-01-05T01:56:41.864Z"
   },
   {
    "duration": 335,
    "start_time": "2022-01-05T01:56:54.262Z"
   },
   {
    "duration": 16,
    "start_time": "2022-01-05T01:56:55.219Z"
   },
   {
    "duration": 451,
    "start_time": "2022-01-05T01:58:20.651Z"
   },
   {
    "duration": 248,
    "start_time": "2022-01-05T02:00:40.793Z"
   },
   {
    "duration": 1467,
    "start_time": "2022-01-05T02:16:24.926Z"
   },
   {
    "duration": 60,
    "start_time": "2022-01-05T02:16:26.396Z"
   },
   {
    "duration": 28,
    "start_time": "2022-01-05T02:16:26.460Z"
   },
   {
    "duration": 41,
    "start_time": "2022-01-05T02:16:26.491Z"
   },
   {
    "duration": 56,
    "start_time": "2022-01-05T02:16:26.535Z"
   },
   {
    "duration": 8,
    "start_time": "2022-01-05T02:16:26.593Z"
   },
   {
    "duration": 63,
    "start_time": "2022-01-05T02:16:26.604Z"
   },
   {
    "duration": 9,
    "start_time": "2022-01-05T02:16:26.669Z"
   },
   {
    "duration": 6,
    "start_time": "2022-01-05T02:16:26.683Z"
   },
   {
    "duration": 8,
    "start_time": "2022-01-05T02:16:26.692Z"
   },
   {
    "duration": 67,
    "start_time": "2022-01-05T02:16:26.702Z"
   },
   {
    "duration": 6,
    "start_time": "2022-01-05T02:16:26.771Z"
   },
   {
    "duration": 13,
    "start_time": "2022-01-05T02:16:26.779Z"
   },
   {
    "duration": 6,
    "start_time": "2022-01-05T02:16:26.795Z"
   },
   {
    "duration": 12,
    "start_time": "2022-01-05T02:16:26.804Z"
   },
   {
    "duration": 9,
    "start_time": "2022-01-05T02:16:26.868Z"
   },
   {
    "duration": 7,
    "start_time": "2022-01-05T02:16:26.880Z"
   },
   {
    "duration": 29,
    "start_time": "2022-01-05T02:16:26.890Z"
   },
   {
    "duration": 47,
    "start_time": "2022-01-05T02:16:26.922Z"
   },
   {
    "duration": 9,
    "start_time": "2022-01-05T02:16:26.972Z"
   },
   {
    "duration": 16,
    "start_time": "2022-01-05T02:16:26.983Z"
   },
   {
    "duration": 311,
    "start_time": "2022-01-05T02:16:27.001Z"
   },
   {
    "duration": 299,
    "start_time": "2022-01-05T02:16:27.314Z"
   },
   {
    "duration": 684,
    "start_time": "2022-01-05T02:16:27.615Z"
   },
   {
    "duration": -57,
    "start_time": "2022-01-05T02:16:28.359Z"
   },
   {
    "duration": -63,
    "start_time": "2022-01-05T02:16:28.366Z"
   },
   {
    "duration": -64,
    "start_time": "2022-01-05T02:16:28.369Z"
   },
   {
    "duration": -68,
    "start_time": "2022-01-05T02:16:28.374Z"
   },
   {
    "duration": -70,
    "start_time": "2022-01-05T02:16:28.378Z"
   },
   {
    "duration": -116,
    "start_time": "2022-01-05T02:16:28.425Z"
   },
   {
    "duration": -137,
    "start_time": "2022-01-05T02:16:28.448Z"
   },
   {
    "duration": -198,
    "start_time": "2022-01-05T02:16:28.510Z"
   },
   {
    "duration": -263,
    "start_time": "2022-01-05T02:16:28.576Z"
   },
   {
    "duration": 255,
    "start_time": "2022-01-05T02:16:41.786Z"
   },
   {
    "duration": 259,
    "start_time": "2022-01-05T02:16:42.627Z"
   },
   {
    "duration": 260,
    "start_time": "2022-01-05T02:16:43.064Z"
   },
   {
    "duration": 22,
    "start_time": "2022-01-05T02:17:04.420Z"
   },
   {
    "duration": 276,
    "start_time": "2022-01-05T02:17:07.161Z"
   },
   {
    "duration": 22,
    "start_time": "2022-01-05T02:17:15.366Z"
   },
   {
    "duration": 401,
    "start_time": "2022-01-05T08:18:07.973Z"
   },
   {
    "duration": 1608,
    "start_time": "2022-01-05T08:21:55.133Z"
   },
   {
    "duration": 1440,
    "start_time": "2022-01-05T08:22:02.991Z"
   },
   {
    "duration": 118,
    "start_time": "2022-01-05T08:22:04.434Z"
   },
   {
    "duration": 21,
    "start_time": "2022-01-05T08:22:04.555Z"
   },
   {
    "duration": 38,
    "start_time": "2022-01-05T08:22:04.578Z"
   },
   {
    "duration": 59,
    "start_time": "2022-01-05T08:22:04.619Z"
   },
   {
    "duration": 9,
    "start_time": "2022-01-05T08:22:04.680Z"
   },
   {
    "duration": 9,
    "start_time": "2022-01-05T08:22:04.691Z"
   },
   {
    "duration": 11,
    "start_time": "2022-01-05T08:22:04.703Z"
   },
   {
    "duration": 6,
    "start_time": "2022-01-05T08:22:04.765Z"
   },
   {
    "duration": 7,
    "start_time": "2022-01-05T08:22:04.774Z"
   },
   {
    "duration": 14,
    "start_time": "2022-01-05T08:22:04.783Z"
   },
   {
    "duration": 5,
    "start_time": "2022-01-05T08:22:04.800Z"
   },
   {
    "duration": 56,
    "start_time": "2022-01-05T08:22:04.807Z"
   },
   {
    "duration": 4,
    "start_time": "2022-01-05T08:22:04.866Z"
   },
   {
    "duration": 9,
    "start_time": "2022-01-05T08:22:04.873Z"
   },
   {
    "duration": 10,
    "start_time": "2022-01-05T08:22:04.885Z"
   },
   {
    "duration": 9,
    "start_time": "2022-01-05T08:22:04.898Z"
   },
   {
    "duration": 20,
    "start_time": "2022-01-05T08:22:04.962Z"
   },
   {
    "duration": 9,
    "start_time": "2022-01-05T08:22:04.985Z"
   },
   {
    "duration": 6,
    "start_time": "2022-01-05T08:22:04.997Z"
   },
   {
    "duration": 1240,
    "start_time": "2022-01-05T08:22:05.006Z"
   },
   {
    "duration": -494,
    "start_time": "2022-01-05T08:22:06.743Z"
   },
   {
    "duration": -500,
    "start_time": "2022-01-05T08:22:06.751Z"
   },
   {
    "duration": -505,
    "start_time": "2022-01-05T08:22:06.757Z"
   },
   {
    "duration": -514,
    "start_time": "2022-01-05T08:22:06.768Z"
   },
   {
    "duration": -517,
    "start_time": "2022-01-05T08:22:06.772Z"
   },
   {
    "duration": -519,
    "start_time": "2022-01-05T08:22:06.776Z"
   },
   {
    "duration": -527,
    "start_time": "2022-01-05T08:22:06.785Z"
   },
   {
    "duration": -531,
    "start_time": "2022-01-05T08:22:06.790Z"
   },
   {
    "duration": -535,
    "start_time": "2022-01-05T08:22:06.796Z"
   },
   {
    "duration": -537,
    "start_time": "2022-01-05T08:22:06.799Z"
   },
   {
    "duration": -668,
    "start_time": "2022-01-05T08:22:06.932Z"
   },
   {
    "duration": -671,
    "start_time": "2022-01-05T08:22:06.936Z"
   },
   {
    "duration": -673,
    "start_time": "2022-01-05T08:22:06.940Z"
   },
   {
    "duration": -682,
    "start_time": "2022-01-05T08:22:06.950Z"
   },
   {
    "duration": 366,
    "start_time": "2022-01-06T01:03:18.910Z"
   },
   {
    "duration": 1119,
    "start_time": "2022-01-06T01:03:34.332Z"
   },
   {
    "duration": 89,
    "start_time": "2022-01-06T01:03:35.453Z"
   },
   {
    "duration": 12,
    "start_time": "2022-01-06T01:03:35.544Z"
   },
   {
    "duration": 21,
    "start_time": "2022-01-06T01:03:35.558Z"
   },
   {
    "duration": 14,
    "start_time": "2022-01-06T01:03:35.580Z"
   },
   {
    "duration": 5,
    "start_time": "2022-01-06T01:03:35.595Z"
   },
   {
    "duration": 11,
    "start_time": "2022-01-06T01:03:35.601Z"
   },
   {
    "duration": 23,
    "start_time": "2022-01-06T01:03:35.613Z"
   },
   {
    "duration": 8,
    "start_time": "2022-01-06T01:03:35.639Z"
   },
   {
    "duration": 4,
    "start_time": "2022-01-06T01:03:35.648Z"
   },
   {
    "duration": 10,
    "start_time": "2022-01-06T01:03:35.653Z"
   },
   {
    "duration": 5,
    "start_time": "2022-01-06T01:03:35.664Z"
   },
   {
    "duration": 9,
    "start_time": "2022-01-06T01:03:35.670Z"
   },
   {
    "duration": 6,
    "start_time": "2022-01-06T01:03:35.681Z"
   },
   {
    "duration": 5,
    "start_time": "2022-01-06T01:03:35.689Z"
   },
   {
    "duration": 6,
    "start_time": "2022-01-06T01:03:35.696Z"
   },
   {
    "duration": 32,
    "start_time": "2022-01-06T01:03:35.703Z"
   },
   {
    "duration": 11,
    "start_time": "2022-01-06T01:03:35.736Z"
   },
   {
    "duration": 5,
    "start_time": "2022-01-06T01:03:35.749Z"
   },
   {
    "duration": 6,
    "start_time": "2022-01-06T01:03:35.755Z"
   },
   {
    "duration": 22,
    "start_time": "2022-01-06T01:03:35.763Z"
   },
   {
    "duration": 946,
    "start_time": "2022-01-06T01:03:35.787Z"
   },
   {
    "duration": -128,
    "start_time": "2022-01-06T01:03:36.863Z"
   },
   {
    "duration": -132,
    "start_time": "2022-01-06T01:03:36.868Z"
   },
   {
    "duration": -136,
    "start_time": "2022-01-06T01:03:36.873Z"
   },
   {
    "duration": -139,
    "start_time": "2022-01-06T01:03:36.877Z"
   },
   {
    "duration": -146,
    "start_time": "2022-01-06T01:03:36.885Z"
   },
   {
    "duration": -148,
    "start_time": "2022-01-06T01:03:36.888Z"
   },
   {
    "duration": -150,
    "start_time": "2022-01-06T01:03:36.892Z"
   },
   {
    "duration": -152,
    "start_time": "2022-01-06T01:03:36.895Z"
   },
   {
    "duration": -153,
    "start_time": "2022-01-06T01:03:36.898Z"
   },
   {
    "duration": -155,
    "start_time": "2022-01-06T01:03:36.901Z"
   },
   {
    "duration": -158,
    "start_time": "2022-01-06T01:03:36.905Z"
   },
   {
    "duration": -160,
    "start_time": "2022-01-06T01:03:36.908Z"
   },
   {
    "duration": -161,
    "start_time": "2022-01-06T01:03:36.911Z"
   },
   {
    "duration": -163,
    "start_time": "2022-01-06T01:03:36.914Z"
   },
   {
    "duration": -165,
    "start_time": "2022-01-06T01:03:36.917Z"
   },
   {
    "duration": 20,
    "start_time": "2022-01-06T01:04:43.647Z"
   },
   {
    "duration": 21,
    "start_time": "2022-01-06T01:05:05.840Z"
   },
   {
    "duration": 978,
    "start_time": "2022-01-06T01:28:31.388Z"
   },
   {
    "duration": 63,
    "start_time": "2022-01-06T01:28:32.367Z"
   },
   {
    "duration": 14,
    "start_time": "2022-01-06T01:28:32.433Z"
   },
   {
    "duration": 22,
    "start_time": "2022-01-06T01:28:32.449Z"
   },
   {
    "duration": 14,
    "start_time": "2022-01-06T01:28:32.473Z"
   },
   {
    "duration": 5,
    "start_time": "2022-01-06T01:28:32.489Z"
   },
   {
    "duration": 42,
    "start_time": "2022-01-06T01:28:32.495Z"
   },
   {
    "duration": 6,
    "start_time": "2022-01-06T01:28:32.538Z"
   },
   {
    "duration": 4,
    "start_time": "2022-01-06T01:28:32.546Z"
   },
   {
    "duration": 5,
    "start_time": "2022-01-06T01:28:32.552Z"
   },
   {
    "duration": 9,
    "start_time": "2022-01-06T01:28:32.558Z"
   },
   {
    "duration": 4,
    "start_time": "2022-01-06T01:28:32.568Z"
   },
   {
    "duration": 9,
    "start_time": "2022-01-06T01:28:32.573Z"
   },
   {
    "duration": 2,
    "start_time": "2022-01-06T01:28:32.584Z"
   },
   {
    "duration": 6,
    "start_time": "2022-01-06T01:28:32.587Z"
   },
   {
    "duration": 36,
    "start_time": "2022-01-06T01:28:32.594Z"
   },
   {
    "duration": 6,
    "start_time": "2022-01-06T01:28:32.631Z"
   },
   {
    "duration": 17,
    "start_time": "2022-01-06T01:28:32.638Z"
   },
   {
    "duration": 5,
    "start_time": "2022-01-06T01:28:32.657Z"
   },
   {
    "duration": 4,
    "start_time": "2022-01-06T01:28:32.664Z"
   },
   {
    "duration": 23,
    "start_time": "2022-01-06T01:28:32.669Z"
   },
   {
    "duration": 47,
    "start_time": "2022-01-06T01:28:32.693Z"
   },
   {
    "duration": 413,
    "start_time": "2022-01-06T01:28:32.742Z"
   },
   {
    "duration": -1365,
    "start_time": "2022-01-06T01:28:34.522Z"
   },
   {
    "duration": -1366,
    "start_time": "2022-01-06T01:28:34.525Z"
   },
   {
    "duration": -1531,
    "start_time": "2022-01-06T01:28:34.691Z"
   },
   {
    "duration": -1578,
    "start_time": "2022-01-06T01:28:34.739Z"
   },
   {
    "duration": -1581,
    "start_time": "2022-01-06T01:28:34.743Z"
   },
   {
    "duration": -1584,
    "start_time": "2022-01-06T01:28:34.747Z"
   },
   {
    "duration": -1584,
    "start_time": "2022-01-06T01:28:34.749Z"
   },
   {
    "duration": -1589,
    "start_time": "2022-01-06T01:28:34.755Z"
   },
   {
    "duration": -1594,
    "start_time": "2022-01-06T01:28:34.761Z"
   },
   {
    "duration": -1596,
    "start_time": "2022-01-06T01:28:34.764Z"
   },
   {
    "duration": -1598,
    "start_time": "2022-01-06T01:28:34.768Z"
   },
   {
    "duration": -1600,
    "start_time": "2022-01-06T01:28:34.771Z"
   },
   {
    "duration": -1603,
    "start_time": "2022-01-06T01:28:34.775Z"
   },
   {
    "duration": 22,
    "start_time": "2022-01-06T01:28:39.655Z"
   },
   {
    "duration": 14,
    "start_time": "2022-01-06T01:28:55.440Z"
   },
   {
    "duration": 21,
    "start_time": "2022-01-06T01:29:07.902Z"
   },
   {
    "duration": 21,
    "start_time": "2022-01-06T01:30:13.343Z"
   },
   {
    "duration": 27,
    "start_time": "2022-01-06T01:30:16.924Z"
   },
   {
    "duration": 23,
    "start_time": "2022-01-06T01:31:51.308Z"
   },
   {
    "duration": 365,
    "start_time": "2022-01-06T01:32:58.584Z"
   },
   {
    "duration": 376,
    "start_time": "2022-01-06T01:33:01.881Z"
   },
   {
    "duration": 366,
    "start_time": "2022-01-06T01:33:16.706Z"
   },
   {
    "duration": 332,
    "start_time": "2022-01-06T01:33:25.936Z"
   },
   {
    "duration": 13,
    "start_time": "2022-01-06T01:33:29.942Z"
   },
   {
    "duration": 536,
    "start_time": "2022-01-06T01:33:39.332Z"
   },
   {
    "duration": 14,
    "start_time": "2022-01-06T01:33:50.416Z"
   },
   {
    "duration": 14,
    "start_time": "2022-01-06T01:34:06.600Z"
   },
   {
    "duration": 323,
    "start_time": "2022-01-06T01:35:47.540Z"
   },
   {
    "duration": 23,
    "start_time": "2022-01-06T01:36:23.516Z"
   },
   {
    "duration": 11,
    "start_time": "2022-01-06T01:36:43.856Z"
   },
   {
    "duration": 10,
    "start_time": "2022-01-06T01:37:11.455Z"
   },
   {
    "duration": 9,
    "start_time": "2022-01-06T01:37:28.146Z"
   },
   {
    "duration": 10,
    "start_time": "2022-01-06T01:37:33.088Z"
   },
   {
    "duration": 14,
    "start_time": "2022-01-06T01:37:43.308Z"
   },
   {
    "duration": 1349,
    "start_time": "2022-01-06T01:39:32.741Z"
   },
   {
    "duration": 21,
    "start_time": "2022-01-06T01:40:09.102Z"
   },
   {
    "duration": 15,
    "start_time": "2022-01-06T01:40:24.007Z"
   },
   {
    "duration": 22,
    "start_time": "2022-01-06T01:40:30.640Z"
   },
   {
    "duration": 374,
    "start_time": "2022-01-06T01:40:56.063Z"
   },
   {
    "duration": 21,
    "start_time": "2022-01-06T01:41:03.540Z"
   },
   {
    "duration": 21,
    "start_time": "2022-01-06T01:42:46.696Z"
   },
   {
    "duration": 21,
    "start_time": "2022-01-06T01:42:55.385Z"
   },
   {
    "duration": 797,
    "start_time": "2022-01-06T01:43:17.266Z"
   },
   {
    "duration": 21,
    "start_time": "2022-01-06T01:43:31.434Z"
   },
   {
    "duration": 349,
    "start_time": "2022-01-06T01:43:41.783Z"
   },
   {
    "duration": 21,
    "start_time": "2022-01-06T01:43:48.895Z"
   },
   {
    "duration": 22,
    "start_time": "2022-01-06T01:45:14.969Z"
   },
   {
    "duration": 22,
    "start_time": "2022-01-06T01:47:06.478Z"
   },
   {
    "duration": 22,
    "start_time": "2022-01-06T01:47:17.493Z"
   },
   {
    "duration": 24,
    "start_time": "2022-01-06T01:48:18.635Z"
   },
   {
    "duration": 21,
    "start_time": "2022-01-06T01:48:38.707Z"
   },
   {
    "duration": 21,
    "start_time": "2022-01-06T01:48:48.140Z"
   },
   {
    "duration": 21,
    "start_time": "2022-01-06T01:48:58.465Z"
   },
   {
    "duration": 24,
    "start_time": "2022-01-06T01:48:59.722Z"
   },
   {
    "duration": 14,
    "start_time": "2022-01-06T01:49:02.040Z"
   },
   {
    "duration": 17,
    "start_time": "2022-01-06T01:49:25.227Z"
   },
   {
    "duration": 15,
    "start_time": "2022-01-06T01:49:40.379Z"
   },
   {
    "duration": 15,
    "start_time": "2022-01-06T01:50:17.714Z"
   },
   {
    "duration": 12,
    "start_time": "2022-01-06T01:50:27.015Z"
   },
   {
    "duration": 19,
    "start_time": "2022-01-06T01:50:32.304Z"
   },
   {
    "duration": 7,
    "start_time": "2022-01-06T01:57:37.915Z"
   },
   {
    "duration": 14,
    "start_time": "2022-01-06T01:57:38.211Z"
   },
   {
    "duration": 9,
    "start_time": "2022-01-06T01:57:38.499Z"
   },
   {
    "duration": 8,
    "start_time": "2022-01-06T01:57:38.659Z"
   },
   {
    "duration": 8153,
    "start_time": "2022-01-06T02:09:50.527Z"
   },
   {
    "duration": 20,
    "start_time": "2022-01-06T02:10:47.905Z"
   },
   {
    "duration": 8735,
    "start_time": "2022-01-06T02:10:54.792Z"
   },
   {
    "duration": 14,
    "start_time": "2022-01-06T02:11:14.744Z"
   },
   {
    "duration": 11,
    "start_time": "2022-01-06T02:12:16.800Z"
   },
   {
    "duration": 417,
    "start_time": "2022-01-06T02:12:30.569Z"
   },
   {
    "duration": 10,
    "start_time": "2022-01-06T02:12:37.352Z"
   },
   {
    "duration": 9,
    "start_time": "2022-01-06T02:13:21.138Z"
   },
   {
    "duration": 10,
    "start_time": "2022-01-06T02:13:25.167Z"
   },
   {
    "duration": 333,
    "start_time": "2022-01-06T02:17:22.375Z"
   },
   {
    "duration": 173,
    "start_time": "2022-01-06T02:18:19.175Z"
   },
   {
    "duration": 118,
    "start_time": "2022-01-06T02:18:43.522Z"
   },
   {
    "duration": 162,
    "start_time": "2022-01-06T02:18:45.815Z"
   },
   {
    "duration": 167,
    "start_time": "2022-01-06T02:21:35.590Z"
   },
   {
    "duration": 172,
    "start_time": "2022-01-06T02:22:27.880Z"
   },
   {
    "duration": 165,
    "start_time": "2022-01-06T02:22:31.287Z"
   },
   {
    "duration": 223,
    "start_time": "2022-01-06T02:23:18.505Z"
   },
   {
    "duration": 171,
    "start_time": "2022-01-06T02:23:59.332Z"
   },
   {
    "duration": 171,
    "start_time": "2022-01-06T02:24:16.991Z"
   },
   {
    "duration": 176,
    "start_time": "2022-01-06T02:24:24.319Z"
   },
   {
    "duration": 157,
    "start_time": "2022-01-06T02:26:22.209Z"
   },
   {
    "duration": 114,
    "start_time": "2022-01-06T02:27:35.818Z"
   },
   {
    "duration": 178,
    "start_time": "2022-01-06T02:27:48.518Z"
   },
   {
    "duration": 8,
    "start_time": "2022-01-06T02:37:09.604Z"
   },
   {
    "duration": 348,
    "start_time": "2022-01-06T02:38:29.559Z"
   },
   {
    "duration": 8,
    "start_time": "2022-01-06T02:38:33.190Z"
   },
   {
    "duration": 12,
    "start_time": "2022-01-06T02:38:37.084Z"
   },
   {
    "duration": 16,
    "start_time": "2022-01-06T02:38:51.216Z"
   },
   {
    "duration": 9,
    "start_time": "2022-01-06T02:38:57.312Z"
   },
   {
    "duration": 9,
    "start_time": "2022-01-06T02:39:36.070Z"
   },
   {
    "duration": 12,
    "start_time": "2022-01-06T02:39:51.040Z"
   },
   {
    "duration": 7,
    "start_time": "2022-01-06T02:39:56.599Z"
   },
   {
    "duration": 9016,
    "start_time": "2022-01-06T04:21:58.942Z"
   },
   {
    "duration": 292,
    "start_time": "2022-01-06T04:22:27.302Z"
   },
   {
    "duration": 289,
    "start_time": "2022-01-06T04:22:36.507Z"
   },
   {
    "duration": 295,
    "start_time": "2022-01-06T04:24:13.401Z"
   },
   {
    "duration": 314,
    "start_time": "2022-01-06T04:26:26.602Z"
   },
   {
    "duration": 287,
    "start_time": "2022-01-06T04:26:46.862Z"
   },
   {
    "duration": 327,
    "start_time": "2022-01-06T04:29:07.195Z"
   },
   {
    "duration": 8878,
    "start_time": "2022-01-06T04:29:11.440Z"
   },
   {
    "duration": 8485,
    "start_time": "2022-01-06T04:29:23.013Z"
   },
   {
    "duration": 8311,
    "start_time": "2022-01-06T04:29:32.710Z"
   },
   {
    "duration": 15,
    "start_time": "2022-01-06T04:29:50.429Z"
   },
   {
    "duration": 7,
    "start_time": "2022-01-06T04:29:54.840Z"
   },
   {
    "duration": 242,
    "start_time": "2022-01-06T04:29:56.600Z"
   },
   {
    "duration": 159,
    "start_time": "2022-01-06T04:30:01.128Z"
   },
   {
    "duration": 1076,
    "start_time": "2022-01-06T06:39:00.680Z"
   },
   {
    "duration": 64,
    "start_time": "2022-01-06T06:39:01.758Z"
   },
   {
    "duration": 20,
    "start_time": "2022-01-06T06:39:01.824Z"
   },
   {
    "duration": 23,
    "start_time": "2022-01-06T06:39:01.846Z"
   },
   {
    "duration": 15,
    "start_time": "2022-01-06T06:39:01.871Z"
   },
   {
    "duration": 6,
    "start_time": "2022-01-06T06:39:01.887Z"
   },
   {
    "duration": 38,
    "start_time": "2022-01-06T06:39:01.894Z"
   },
   {
    "duration": 9,
    "start_time": "2022-01-06T06:39:01.933Z"
   },
   {
    "duration": 12,
    "start_time": "2022-01-06T06:39:01.944Z"
   },
   {
    "duration": 9,
    "start_time": "2022-01-06T06:39:01.958Z"
   },
   {
    "duration": 11,
    "start_time": "2022-01-06T06:39:01.968Z"
   },
   {
    "duration": 14,
    "start_time": "2022-01-06T06:39:01.981Z"
   },
   {
    "duration": 10,
    "start_time": "2022-01-06T06:39:01.996Z"
   },
   {
    "duration": 11,
    "start_time": "2022-01-06T06:39:02.008Z"
   },
   {
    "duration": 27,
    "start_time": "2022-01-06T06:39:02.021Z"
   },
   {
    "duration": 7,
    "start_time": "2022-01-06T06:39:02.050Z"
   },
   {
    "duration": 6,
    "start_time": "2022-01-06T06:39:02.059Z"
   },
   {
    "duration": 13,
    "start_time": "2022-01-06T06:39:02.066Z"
   },
   {
    "duration": 5,
    "start_time": "2022-01-06T06:39:02.081Z"
   },
   {
    "duration": 9,
    "start_time": "2022-01-06T06:39:02.088Z"
   },
   {
    "duration": 9,
    "start_time": "2022-01-06T06:39:02.099Z"
   },
   {
    "duration": 33,
    "start_time": "2022-01-06T06:39:02.110Z"
   },
   {
    "duration": 9,
    "start_time": "2022-01-06T06:39:02.144Z"
   },
   {
    "duration": 14,
    "start_time": "2022-01-06T06:39:02.154Z"
   },
   {
    "duration": 22,
    "start_time": "2022-01-06T06:39:02.169Z"
   },
   {
    "duration": 42,
    "start_time": "2022-01-06T06:39:02.192Z"
   },
   {
    "duration": 21,
    "start_time": "2022-01-06T06:39:02.242Z"
   },
   {
    "duration": 22,
    "start_time": "2022-01-06T06:39:02.264Z"
   },
   {
    "duration": 17,
    "start_time": "2022-01-06T06:39:02.287Z"
   },
   {
    "duration": 28,
    "start_time": "2022-01-06T06:39:02.306Z"
   },
   {
    "duration": 14,
    "start_time": "2022-01-06T06:39:02.336Z"
   },
   {
    "duration": 7,
    "start_time": "2022-01-06T06:39:02.351Z"
   },
   {
    "duration": 9,
    "start_time": "2022-01-06T06:39:02.360Z"
   },
   {
    "duration": 12,
    "start_time": "2022-01-06T06:39:02.370Z"
   },
   {
    "duration": 205,
    "start_time": "2022-01-06T06:39:02.383Z"
   },
   {
    "duration": 196,
    "start_time": "2022-01-06T06:39:02.590Z"
   },
   {
    "duration": 305,
    "start_time": "2022-01-06T06:39:02.788Z"
   },
   {
    "duration": 745,
    "start_time": "2022-01-06T06:39:03.094Z"
   },
   {
    "duration": -904,
    "start_time": "2022-01-06T06:39:04.745Z"
   },
   {
    "duration": -909,
    "start_time": "2022-01-06T06:39:04.751Z"
   },
   {
    "duration": 2,
    "start_time": "2022-01-06T06:40:07.684Z"
   },
   {
    "duration": 24,
    "start_time": "2022-01-06T06:43:13.314Z"
   },
   {
    "duration": 186,
    "start_time": "2022-01-06T06:47:03.398Z"
   },
   {
    "duration": 216,
    "start_time": "2022-01-06T06:47:24.039Z"
   },
   {
    "duration": 179,
    "start_time": "2022-01-06T06:52:38.267Z"
   },
   {
    "duration": 9,
    "start_time": "2022-01-06T06:58:43.669Z"
   },
   {
    "duration": 5,
    "start_time": "2022-01-06T06:58:49.458Z"
   },
   {
    "duration": 8,
    "start_time": "2022-01-06T06:58:52.939Z"
   },
   {
    "duration": 12,
    "start_time": "2022-01-06T07:00:08.791Z"
   },
   {
    "duration": 14,
    "start_time": "2022-01-06T07:00:35.743Z"
   },
   {
    "duration": 12,
    "start_time": "2022-01-06T07:01:00.212Z"
   },
   {
    "duration": 13,
    "start_time": "2022-01-06T07:01:28.583Z"
   },
   {
    "duration": 326,
    "start_time": "2022-01-06T07:02:11.892Z"
   },
   {
    "duration": 7,
    "start_time": "2022-01-06T07:02:16.048Z"
   },
   {
    "duration": 76,
    "start_time": "2022-01-06T07:02:26.297Z"
   },
   {
    "duration": 137,
    "start_time": "2022-01-06T07:11:14.320Z"
   },
   {
    "duration": 6,
    "start_time": "2022-01-06T07:13:39.467Z"
   },
   {
    "duration": 6,
    "start_time": "2022-01-06T07:13:48.976Z"
   },
   {
    "duration": 12,
    "start_time": "2022-01-06T07:13:57.300Z"
   },
   {
    "duration": 6,
    "start_time": "2022-01-06T07:14:53.544Z"
   },
   {
    "duration": 14,
    "start_time": "2022-01-06T07:14:54.619Z"
   },
   {
    "duration": 11,
    "start_time": "2022-01-06T07:15:37.998Z"
   },
   {
    "duration": 16,
    "start_time": "2022-01-06T07:16:28.914Z"
   },
   {
    "duration": 110,
    "start_time": "2022-01-06T07:18:10.967Z"
   },
   {
    "duration": 8,
    "start_time": "2022-01-06T07:18:15.549Z"
   },
   {
    "duration": 7,
    "start_time": "2022-01-06T07:18:51.051Z"
   },
   {
    "duration": 8,
    "start_time": "2022-01-06T07:19:25.892Z"
   },
   {
    "duration": 7,
    "start_time": "2022-01-06T07:19:53.344Z"
   },
   {
    "duration": 8,
    "start_time": "2022-01-06T07:20:14.668Z"
   },
   {
    "duration": 8,
    "start_time": "2022-01-06T07:21:04.413Z"
   },
   {
    "duration": 1134,
    "start_time": "2022-01-06T07:22:38.913Z"
   },
   {
    "duration": 62,
    "start_time": "2022-01-06T07:22:40.048Z"
   },
   {
    "duration": 12,
    "start_time": "2022-01-06T07:22:40.111Z"
   },
   {
    "duration": 25,
    "start_time": "2022-01-06T07:22:40.125Z"
   },
   {
    "duration": 15,
    "start_time": "2022-01-06T07:22:40.152Z"
   },
   {
    "duration": 5,
    "start_time": "2022-01-06T07:22:40.169Z"
   },
   {
    "duration": 9,
    "start_time": "2022-01-06T07:22:40.175Z"
   },
   {
    "duration": 5,
    "start_time": "2022-01-06T07:22:40.186Z"
   },
   {
    "duration": 9,
    "start_time": "2022-01-06T07:22:40.192Z"
   },
   {
    "duration": 34,
    "start_time": "2022-01-06T07:22:40.202Z"
   },
   {
    "duration": 18,
    "start_time": "2022-01-06T07:22:40.237Z"
   },
   {
    "duration": 9,
    "start_time": "2022-01-06T07:22:40.256Z"
   },
   {
    "duration": 8,
    "start_time": "2022-01-06T07:22:40.266Z"
   },
   {
    "duration": 4,
    "start_time": "2022-01-06T07:22:40.276Z"
   },
   {
    "duration": 8,
    "start_time": "2022-01-06T07:22:40.281Z"
   },
   {
    "duration": 6,
    "start_time": "2022-01-06T07:22:40.291Z"
   },
   {
    "duration": 5,
    "start_time": "2022-01-06T07:22:40.298Z"
   },
   {
    "duration": 37,
    "start_time": "2022-01-06T07:22:40.304Z"
   },
   {
    "duration": 6,
    "start_time": "2022-01-06T07:22:40.343Z"
   },
   {
    "duration": 4,
    "start_time": "2022-01-06T07:22:40.351Z"
   },
   {
    "duration": 11,
    "start_time": "2022-01-06T07:22:40.356Z"
   },
   {
    "duration": 7,
    "start_time": "2022-01-06T07:22:40.368Z"
   },
   {
    "duration": 7,
    "start_time": "2022-01-06T07:22:40.378Z"
   },
   {
    "duration": 9,
    "start_time": "2022-01-06T07:22:40.386Z"
   },
   {
    "duration": 11,
    "start_time": "2022-01-06T07:22:40.427Z"
   },
   {
    "duration": 17,
    "start_time": "2022-01-06T07:22:40.440Z"
   },
   {
    "duration": 20,
    "start_time": "2022-01-06T07:22:40.459Z"
   },
   {
    "duration": 18,
    "start_time": "2022-01-06T07:22:40.481Z"
   },
   {
    "duration": 49,
    "start_time": "2022-01-06T07:22:40.501Z"
   },
   {
    "duration": 20,
    "start_time": "2022-01-06T07:22:40.551Z"
   },
   {
    "duration": 16,
    "start_time": "2022-01-06T07:22:40.572Z"
   },
   {
    "duration": 6,
    "start_time": "2022-01-06T07:22:40.589Z"
   },
   {
    "duration": 9,
    "start_time": "2022-01-06T07:22:40.596Z"
   },
   {
    "duration": 9,
    "start_time": "2022-01-06T07:22:40.635Z"
   },
   {
    "duration": 9,
    "start_time": "2022-01-06T07:22:40.646Z"
   },
   {
    "duration": 14,
    "start_time": "2022-01-06T07:22:40.656Z"
   },
   {
    "duration": 193,
    "start_time": "2022-01-06T07:22:40.671Z"
   },
   {
    "duration": 2,
    "start_time": "2022-01-06T07:22:40.865Z"
   },
   {
    "duration": 190,
    "start_time": "2022-01-06T07:22:40.869Z"
   },
   {
    "duration": 8595,
    "start_time": "2022-01-06T07:22:41.061Z"
   },
   {
    "duration": -308,
    "start_time": "2022-01-06T07:22:49.965Z"
   },
   {
    "duration": -311,
    "start_time": "2022-01-06T07:22:49.969Z"
   },
   {
    "duration": -315,
    "start_time": "2022-01-06T07:22:49.974Z"
   },
   {
    "duration": 304,
    "start_time": "2022-01-06T07:28:34.950Z"
   },
   {
    "duration": 309,
    "start_time": "2022-01-06T07:29:46.165Z"
   },
   {
    "duration": 9,
    "start_time": "2022-01-06T07:33:28.936Z"
   },
   {
    "duration": 15,
    "start_time": "2022-01-06T07:33:36.655Z"
   },
   {
    "duration": 8638,
    "start_time": "2022-01-06T07:35:27.442Z"
   },
   {
    "duration": 8727,
    "start_time": "2022-01-06T07:35:41.254Z"
   },
   {
    "duration": 7,
    "start_time": "2022-01-06T07:36:00.328Z"
   },
   {
    "duration": 184,
    "start_time": "2022-01-06T07:36:02.950Z"
   },
   {
    "duration": 172,
    "start_time": "2022-01-06T07:43:05.981Z"
   },
   {
    "duration": 164,
    "start_time": "2022-01-06T07:43:11.378Z"
   },
   {
    "duration": 245,
    "start_time": "2022-01-06T07:45:15.493Z"
   },
   {
    "duration": 343,
    "start_time": "2022-01-06T07:56:48.111Z"
   },
   {
    "duration": 10,
    "start_time": "2022-01-06T07:57:27.307Z"
   },
   {
    "duration": 348,
    "start_time": "2022-01-06T08:00:08.312Z"
   },
   {
    "duration": 8819,
    "start_time": "2022-01-06T08:00:50.351Z"
   },
   {
    "duration": 14,
    "start_time": "2022-01-06T08:01:15.688Z"
   },
   {
    "duration": 12,
    "start_time": "2022-01-06T08:01:40.202Z"
   },
   {
    "duration": 12,
    "start_time": "2022-01-06T08:01:57.888Z"
   },
   {
    "duration": 12,
    "start_time": "2022-01-06T08:01:59.986Z"
   },
   {
    "duration": 16,
    "start_time": "2022-01-06T08:02:04.718Z"
   },
   {
    "duration": 11,
    "start_time": "2022-01-06T08:03:41.782Z"
   },
   {
    "duration": 344,
    "start_time": "2022-01-06T08:03:44.655Z"
   },
   {
    "duration": 12,
    "start_time": "2022-01-06T08:03:49.094Z"
   },
   {
    "duration": 301,
    "start_time": "2022-01-06T08:04:32.740Z"
   },
   {
    "duration": 316,
    "start_time": "2022-01-06T08:05:10.399Z"
   },
   {
    "duration": 8505,
    "start_time": "2022-01-06T08:05:35.992Z"
   },
   {
    "duration": 12,
    "start_time": "2022-01-06T08:05:54.599Z"
   },
   {
    "duration": 93,
    "start_time": "2022-01-06T08:06:20.803Z"
   },
   {
    "duration": 103,
    "start_time": "2022-01-06T08:06:51.881Z"
   },
   {
    "duration": 8660,
    "start_time": "2022-01-06T08:09:25.140Z"
   },
   {
    "duration": 226,
    "start_time": "2022-01-06T08:09:40.872Z"
   },
   {
    "duration": 128,
    "start_time": "2022-01-06T08:12:18.104Z"
   },
   {
    "duration": 107,
    "start_time": "2022-01-06T08:12:22.656Z"
   },
   {
    "duration": 253,
    "start_time": "2022-01-06T08:12:57.749Z"
   },
   {
    "duration": 237,
    "start_time": "2022-01-06T08:13:04.365Z"
   },
   {
    "duration": 220,
    "start_time": "2022-01-06T08:14:22.776Z"
   },
   {
    "duration": 9695,
    "start_time": "2022-01-06T08:21:57.717Z"
   },
   {
    "duration": 4,
    "start_time": "2022-01-06T08:22:08.610Z"
   },
   {
    "duration": 4,
    "start_time": "2022-01-06T08:24:31.495Z"
   },
   {
    "duration": 3,
    "start_time": "2022-01-06T08:24:51.494Z"
   },
   {
    "duration": 245,
    "start_time": "2022-01-06T08:29:19.784Z"
   },
   {
    "duration": 321,
    "start_time": "2022-01-06T08:30:00.214Z"
   },
   {
    "duration": 110,
    "start_time": "2022-01-06T08:31:17.321Z"
   },
   {
    "duration": 4,
    "start_time": "2022-01-06T08:32:10.158Z"
   },
   {
    "duration": 20,
    "start_time": "2022-01-06T08:37:00.060Z"
   },
   {
    "duration": 2,
    "start_time": "2022-01-06T08:40:36.007Z"
   },
   {
    "duration": 1111,
    "start_time": "2022-01-06T08:51:40.744Z"
   },
   {
    "duration": 62,
    "start_time": "2022-01-06T08:51:41.857Z"
   },
   {
    "duration": 14,
    "start_time": "2022-01-06T08:51:41.921Z"
   },
   {
    "duration": 34,
    "start_time": "2022-01-06T08:51:41.936Z"
   },
   {
    "duration": 16,
    "start_time": "2022-01-06T08:51:41.971Z"
   },
   {
    "duration": 5,
    "start_time": "2022-01-06T08:51:41.988Z"
   },
   {
    "duration": 7,
    "start_time": "2022-01-06T08:51:41.994Z"
   },
   {
    "duration": 28,
    "start_time": "2022-01-06T08:51:42.004Z"
   },
   {
    "duration": 14,
    "start_time": "2022-01-06T08:51:42.034Z"
   },
   {
    "duration": 8,
    "start_time": "2022-01-06T08:51:42.049Z"
   },
   {
    "duration": 9,
    "start_time": "2022-01-06T08:51:42.058Z"
   },
   {
    "duration": 6,
    "start_time": "2022-01-06T08:51:42.068Z"
   },
   {
    "duration": 8,
    "start_time": "2022-01-06T08:51:42.075Z"
   },
   {
    "duration": 4,
    "start_time": "2022-01-06T08:51:42.084Z"
   },
   {
    "duration": 7,
    "start_time": "2022-01-06T08:51:42.090Z"
   },
   {
    "duration": 5,
    "start_time": "2022-01-06T08:51:42.098Z"
   },
   {
    "duration": 5,
    "start_time": "2022-01-06T08:51:42.135Z"
   },
   {
    "duration": 11,
    "start_time": "2022-01-06T08:51:42.141Z"
   },
   {
    "duration": 4,
    "start_time": "2022-01-06T08:51:42.154Z"
   },
   {
    "duration": 4,
    "start_time": "2022-01-06T08:51:42.159Z"
   },
   {
    "duration": 11,
    "start_time": "2022-01-06T08:51:42.164Z"
   },
   {
    "duration": 7,
    "start_time": "2022-01-06T08:51:42.176Z"
   },
   {
    "duration": 48,
    "start_time": "2022-01-06T08:51:42.186Z"
   },
   {
    "duration": 15,
    "start_time": "2022-01-06T08:51:42.236Z"
   },
   {
    "duration": 22,
    "start_time": "2022-01-06T08:51:42.253Z"
   },
   {
    "duration": 20,
    "start_time": "2022-01-06T08:51:42.276Z"
   },
   {
    "duration": 48,
    "start_time": "2022-01-06T08:51:42.297Z"
   },
   {
    "duration": 21,
    "start_time": "2022-01-06T08:51:42.346Z"
   },
   {
    "duration": 16,
    "start_time": "2022-01-06T08:51:42.368Z"
   },
   {
    "duration": 12,
    "start_time": "2022-01-06T08:51:42.385Z"
   },
   {
    "duration": 12,
    "start_time": "2022-01-06T08:51:42.398Z"
   },
   {
    "duration": 9,
    "start_time": "2022-01-06T08:51:42.435Z"
   },
   {
    "duration": 8,
    "start_time": "2022-01-06T08:51:42.446Z"
   },
   {
    "duration": 11,
    "start_time": "2022-01-06T08:51:42.455Z"
   },
   {
    "duration": 205,
    "start_time": "2022-01-06T08:51:42.467Z"
   },
   {
    "duration": 2,
    "start_time": "2022-01-06T08:51:42.673Z"
   },
   {
    "duration": 184,
    "start_time": "2022-01-06T08:51:42.676Z"
   },
   {
    "duration": 284,
    "start_time": "2022-01-06T08:51:42.861Z"
   },
   {
    "duration": 6,
    "start_time": "2022-01-06T08:51:43.147Z"
   },
   {
    "duration": 192,
    "start_time": "2022-01-06T08:51:43.154Z"
   },
   {
    "duration": 13,
    "start_time": "2022-01-06T08:51:43.348Z"
   },
   {
    "duration": 115,
    "start_time": "2022-01-06T08:51:43.362Z"
   },
   {
    "duration": 259,
    "start_time": "2022-01-06T08:51:43.478Z"
   },
   {
    "duration": 3,
    "start_time": "2022-01-06T08:51:43.739Z"
   },
   {
    "duration": 305,
    "start_time": "2022-01-06T08:51:43.744Z"
   },
   {
    "duration": 3,
    "start_time": "2022-01-06T08:51:44.051Z"
   },
   {
    "duration": 104,
    "start_time": "2022-01-06T08:56:39.858Z"
   },
   {
    "duration": 454,
    "start_time": "2022-01-06T08:57:43.974Z"
   },
   {
    "duration": 7,
    "start_time": "2022-01-06T08:58:04.743Z"
   },
   {
    "duration": 346,
    "start_time": "2022-01-06T08:58:16.057Z"
   },
   {
    "duration": 8,
    "start_time": "2022-01-06T08:58:52.318Z"
   },
   {
    "duration": 7,
    "start_time": "2022-01-06T08:59:31.692Z"
   },
   {
    "duration": 8,
    "start_time": "2022-01-06T08:59:56.659Z"
   },
   {
    "duration": 485,
    "start_time": "2022-01-06T09:00:45.212Z"
   },
   {
    "duration": 9,
    "start_time": "2022-01-06T09:00:49.916Z"
   },
   {
    "duration": 113,
    "start_time": "2022-01-06T09:07:21.209Z"
   },
   {
    "duration": 7,
    "start_time": "2022-01-06T09:07:27.719Z"
   },
   {
    "duration": 369,
    "start_time": "2022-01-06T09:08:23.540Z"
   },
   {
    "duration": 6,
    "start_time": "2022-01-06T09:08:28.911Z"
   },
   {
    "duration": 117,
    "start_time": "2022-01-06T09:22:07.111Z"
   },
   {
    "duration": 9,
    "start_time": "2022-01-06T09:22:15.313Z"
   },
   {
    "duration": 9646,
    "start_time": "2022-01-06T09:28:31.955Z"
   },
   {
    "duration": 8775,
    "start_time": "2022-01-06T09:28:42.956Z"
   },
   {
    "duration": 5,
    "start_time": "2022-01-06T09:28:53.501Z"
   },
   {
    "duration": 8,
    "start_time": "2022-01-06T09:29:17.162Z"
   },
   {
    "duration": 8279,
    "start_time": "2022-01-06T09:31:21.201Z"
   },
   {
    "duration": 400,
    "start_time": "2022-01-06T09:31:39.586Z"
   },
   {
    "duration": 337,
    "start_time": "2022-01-06T09:31:46.841Z"
   },
   {
    "duration": 9,
    "start_time": "2022-01-06T09:32:02.240Z"
   },
   {
    "duration": 343,
    "start_time": "2022-01-06T09:32:10.353Z"
   },
   {
    "duration": 8,
    "start_time": "2022-01-06T09:32:14.077Z"
   },
   {
    "duration": 4,
    "start_time": "2022-01-06T09:35:15.308Z"
   },
   {
    "duration": 4,
    "start_time": "2022-01-06T09:35:25.869Z"
   },
   {
    "duration": 458,
    "start_time": "2022-01-06T09:38:35.807Z"
   },
   {
    "duration": 7,
    "start_time": "2022-01-06T09:38:41.259Z"
   },
   {
    "duration": 8613,
    "start_time": "2022-01-06T09:47:07.537Z"
   },
   {
    "duration": 14,
    "start_time": "2022-01-06T09:47:21.651Z"
   },
   {
    "duration": 4,
    "start_time": "2022-01-06T09:50:09.494Z"
   },
   {
    "duration": 13,
    "start_time": "2022-01-06T09:50:23.739Z"
   },
   {
    "duration": 14,
    "start_time": "2022-01-06T09:54:08.671Z"
   },
   {
    "duration": 9,
    "start_time": "2022-01-06T10:04:47.755Z"
   },
   {
    "duration": 11,
    "start_time": "2022-01-06T10:04:51.501Z"
   },
   {
    "duration": 7,
    "start_time": "2022-01-06T10:04:54.727Z"
   },
   {
    "duration": 13,
    "start_time": "2022-01-06T10:05:27.428Z"
   },
   {
    "duration": 7,
    "start_time": "2022-01-06T10:15:11.847Z"
   },
   {
    "duration": 10,
    "start_time": "2022-01-06T10:15:28.539Z"
   },
   {
    "duration": 7,
    "start_time": "2022-01-06T10:15:40.250Z"
   },
   {
    "duration": 6,
    "start_time": "2022-01-06T10:15:43.957Z"
   },
   {
    "duration": 12,
    "start_time": "2022-01-06T10:16:02.692Z"
   },
   {
    "duration": 1795,
    "start_time": "2022-01-06T11:09:05.776Z"
   },
   {
    "duration": 103,
    "start_time": "2022-01-06T11:09:07.574Z"
   },
   {
    "duration": 21,
    "start_time": "2022-01-06T11:09:07.680Z"
   },
   {
    "duration": 41,
    "start_time": "2022-01-06T11:09:07.704Z"
   },
   {
    "duration": 29,
    "start_time": "2022-01-06T11:09:07.748Z"
   },
   {
    "duration": 10,
    "start_time": "2022-01-06T11:09:07.780Z"
   },
   {
    "duration": 11,
    "start_time": "2022-01-06T11:09:07.824Z"
   },
   {
    "duration": 8,
    "start_time": "2022-01-06T11:09:07.839Z"
   },
   {
    "duration": 9,
    "start_time": "2022-01-06T11:09:07.850Z"
   },
   {
    "duration": 10,
    "start_time": "2022-01-06T11:09:07.861Z"
   },
   {
    "duration": 63,
    "start_time": "2022-01-06T11:09:07.873Z"
   },
   {
    "duration": 14,
    "start_time": "2022-01-06T11:09:07.939Z"
   },
   {
    "duration": 16,
    "start_time": "2022-01-06T11:09:07.956Z"
   },
   {
    "duration": 8,
    "start_time": "2022-01-06T11:09:07.975Z"
   },
   {
    "duration": 39,
    "start_time": "2022-01-06T11:09:07.986Z"
   },
   {
    "duration": 10,
    "start_time": "2022-01-06T11:09:08.028Z"
   },
   {
    "duration": 8,
    "start_time": "2022-01-06T11:09:08.041Z"
   },
   {
    "duration": 24,
    "start_time": "2022-01-06T11:09:08.052Z"
   },
   {
    "duration": 47,
    "start_time": "2022-01-06T11:09:08.078Z"
   },
   {
    "duration": 6,
    "start_time": "2022-01-06T11:09:08.128Z"
   },
   {
    "duration": 26,
    "start_time": "2022-01-06T11:09:08.137Z"
   },
   {
    "duration": 58,
    "start_time": "2022-01-06T11:09:08.166Z"
   },
   {
    "duration": 32,
    "start_time": "2022-01-06T11:09:08.232Z"
   },
   {
    "duration": 29,
    "start_time": "2022-01-06T11:09:08.268Z"
   },
   {
    "duration": 48,
    "start_time": "2022-01-06T11:09:08.323Z"
   },
   {
    "duration": 66,
    "start_time": "2022-01-06T11:09:08.374Z"
   },
   {
    "duration": 49,
    "start_time": "2022-01-06T11:09:08.443Z"
   },
   {
    "duration": 64,
    "start_time": "2022-01-06T11:09:08.495Z"
   },
   {
    "duration": 36,
    "start_time": "2022-01-06T11:09:08.562Z"
   },
   {
    "duration": 14,
    "start_time": "2022-01-06T11:09:08.624Z"
   },
   {
    "duration": 24,
    "start_time": "2022-01-06T11:09:08.641Z"
   },
   {
    "duration": 13,
    "start_time": "2022-01-06T11:09:08.667Z"
   },
   {
    "duration": 50,
    "start_time": "2022-01-06T11:09:08.683Z"
   },
   {
    "duration": 19,
    "start_time": "2022-01-06T11:09:08.736Z"
   },
   {
    "duration": 355,
    "start_time": "2022-01-06T11:09:08.758Z"
   },
   {
    "duration": 3,
    "start_time": "2022-01-06T11:09:09.123Z"
   },
   {
    "duration": 335,
    "start_time": "2022-01-06T11:09:09.128Z"
   },
   {
    "duration": 431,
    "start_time": "2022-01-06T11:09:09.465Z"
   },
   {
    "duration": 10,
    "start_time": "2022-01-06T11:09:09.899Z"
   },
   {
    "duration": 335,
    "start_time": "2022-01-06T11:09:09.911Z"
   },
   {
    "duration": 250,
    "start_time": "2022-01-06T11:09:10.248Z"
   },
   {
    "duration": 398,
    "start_time": "2022-01-06T11:09:10.500Z"
   },
   {
    "duration": 6,
    "start_time": "2022-01-06T11:09:10.900Z"
   },
   {
    "duration": 437,
    "start_time": "2022-01-06T11:09:10.924Z"
   },
   {
    "duration": 7,
    "start_time": "2022-01-06T11:09:11.363Z"
   },
   {
    "duration": 252,
    "start_time": "2022-01-06T11:09:11.372Z"
   },
   {
    "duration": 11,
    "start_time": "2022-01-06T11:09:11.627Z"
   },
   {
    "duration": 16,
    "start_time": "2022-01-06T11:09:11.640Z"
   },
   {
    "duration": 14,
    "start_time": "2022-01-06T11:09:11.658Z"
   },
   {
    "duration": 49,
    "start_time": "2022-01-06T11:09:11.674Z"
   },
   {
    "duration": 15,
    "start_time": "2022-01-06T11:09:11.726Z"
   },
   {
    "duration": 10,
    "start_time": "2022-01-06T11:09:11.744Z"
   },
   {
    "duration": 19,
    "start_time": "2022-01-06T11:09:11.757Z"
   },
   {
    "duration": 1463,
    "start_time": "2022-01-06T11:41:00.539Z"
   },
   {
    "duration": 128,
    "start_time": "2022-01-06T11:43:46.719Z"
   },
   {
    "duration": 289,
    "start_time": "2022-01-07T01:33:39.137Z"
   },
   {
    "duration": 1195,
    "start_time": "2022-01-07T01:35:38.024Z"
   },
   {
    "duration": 61,
    "start_time": "2022-01-07T01:35:39.221Z"
   },
   {
    "duration": 15,
    "start_time": "2022-01-07T01:35:39.284Z"
   },
   {
    "duration": 25,
    "start_time": "2022-01-07T01:35:39.301Z"
   },
   {
    "duration": 17,
    "start_time": "2022-01-07T01:35:39.327Z"
   },
   {
    "duration": 6,
    "start_time": "2022-01-07T01:35:39.361Z"
   },
   {
    "duration": 13,
    "start_time": "2022-01-07T01:35:39.368Z"
   },
   {
    "duration": 5,
    "start_time": "2022-01-07T01:35:39.384Z"
   },
   {
    "duration": 5,
    "start_time": "2022-01-07T01:35:39.391Z"
   },
   {
    "duration": 6,
    "start_time": "2022-01-07T01:35:39.398Z"
   },
   {
    "duration": 9,
    "start_time": "2022-01-07T01:35:39.405Z"
   },
   {
    "duration": 7,
    "start_time": "2022-01-07T01:35:39.415Z"
   },
   {
    "duration": 40,
    "start_time": "2022-01-07T01:35:39.424Z"
   },
   {
    "duration": 4,
    "start_time": "2022-01-07T01:35:39.465Z"
   },
   {
    "duration": 7,
    "start_time": "2022-01-07T01:35:39.470Z"
   },
   {
    "duration": 7,
    "start_time": "2022-01-07T01:35:39.478Z"
   },
   {
    "duration": 4,
    "start_time": "2022-01-07T01:35:39.487Z"
   },
   {
    "duration": 16,
    "start_time": "2022-01-07T01:35:39.493Z"
   },
   {
    "duration": 5,
    "start_time": "2022-01-07T01:35:39.510Z"
   },
   {
    "duration": 5,
    "start_time": "2022-01-07T01:35:39.517Z"
   },
   {
    "duration": 49,
    "start_time": "2022-01-07T01:35:39.523Z"
   },
   {
    "duration": 8,
    "start_time": "2022-01-07T01:35:39.573Z"
   },
   {
    "duration": 15,
    "start_time": "2022-01-07T01:35:39.585Z"
   },
   {
    "duration": 15,
    "start_time": "2022-01-07T01:35:39.602Z"
   },
   {
    "duration": 64,
    "start_time": "2022-01-07T01:35:39.618Z"
   },
   {
    "duration": 22,
    "start_time": "2022-01-07T01:35:39.684Z"
   },
   {
    "duration": 23,
    "start_time": "2022-01-07T01:35:39.708Z"
   },
   {
    "duration": 45,
    "start_time": "2022-01-07T01:35:39.733Z"
   },
   {
    "duration": 21,
    "start_time": "2022-01-07T01:35:39.779Z"
   },
   {
    "duration": 7,
    "start_time": "2022-01-07T01:35:39.802Z"
   },
   {
    "duration": 13,
    "start_time": "2022-01-07T01:35:39.811Z"
   },
   {
    "duration": 41,
    "start_time": "2022-01-07T01:35:39.826Z"
   },
   {
    "duration": 10,
    "start_time": "2022-01-07T01:35:39.869Z"
   },
   {
    "duration": 15,
    "start_time": "2022-01-07T01:35:39.881Z"
   },
   {
    "duration": 230,
    "start_time": "2022-01-07T01:35:39.899Z"
   },
   {
    "duration": 2,
    "start_time": "2022-01-07T01:35:40.131Z"
   },
   {
    "duration": 209,
    "start_time": "2022-01-07T01:35:40.134Z"
   },
   {
    "duration": 349,
    "start_time": "2022-01-07T01:35:40.344Z"
   },
   {
    "duration": 7,
    "start_time": "2022-01-07T01:35:40.695Z"
   },
   {
    "duration": 208,
    "start_time": "2022-01-07T01:35:40.704Z"
   },
   {
    "duration": 114,
    "start_time": "2022-01-07T01:35:40.914Z"
   },
   {
    "duration": 334,
    "start_time": "2022-01-07T01:35:41.030Z"
   },
   {
    "duration": 4,
    "start_time": "2022-01-07T01:35:41.365Z"
   },
   {
    "duration": 322,
    "start_time": "2022-01-07T01:35:41.371Z"
   },
   {
    "duration": 4,
    "start_time": "2022-01-07T01:35:41.695Z"
   },
   {
    "duration": 126,
    "start_time": "2022-01-07T01:35:41.700Z"
   },
   {
    "duration": 8,
    "start_time": "2022-01-07T01:35:41.828Z"
   },
   {
    "duration": 22,
    "start_time": "2022-01-07T01:35:41.838Z"
   },
   {
    "duration": 11,
    "start_time": "2022-01-07T01:35:41.862Z"
   },
   {
    "duration": 9,
    "start_time": "2022-01-07T01:35:41.874Z"
   },
   {
    "duration": 13,
    "start_time": "2022-01-07T01:35:41.885Z"
   },
   {
    "duration": 11,
    "start_time": "2022-01-07T01:35:41.900Z"
   },
   {
    "duration": 14,
    "start_time": "2022-01-07T01:35:41.913Z"
   },
   {
    "duration": 6,
    "start_time": "2022-01-07T01:37:54.278Z"
   },
   {
    "duration": 6,
    "start_time": "2022-01-07T01:38:00.321Z"
   },
   {
    "duration": 6,
    "start_time": "2022-01-07T01:38:04.474Z"
   },
   {
    "duration": 337,
    "start_time": "2022-01-07T01:39:02.380Z"
   },
   {
    "duration": 858,
    "start_time": "2022-01-07T01:40:42.241Z"
   },
   {
    "duration": 905,
    "start_time": "2022-01-07T01:40:50.194Z"
   },
   {
    "duration": 242,
    "start_time": "2022-01-07T01:41:10.648Z"
   },
   {
    "duration": 84,
    "start_time": "2022-01-07T01:41:15.253Z"
   },
   {
    "duration": 255,
    "start_time": "2022-01-07T01:41:17.823Z"
   },
   {
    "duration": 6,
    "start_time": "2022-01-07T01:41:29.425Z"
   },
   {
    "duration": 3,
    "start_time": "2022-01-07T01:42:32.084Z"
   },
   {
    "duration": 479,
    "start_time": "2022-01-07T01:43:49.958Z"
   },
   {
    "duration": 415,
    "start_time": "2022-01-07T01:43:57.949Z"
   },
   {
    "duration": 6,
    "start_time": "2022-01-07T01:56:54.634Z"
   },
   {
    "duration": 1177,
    "start_time": "2022-01-07T01:57:08.442Z"
   },
   {
    "duration": 62,
    "start_time": "2022-01-07T01:57:09.621Z"
   },
   {
    "duration": 14,
    "start_time": "2022-01-07T01:57:09.685Z"
   },
   {
    "duration": 25,
    "start_time": "2022-01-07T01:57:09.701Z"
   },
   {
    "duration": 17,
    "start_time": "2022-01-07T01:57:09.728Z"
   },
   {
    "duration": 19,
    "start_time": "2022-01-07T01:57:09.746Z"
   },
   {
    "duration": 9,
    "start_time": "2022-01-07T01:57:09.766Z"
   },
   {
    "duration": 6,
    "start_time": "2022-01-07T01:57:09.777Z"
   },
   {
    "duration": 5,
    "start_time": "2022-01-07T01:57:09.785Z"
   },
   {
    "duration": 7,
    "start_time": "2022-01-07T01:57:09.791Z"
   },
   {
    "duration": 10,
    "start_time": "2022-01-07T01:57:09.800Z"
   },
   {
    "duration": 8,
    "start_time": "2022-01-07T01:57:09.812Z"
   },
   {
    "duration": 43,
    "start_time": "2022-01-07T01:57:09.821Z"
   },
   {
    "duration": 2,
    "start_time": "2022-01-07T01:57:09.866Z"
   },
   {
    "duration": 9,
    "start_time": "2022-01-07T01:57:09.869Z"
   },
   {
    "duration": 9,
    "start_time": "2022-01-07T01:57:09.879Z"
   },
   {
    "duration": 4,
    "start_time": "2022-01-07T01:57:09.889Z"
   },
   {
    "duration": 13,
    "start_time": "2022-01-07T01:57:09.895Z"
   },
   {
    "duration": 4,
    "start_time": "2022-01-07T01:57:09.909Z"
   },
   {
    "duration": 4,
    "start_time": "2022-01-07T01:57:09.915Z"
   },
   {
    "duration": 45,
    "start_time": "2022-01-07T01:57:09.921Z"
   },
   {
    "duration": 11,
    "start_time": "2022-01-07T01:57:09.967Z"
   },
   {
    "duration": 16,
    "start_time": "2022-01-07T01:57:09.980Z"
   },
   {
    "duration": 24,
    "start_time": "2022-01-07T01:57:09.998Z"
   },
   {
    "duration": 51,
    "start_time": "2022-01-07T01:57:10.024Z"
   },
   {
    "duration": 23,
    "start_time": "2022-01-07T01:57:10.076Z"
   },
   {
    "duration": 25,
    "start_time": "2022-01-07T01:57:10.103Z"
   },
   {
    "duration": 39,
    "start_time": "2022-01-07T01:57:10.130Z"
   },
   {
    "duration": 5,
    "start_time": "2022-01-07T01:57:10.171Z"
   },
   {
    "duration": 360,
    "start_time": "2022-01-07T01:57:10.177Z"
   },
   {
    "duration": -1892,
    "start_time": "2022-01-07T01:57:12.431Z"
   },
   {
    "duration": -1896,
    "start_time": "2022-01-07T01:57:12.436Z"
   },
   {
    "duration": -1900,
    "start_time": "2022-01-07T01:57:12.441Z"
   },
   {
    "duration": -1904,
    "start_time": "2022-01-07T01:57:12.446Z"
   },
   {
    "duration": -1908,
    "start_time": "2022-01-07T01:57:12.451Z"
   },
   {
    "duration": -1912,
    "start_time": "2022-01-07T01:57:12.456Z"
   },
   {
    "duration": -1915,
    "start_time": "2022-01-07T01:57:12.460Z"
   },
   {
    "duration": -1938,
    "start_time": "2022-01-07T01:57:12.484Z"
   },
   {
    "duration": -1952,
    "start_time": "2022-01-07T01:57:12.499Z"
   },
   {
    "duration": -1968,
    "start_time": "2022-01-07T01:57:12.516Z"
   },
   {
    "duration": -1979,
    "start_time": "2022-01-07T01:57:12.528Z"
   },
   {
    "duration": -1984,
    "start_time": "2022-01-07T01:57:12.534Z"
   },
   {
    "duration": -1990,
    "start_time": "2022-01-07T01:57:12.542Z"
   },
   {
    "duration": -1996,
    "start_time": "2022-01-07T01:57:12.549Z"
   },
   {
    "duration": -2000,
    "start_time": "2022-01-07T01:57:12.554Z"
   },
   {
    "duration": -2009,
    "start_time": "2022-01-07T01:57:12.564Z"
   },
   {
    "duration": -2017,
    "start_time": "2022-01-07T01:57:12.573Z"
   },
   {
    "duration": -2026,
    "start_time": "2022-01-07T01:57:12.583Z"
   },
   {
    "duration": -2062,
    "start_time": "2022-01-07T01:57:12.620Z"
   },
   {
    "duration": -2077,
    "start_time": "2022-01-07T01:57:12.636Z"
   },
   {
    "duration": -2099,
    "start_time": "2022-01-07T01:57:12.658Z"
   },
   {
    "duration": -2115,
    "start_time": "2022-01-07T01:57:12.675Z"
   },
   {
    "duration": -2125,
    "start_time": "2022-01-07T01:57:12.686Z"
   },
   {
    "duration": -2137,
    "start_time": "2022-01-07T01:57:12.699Z"
   },
   {
    "duration": 8,
    "start_time": "2022-01-07T01:57:46.003Z"
   },
   {
    "duration": 7,
    "start_time": "2022-01-07T01:57:50.757Z"
   },
   {
    "duration": 9,
    "start_time": "2022-01-07T01:58:01.896Z"
   },
   {
    "duration": 9,
    "start_time": "2022-01-07T01:58:32.689Z"
   },
   {
    "duration": 7,
    "start_time": "2022-01-07T01:58:49.120Z"
   },
   {
    "duration": 1138,
    "start_time": "2022-01-07T02:17:26.287Z"
   },
   {
    "duration": 61,
    "start_time": "2022-01-07T02:17:27.427Z"
   },
   {
    "duration": 15,
    "start_time": "2022-01-07T02:17:27.490Z"
   },
   {
    "duration": 35,
    "start_time": "2022-01-07T02:17:27.507Z"
   },
   {
    "duration": 30,
    "start_time": "2022-01-07T02:17:27.544Z"
   },
   {
    "duration": 5,
    "start_time": "2022-01-07T02:17:27.576Z"
   },
   {
    "duration": 7,
    "start_time": "2022-01-07T02:17:27.583Z"
   },
   {
    "duration": 7,
    "start_time": "2022-01-07T02:17:27.592Z"
   },
   {
    "duration": 4,
    "start_time": "2022-01-07T02:17:27.602Z"
   },
   {
    "duration": 8,
    "start_time": "2022-01-07T02:17:27.607Z"
   },
   {
    "duration": 45,
    "start_time": "2022-01-07T02:17:27.616Z"
   },
   {
    "duration": 7,
    "start_time": "2022-01-07T02:17:27.663Z"
   },
   {
    "duration": 19,
    "start_time": "2022-01-07T02:17:27.671Z"
   },
   {
    "duration": 15,
    "start_time": "2022-01-07T02:17:27.692Z"
   },
   {
    "duration": 18,
    "start_time": "2022-01-07T02:17:27.709Z"
   },
   {
    "duration": 14,
    "start_time": "2022-01-07T02:17:27.729Z"
   },
   {
    "duration": 16,
    "start_time": "2022-01-07T02:17:27.745Z"
   },
   {
    "duration": 22,
    "start_time": "2022-01-07T02:17:27.762Z"
   },
   {
    "duration": 7,
    "start_time": "2022-01-07T02:17:27.785Z"
   },
   {
    "duration": 9,
    "start_time": "2022-01-07T02:17:27.793Z"
   },
   {
    "duration": 22,
    "start_time": "2022-01-07T02:17:27.804Z"
   },
   {
    "duration": 15,
    "start_time": "2022-01-07T02:17:27.828Z"
   },
   {
    "duration": 15,
    "start_time": "2022-01-07T02:17:27.846Z"
   },
   {
    "duration": 23,
    "start_time": "2022-01-07T02:17:27.863Z"
   },
   {
    "duration": 22,
    "start_time": "2022-01-07T02:17:27.888Z"
   },
   {
    "duration": 50,
    "start_time": "2022-01-07T02:17:27.911Z"
   },
   {
    "duration": 23,
    "start_time": "2022-01-07T02:17:27.963Z"
   },
   {
    "duration": 22,
    "start_time": "2022-01-07T02:17:27.987Z"
   },
   {
    "duration": 19,
    "start_time": "2022-01-07T02:17:28.011Z"
   },
   {
    "duration": 337,
    "start_time": "2022-01-07T02:17:28.032Z"
   },
   {
    "duration": -541,
    "start_time": "2022-01-07T02:17:28.911Z"
   },
   {
    "duration": -545,
    "start_time": "2022-01-07T02:17:28.916Z"
   },
   {
    "duration": -548,
    "start_time": "2022-01-07T02:17:28.920Z"
   },
   {
    "duration": -552,
    "start_time": "2022-01-07T02:17:28.925Z"
   },
   {
    "duration": -555,
    "start_time": "2022-01-07T02:17:28.929Z"
   },
   {
    "duration": -560,
    "start_time": "2022-01-07T02:17:28.935Z"
   },
   {
    "duration": -563,
    "start_time": "2022-01-07T02:17:28.939Z"
   },
   {
    "duration": -625,
    "start_time": "2022-01-07T02:17:29.002Z"
   },
   {
    "duration": -631,
    "start_time": "2022-01-07T02:17:29.008Z"
   },
   {
    "duration": -638,
    "start_time": "2022-01-07T02:17:29.016Z"
   },
   {
    "duration": -643,
    "start_time": "2022-01-07T02:17:29.022Z"
   },
   {
    "duration": -653,
    "start_time": "2022-01-07T02:17:29.033Z"
   },
   {
    "duration": -657,
    "start_time": "2022-01-07T02:17:29.038Z"
   },
   {
    "duration": -661,
    "start_time": "2022-01-07T02:17:29.043Z"
   },
   {
    "duration": -665,
    "start_time": "2022-01-07T02:17:29.047Z"
   },
   {
    "duration": -670,
    "start_time": "2022-01-07T02:17:29.053Z"
   },
   {
    "duration": -673,
    "start_time": "2022-01-07T02:17:29.057Z"
   },
   {
    "duration": -676,
    "start_time": "2022-01-07T02:17:29.062Z"
   },
   {
    "duration": -680,
    "start_time": "2022-01-07T02:17:29.067Z"
   },
   {
    "duration": -684,
    "start_time": "2022-01-07T02:17:29.072Z"
   },
   {
    "duration": -688,
    "start_time": "2022-01-07T02:17:29.077Z"
   },
   {
    "duration": -693,
    "start_time": "2022-01-07T02:17:29.082Z"
   },
   {
    "duration": -696,
    "start_time": "2022-01-07T02:17:29.086Z"
   },
   {
    "duration": 16,
    "start_time": "2022-01-07T02:17:45.846Z"
   },
   {
    "duration": 257,
    "start_time": "2022-01-07T02:18:02.059Z"
   },
   {
    "duration": 11,
    "start_time": "2022-01-07T02:18:04.998Z"
   },
   {
    "duration": 16,
    "start_time": "2022-01-07T02:18:11.746Z"
   },
   {
    "duration": 10,
    "start_time": "2022-01-07T02:18:18.219Z"
   },
   {
    "duration": 9,
    "start_time": "2022-01-07T02:18:18.649Z"
   },
   {
    "duration": 1143,
    "start_time": "2022-01-07T02:18:29.382Z"
   },
   {
    "duration": 62,
    "start_time": "2022-01-07T02:18:30.526Z"
   },
   {
    "duration": 18,
    "start_time": "2022-01-07T02:18:30.590Z"
   },
   {
    "duration": 30,
    "start_time": "2022-01-07T02:18:30.610Z"
   },
   {
    "duration": 23,
    "start_time": "2022-01-07T02:18:30.642Z"
   },
   {
    "duration": 12,
    "start_time": "2022-01-07T02:18:30.666Z"
   },
   {
    "duration": 22,
    "start_time": "2022-01-07T02:18:30.680Z"
   },
   {
    "duration": 24,
    "start_time": "2022-01-07T02:18:30.704Z"
   },
   {
    "duration": 14,
    "start_time": "2022-01-07T02:18:30.730Z"
   },
   {
    "duration": 19,
    "start_time": "2022-01-07T02:18:30.745Z"
   },
   {
    "duration": 18,
    "start_time": "2022-01-07T02:18:30.766Z"
   },
   {
    "duration": 13,
    "start_time": "2022-01-07T02:18:30.785Z"
   },
   {
    "duration": 23,
    "start_time": "2022-01-07T02:18:30.800Z"
   },
   {
    "duration": 28,
    "start_time": "2022-01-07T02:18:30.825Z"
   },
   {
    "duration": 20,
    "start_time": "2022-01-07T02:18:30.855Z"
   },
   {
    "duration": 26,
    "start_time": "2022-01-07T02:18:30.877Z"
   },
   {
    "duration": 14,
    "start_time": "2022-01-07T02:18:30.905Z"
   },
   {
    "duration": 27,
    "start_time": "2022-01-07T02:18:30.921Z"
   },
   {
    "duration": 6,
    "start_time": "2022-01-07T02:18:30.950Z"
   },
   {
    "duration": 9,
    "start_time": "2022-01-07T02:18:30.957Z"
   },
   {
    "duration": 25,
    "start_time": "2022-01-07T02:18:30.967Z"
   },
   {
    "duration": 14,
    "start_time": "2022-01-07T02:18:30.994Z"
   },
   {
    "duration": 17,
    "start_time": "2022-01-07T02:18:31.011Z"
   },
   {
    "duration": 32,
    "start_time": "2022-01-07T02:18:31.030Z"
   },
   {
    "duration": 25,
    "start_time": "2022-01-07T02:18:31.064Z"
   },
   {
    "duration": 25,
    "start_time": "2022-01-07T02:18:31.091Z"
   },
   {
    "duration": 51,
    "start_time": "2022-01-07T02:18:31.118Z"
   },
   {
    "duration": 18,
    "start_time": "2022-01-07T02:18:31.170Z"
   },
   {
    "duration": 8,
    "start_time": "2022-01-07T02:18:31.189Z"
   },
   {
    "duration": 18,
    "start_time": "2022-01-07T02:18:31.198Z"
   },
   {
    "duration": 9,
    "start_time": "2022-01-07T02:18:31.217Z"
   },
   {
    "duration": 34,
    "start_time": "2022-01-07T02:18:31.228Z"
   },
   {
    "duration": 17,
    "start_time": "2022-01-07T02:18:31.264Z"
   },
   {
    "duration": 216,
    "start_time": "2022-01-07T02:18:31.283Z"
   },
   {
    "duration": 2,
    "start_time": "2022-01-07T02:18:31.501Z"
   },
   {
    "duration": 207,
    "start_time": "2022-01-07T02:18:31.504Z"
   },
   {
    "duration": 322,
    "start_time": "2022-01-07T02:18:31.713Z"
   },
   {
    "duration": 7,
    "start_time": "2022-01-07T02:18:32.036Z"
   },
   {
    "duration": 223,
    "start_time": "2022-01-07T02:18:32.044Z"
   },
   {
    "duration": 127,
    "start_time": "2022-01-07T02:18:32.268Z"
   },
   {
    "duration": 267,
    "start_time": "2022-01-07T02:18:32.397Z"
   },
   {
    "duration": 5,
    "start_time": "2022-01-07T02:18:32.666Z"
   },
   {
    "duration": 295,
    "start_time": "2022-01-07T02:18:32.673Z"
   },
   {
    "duration": 5,
    "start_time": "2022-01-07T02:18:32.970Z"
   },
   {
    "duration": 124,
    "start_time": "2022-01-07T02:18:32.976Z"
   },
   {
    "duration": 8,
    "start_time": "2022-01-07T02:18:33.102Z"
   },
   {
    "duration": 9,
    "start_time": "2022-01-07T02:18:33.112Z"
   },
   {
    "duration": 93,
    "start_time": "2022-01-07T02:18:33.122Z"
   },
   {
    "duration": 8,
    "start_time": "2022-01-07T02:18:33.217Z"
   },
   {
    "duration": 11,
    "start_time": "2022-01-07T02:18:33.227Z"
   },
   {
    "duration": 26,
    "start_time": "2022-01-07T02:18:33.239Z"
   },
   {
    "duration": 14,
    "start_time": "2022-01-07T02:18:33.267Z"
   },
   {
    "duration": 15,
    "start_time": "2022-01-07T02:30:50.539Z"
   },
   {
    "duration": 17,
    "start_time": "2022-01-07T02:30:55.735Z"
   },
   {
    "duration": 5,
    "start_time": "2022-01-07T02:31:32.287Z"
   },
   {
    "duration": 8,
    "start_time": "2022-01-07T02:34:06.614Z"
   },
   {
    "duration": 7,
    "start_time": "2022-01-07T02:34:49.277Z"
   },
   {
    "duration": 1163,
    "start_time": "2022-01-07T02:35:05.551Z"
   },
   {
    "duration": 62,
    "start_time": "2022-01-07T02:35:06.716Z"
   },
   {
    "duration": 14,
    "start_time": "2022-01-07T02:35:06.781Z"
   },
   {
    "duration": 27,
    "start_time": "2022-01-07T02:35:06.797Z"
   },
   {
    "duration": 36,
    "start_time": "2022-01-07T02:35:06.825Z"
   },
   {
    "duration": 6,
    "start_time": "2022-01-07T02:35:06.863Z"
   },
   {
    "duration": 10,
    "start_time": "2022-01-07T02:35:06.871Z"
   },
   {
    "duration": 5,
    "start_time": "2022-01-07T02:35:06.884Z"
   },
   {
    "duration": 8,
    "start_time": "2022-01-07T02:35:06.891Z"
   },
   {
    "duration": 7,
    "start_time": "2022-01-07T02:35:06.900Z"
   },
   {
    "duration": 12,
    "start_time": "2022-01-07T02:35:06.908Z"
   },
   {
    "duration": 42,
    "start_time": "2022-01-07T02:35:06.922Z"
   },
   {
    "duration": 14,
    "start_time": "2022-01-07T02:35:06.966Z"
   },
   {
    "duration": 5,
    "start_time": "2022-01-07T02:35:06.981Z"
   },
   {
    "duration": 8,
    "start_time": "2022-01-07T02:35:06.988Z"
   },
   {
    "duration": 10,
    "start_time": "2022-01-07T02:35:06.997Z"
   },
   {
    "duration": 5,
    "start_time": "2022-01-07T02:35:07.010Z"
   },
   {
    "duration": 51,
    "start_time": "2022-01-07T02:35:07.017Z"
   },
   {
    "duration": 10,
    "start_time": "2022-01-07T02:35:07.070Z"
   },
   {
    "duration": 21,
    "start_time": "2022-01-07T02:35:07.082Z"
   },
   {
    "duration": 6,
    "start_time": "2022-01-07T02:35:07.105Z"
   },
   {
    "duration": 6,
    "start_time": "2022-01-07T02:35:07.113Z"
   },
   {
    "duration": 43,
    "start_time": "2022-01-07T02:35:07.124Z"
   },
   {
    "duration": 342,
    "start_time": "2022-01-07T02:35:07.169Z"
   },
   {
    "duration": -816,
    "start_time": "2022-01-07T02:35:08.328Z"
   },
   {
    "duration": -819,
    "start_time": "2022-01-07T02:35:08.332Z"
   },
   {
    "duration": -825,
    "start_time": "2022-01-07T02:35:08.339Z"
   },
   {
    "duration": -876,
    "start_time": "2022-01-07T02:35:08.391Z"
   },
   {
    "duration": -881,
    "start_time": "2022-01-07T02:35:08.397Z"
   },
   {
    "duration": -887,
    "start_time": "2022-01-07T02:35:08.404Z"
   },
   {
    "duration": -894,
    "start_time": "2022-01-07T02:35:08.412Z"
   },
   {
    "duration": -900,
    "start_time": "2022-01-07T02:35:08.419Z"
   },
   {
    "duration": -907,
    "start_time": "2022-01-07T02:35:08.427Z"
   },
   {
    "duration": -920,
    "start_time": "2022-01-07T02:35:08.440Z"
   },
   {
    "duration": -927,
    "start_time": "2022-01-07T02:35:08.448Z"
   },
   {
    "duration": -931,
    "start_time": "2022-01-07T02:35:08.453Z"
   },
   {
    "duration": -937,
    "start_time": "2022-01-07T02:35:08.460Z"
   },
   {
    "duration": -944,
    "start_time": "2022-01-07T02:35:08.468Z"
   },
   {
    "duration": -950,
    "start_time": "2022-01-07T02:35:08.476Z"
   },
   {
    "duration": -955,
    "start_time": "2022-01-07T02:35:08.482Z"
   },
   {
    "duration": -961,
    "start_time": "2022-01-07T02:35:08.489Z"
   },
   {
    "duration": -977,
    "start_time": "2022-01-07T02:35:08.506Z"
   },
   {
    "duration": -985,
    "start_time": "2022-01-07T02:35:08.515Z"
   },
   {
    "duration": -991,
    "start_time": "2022-01-07T02:35:08.522Z"
   },
   {
    "duration": -996,
    "start_time": "2022-01-07T02:35:08.528Z"
   },
   {
    "duration": -1006,
    "start_time": "2022-01-07T02:35:08.539Z"
   },
   {
    "duration": -1012,
    "start_time": "2022-01-07T02:35:08.546Z"
   },
   {
    "duration": -1017,
    "start_time": "2022-01-07T02:35:08.552Z"
   },
   {
    "duration": -1023,
    "start_time": "2022-01-07T02:35:08.558Z"
   },
   {
    "duration": -1028,
    "start_time": "2022-01-07T02:35:08.564Z"
   },
   {
    "duration": -1033,
    "start_time": "2022-01-07T02:35:08.570Z"
   },
   {
    "duration": -1037,
    "start_time": "2022-01-07T02:35:08.576Z"
   },
   {
    "duration": -1041,
    "start_time": "2022-01-07T02:35:08.581Z"
   },
   {
    "duration": -1045,
    "start_time": "2022-01-07T02:35:08.586Z"
   },
   {
    "duration": -1051,
    "start_time": "2022-01-07T02:35:08.593Z"
   },
   {
    "duration": -1055,
    "start_time": "2022-01-07T02:35:08.598Z"
   },
   {
    "duration": 4,
    "start_time": "2022-01-07T02:35:36.623Z"
   },
   {
    "duration": 1257,
    "start_time": "2022-01-07T02:38:03.239Z"
   },
   {
    "duration": 75,
    "start_time": "2022-01-07T02:38:04.498Z"
   },
   {
    "duration": 13,
    "start_time": "2022-01-07T02:38:04.576Z"
   },
   {
    "duration": 77,
    "start_time": "2022-01-07T02:38:04.591Z"
   },
   {
    "duration": 19,
    "start_time": "2022-01-07T02:38:04.670Z"
   },
   {
    "duration": 6,
    "start_time": "2022-01-07T02:38:04.691Z"
   },
   {
    "duration": 67,
    "start_time": "2022-01-07T02:38:04.698Z"
   },
   {
    "duration": 14,
    "start_time": "2022-01-07T02:38:04.766Z"
   },
   {
    "duration": 9,
    "start_time": "2022-01-07T02:38:04.782Z"
   },
   {
    "duration": 11,
    "start_time": "2022-01-07T02:38:04.793Z"
   },
   {
    "duration": 12,
    "start_time": "2022-01-07T02:38:04.806Z"
   },
   {
    "duration": 6,
    "start_time": "2022-01-07T02:38:04.861Z"
   },
   {
    "duration": 15,
    "start_time": "2022-01-07T02:38:04.869Z"
   },
   {
    "duration": 4,
    "start_time": "2022-01-07T02:38:04.886Z"
   },
   {
    "duration": 14,
    "start_time": "2022-01-07T02:38:04.892Z"
   },
   {
    "duration": 10,
    "start_time": "2022-01-07T02:38:04.908Z"
   },
   {
    "duration": 17,
    "start_time": "2022-01-07T02:38:04.920Z"
   },
   {
    "duration": 22,
    "start_time": "2022-01-07T02:38:04.939Z"
   },
   {
    "duration": 13,
    "start_time": "2022-01-07T02:38:04.962Z"
   },
   {
    "duration": 23,
    "start_time": "2022-01-07T02:38:04.977Z"
   },
   {
    "duration": 15,
    "start_time": "2022-01-07T02:38:05.002Z"
   },
   {
    "duration": 23,
    "start_time": "2022-01-07T02:38:05.018Z"
   },
   {
    "duration": 17,
    "start_time": "2022-01-07T02:38:05.043Z"
   },
   {
    "duration": 29,
    "start_time": "2022-01-07T02:38:05.062Z"
   },
   {
    "duration": 21,
    "start_time": "2022-01-07T02:38:05.093Z"
   },
   {
    "duration": 337,
    "start_time": "2022-01-07T02:38:05.115Z"
   },
   {
    "duration": -1246,
    "start_time": "2022-01-07T02:38:06.701Z"
   },
   {
    "duration": -1252,
    "start_time": "2022-01-07T02:38:06.707Z"
   },
   {
    "duration": -1264,
    "start_time": "2022-01-07T02:38:06.720Z"
   },
   {
    "duration": -1268,
    "start_time": "2022-01-07T02:38:06.725Z"
   },
   {
    "duration": -1272,
    "start_time": "2022-01-07T02:38:06.730Z"
   },
   {
    "duration": -1275,
    "start_time": "2022-01-07T02:38:06.734Z"
   },
   {
    "duration": -1279,
    "start_time": "2022-01-07T02:38:06.738Z"
   },
   {
    "duration": -1282,
    "start_time": "2022-01-07T02:38:06.742Z"
   },
   {
    "duration": -1286,
    "start_time": "2022-01-07T02:38:06.747Z"
   },
   {
    "duration": -1455,
    "start_time": "2022-01-07T02:38:06.917Z"
   },
   {
    "duration": -1573,
    "start_time": "2022-01-07T02:38:07.035Z"
   },
   {
    "duration": -1579,
    "start_time": "2022-01-07T02:38:07.042Z"
   },
   {
    "duration": -1590,
    "start_time": "2022-01-07T02:38:07.054Z"
   },
   {
    "duration": -1594,
    "start_time": "2022-01-07T02:38:07.058Z"
   },
   {
    "duration": -1599,
    "start_time": "2022-01-07T02:38:07.064Z"
   },
   {
    "duration": -1604,
    "start_time": "2022-01-07T02:38:07.070Z"
   },
   {
    "duration": -1607,
    "start_time": "2022-01-07T02:38:07.074Z"
   },
   {
    "duration": -1613,
    "start_time": "2022-01-07T02:38:07.080Z"
   },
   {
    "duration": -1618,
    "start_time": "2022-01-07T02:38:07.086Z"
   },
   {
    "duration": -1621,
    "start_time": "2022-01-07T02:38:07.090Z"
   },
   {
    "duration": -1626,
    "start_time": "2022-01-07T02:38:07.096Z"
   },
   {
    "duration": -1630,
    "start_time": "2022-01-07T02:38:07.101Z"
   },
   {
    "duration": -1634,
    "start_time": "2022-01-07T02:38:07.106Z"
   },
   {
    "duration": -1638,
    "start_time": "2022-01-07T02:38:07.111Z"
   },
   {
    "duration": -1643,
    "start_time": "2022-01-07T02:38:07.117Z"
   },
   {
    "duration": -1663,
    "start_time": "2022-01-07T02:38:07.137Z"
   },
   {
    "duration": -1668,
    "start_time": "2022-01-07T02:38:07.143Z"
   },
   {
    "duration": -1672,
    "start_time": "2022-01-07T02:38:07.148Z"
   },
   {
    "duration": -1677,
    "start_time": "2022-01-07T02:38:07.154Z"
   },
   {
    "duration": -1680,
    "start_time": "2022-01-07T02:38:07.158Z"
   },
   {
    "duration": 4,
    "start_time": "2022-01-07T02:38:34.634Z"
   },
   {
    "duration": 17,
    "start_time": "2022-01-07T02:42:54.563Z"
   },
   {
    "duration": 24,
    "start_time": "2022-01-07T02:42:55.405Z"
   },
   {
    "duration": 26,
    "start_time": "2022-01-07T02:42:55.737Z"
   },
   {
    "duration": 23,
    "start_time": "2022-01-07T02:42:55.895Z"
   },
   {
    "duration": 23,
    "start_time": "2022-01-07T02:42:56.100Z"
   },
   {
    "duration": 19,
    "start_time": "2022-01-07T02:42:56.832Z"
   },
   {
    "duration": 8,
    "start_time": "2022-01-07T02:43:01.860Z"
   },
   {
    "duration": 16,
    "start_time": "2022-01-07T02:43:02.901Z"
   },
   {
    "duration": 9,
    "start_time": "2022-01-07T02:43:03.038Z"
   },
   {
    "duration": 9,
    "start_time": "2022-01-07T02:43:03.205Z"
   },
   {
    "duration": 12,
    "start_time": "2022-01-07T02:43:10.973Z"
   },
   {
    "duration": 194,
    "start_time": "2022-01-07T02:43:26.827Z"
   },
   {
    "duration": 188,
    "start_time": "2022-01-07T02:43:45.915Z"
   },
   {
    "duration": 322,
    "start_time": "2022-01-07T02:44:01.599Z"
   },
   {
    "duration": 8,
    "start_time": "2022-01-07T02:45:41.881Z"
   },
   {
    "duration": 197,
    "start_time": "2022-01-07T02:45:43.033Z"
   },
   {
    "duration": 103,
    "start_time": "2022-01-07T02:45:57.179Z"
   },
   {
    "duration": 304,
    "start_time": "2022-01-07T02:45:59.068Z"
   },
   {
    "duration": 4,
    "start_time": "2022-01-07T02:45:59.948Z"
   },
   {
    "duration": 111,
    "start_time": "2022-01-07T02:46:19.759Z"
   },
   {
    "duration": 337,
    "start_time": "2022-01-07T02:46:26.432Z"
   },
   {
    "duration": 112,
    "start_time": "2022-01-07T02:46:37.255Z"
   },
   {
    "duration": 83,
    "start_time": "2022-01-07T02:46:44.465Z"
   },
   {
    "duration": 95,
    "start_time": "2022-01-07T02:46:47.672Z"
   },
   {
    "duration": 1149,
    "start_time": "2022-01-07T03:01:56.564Z"
   },
   {
    "duration": 61,
    "start_time": "2022-01-07T03:02:28.484Z"
   },
   {
    "duration": 1141,
    "start_time": "2022-01-07T03:02:38.482Z"
   },
   {
    "duration": 63,
    "start_time": "2022-01-07T03:02:39.625Z"
   },
   {
    "duration": 14,
    "start_time": "2022-01-07T03:02:39.690Z"
   },
   {
    "duration": 26,
    "start_time": "2022-01-07T03:02:39.706Z"
   },
   {
    "duration": 17,
    "start_time": "2022-01-07T03:02:39.734Z"
   },
   {
    "duration": 7,
    "start_time": "2022-01-07T03:02:39.760Z"
   },
   {
    "duration": 9,
    "start_time": "2022-01-07T03:02:39.768Z"
   },
   {
    "duration": 6,
    "start_time": "2022-01-07T03:02:39.779Z"
   },
   {
    "duration": 8,
    "start_time": "2022-01-07T03:02:39.787Z"
   },
   {
    "duration": 7,
    "start_time": "2022-01-07T03:02:39.797Z"
   },
   {
    "duration": 11,
    "start_time": "2022-01-07T03:02:39.805Z"
   },
   {
    "duration": 7,
    "start_time": "2022-01-07T03:02:39.817Z"
   },
   {
    "duration": 9,
    "start_time": "2022-01-07T03:02:39.862Z"
   },
   {
    "duration": 7,
    "start_time": "2022-01-07T03:02:39.873Z"
   },
   {
    "duration": 7,
    "start_time": "2022-01-07T03:02:39.882Z"
   },
   {
    "duration": 7,
    "start_time": "2022-01-07T03:02:39.891Z"
   },
   {
    "duration": 6,
    "start_time": "2022-01-07T03:02:39.900Z"
   },
   {
    "duration": 14,
    "start_time": "2022-01-07T03:02:39.908Z"
   },
   {
    "duration": 41,
    "start_time": "2022-01-07T03:02:39.923Z"
   },
   {
    "duration": 17,
    "start_time": "2022-01-07T03:02:39.966Z"
   },
   {
    "duration": 6,
    "start_time": "2022-01-07T03:02:39.985Z"
   },
   {
    "duration": 8,
    "start_time": "2022-01-07T03:02:39.992Z"
   },
   {
    "duration": 9,
    "start_time": "2022-01-07T03:02:40.003Z"
   },
   {
    "duration": 49,
    "start_time": "2022-01-07T03:02:40.015Z"
   },
   {
    "duration": 26,
    "start_time": "2022-01-07T03:02:40.065Z"
   },
   {
    "duration": 22,
    "start_time": "2022-01-07T03:02:40.092Z"
   },
   {
    "duration": 48,
    "start_time": "2022-01-07T03:02:40.115Z"
   },
   {
    "duration": 23,
    "start_time": "2022-01-07T03:02:40.165Z"
   },
   {
    "duration": 22,
    "start_time": "2022-01-07T03:02:40.190Z"
   },
   {
    "duration": 8,
    "start_time": "2022-01-07T03:02:40.214Z"
   },
   {
    "duration": 42,
    "start_time": "2022-01-07T03:02:40.223Z"
   },
   {
    "duration": 9,
    "start_time": "2022-01-07T03:02:40.266Z"
   },
   {
    "duration": 10,
    "start_time": "2022-01-07T03:02:40.277Z"
   },
   {
    "duration": 12,
    "start_time": "2022-01-07T03:02:40.289Z"
   },
   {
    "duration": 221,
    "start_time": "2022-01-07T03:02:40.303Z"
   },
   {
    "duration": 204,
    "start_time": "2022-01-07T03:02:40.525Z"
   },
   {
    "duration": 334,
    "start_time": "2022-01-07T03:02:40.731Z"
   },
   {
    "duration": 7,
    "start_time": "2022-01-07T03:02:41.067Z"
   },
   {
    "duration": 203,
    "start_time": "2022-01-07T03:02:41.075Z"
   },
   {
    "duration": 112,
    "start_time": "2022-01-07T03:02:41.279Z"
   },
   {
    "duration": 271,
    "start_time": "2022-01-07T03:02:41.393Z"
   },
   {
    "duration": 3,
    "start_time": "2022-01-07T03:02:41.666Z"
   },
   {
    "duration": 293,
    "start_time": "2022-01-07T03:02:41.671Z"
   },
   {
    "duration": 4,
    "start_time": "2022-01-07T03:02:41.965Z"
   },
   {
    "duration": 112,
    "start_time": "2022-01-07T03:02:41.971Z"
   },
   {
    "duration": 8,
    "start_time": "2022-01-07T03:02:42.085Z"
   },
   {
    "duration": 15,
    "start_time": "2022-01-07T03:02:42.095Z"
   },
   {
    "duration": 10,
    "start_time": "2022-01-07T03:02:42.112Z"
   },
   {
    "duration": 9,
    "start_time": "2022-01-07T03:02:42.123Z"
   },
   {
    "duration": 27,
    "start_time": "2022-01-07T03:02:42.134Z"
   },
   {
    "duration": 9,
    "start_time": "2022-01-07T03:02:42.162Z"
   },
   {
    "duration": 14,
    "start_time": "2022-01-07T03:02:42.172Z"
   },
   {
    "duration": 1279,
    "start_time": "2022-01-07T03:04:32.241Z"
   },
   {
    "duration": 60,
    "start_time": "2022-01-07T03:04:33.521Z"
   },
   {
    "duration": 26,
    "start_time": "2022-01-07T03:04:33.583Z"
   },
   {
    "duration": 27,
    "start_time": "2022-01-07T03:04:33.611Z"
   },
   {
    "duration": 22,
    "start_time": "2022-01-07T03:04:33.640Z"
   },
   {
    "duration": 6,
    "start_time": "2022-01-07T03:04:33.664Z"
   },
   {
    "duration": 8,
    "start_time": "2022-01-07T03:04:33.672Z"
   },
   {
    "duration": 6,
    "start_time": "2022-01-07T03:04:33.682Z"
   },
   {
    "duration": 7,
    "start_time": "2022-01-07T03:04:33.690Z"
   },
   {
    "duration": 7,
    "start_time": "2022-01-07T03:04:33.699Z"
   },
   {
    "duration": 10,
    "start_time": "2022-01-07T03:04:33.707Z"
   },
   {
    "duration": 43,
    "start_time": "2022-01-07T03:04:33.719Z"
   },
   {
    "duration": 10,
    "start_time": "2022-01-07T03:04:33.763Z"
   },
   {
    "duration": 3,
    "start_time": "2022-01-07T03:04:33.775Z"
   },
   {
    "duration": 6,
    "start_time": "2022-01-07T03:04:33.780Z"
   },
   {
    "duration": 7,
    "start_time": "2022-01-07T03:04:33.787Z"
   },
   {
    "duration": 5,
    "start_time": "2022-01-07T03:04:33.795Z"
   },
   {
    "duration": 13,
    "start_time": "2022-01-07T03:04:33.801Z"
   },
   {
    "duration": 7,
    "start_time": "2022-01-07T03:04:33.815Z"
   },
   {
    "duration": 50,
    "start_time": "2022-01-07T03:04:33.824Z"
   },
   {
    "duration": 5,
    "start_time": "2022-01-07T03:04:33.876Z"
   },
   {
    "duration": 4,
    "start_time": "2022-01-07T03:04:33.883Z"
   },
   {
    "duration": 339,
    "start_time": "2022-01-07T03:04:33.890Z"
   },
   {
    "duration": -107,
    "start_time": "2022-01-07T03:04:34.338Z"
   },
   {
    "duration": -114,
    "start_time": "2022-01-07T03:04:34.346Z"
   },
   {
    "duration": -118,
    "start_time": "2022-01-07T03:04:34.351Z"
   },
   {
    "duration": -131,
    "start_time": "2022-01-07T03:04:34.365Z"
   },
   {
    "duration": -137,
    "start_time": "2022-01-07T03:04:34.371Z"
   },
   {
    "duration": -142,
    "start_time": "2022-01-07T03:04:34.377Z"
   },
   {
    "duration": -147,
    "start_time": "2022-01-07T03:04:34.383Z"
   },
   {
    "duration": -151,
    "start_time": "2022-01-07T03:04:34.388Z"
   },
   {
    "duration": -155,
    "start_time": "2022-01-07T03:04:34.393Z"
   },
   {
    "duration": -160,
    "start_time": "2022-01-07T03:04:34.398Z"
   },
   {
    "duration": -165,
    "start_time": "2022-01-07T03:04:34.404Z"
   },
   {
    "duration": -169,
    "start_time": "2022-01-07T03:04:34.409Z"
   },
   {
    "duration": -176,
    "start_time": "2022-01-07T03:04:34.417Z"
   },
   {
    "duration": -181,
    "start_time": "2022-01-07T03:04:34.423Z"
   },
   {
    "duration": -187,
    "start_time": "2022-01-07T03:04:34.430Z"
   },
   {
    "duration": -192,
    "start_time": "2022-01-07T03:04:34.435Z"
   },
   {
    "duration": -196,
    "start_time": "2022-01-07T03:04:34.440Z"
   },
   {
    "duration": -201,
    "start_time": "2022-01-07T03:04:34.446Z"
   },
   {
    "duration": -207,
    "start_time": "2022-01-07T03:04:34.453Z"
   },
   {
    "duration": -212,
    "start_time": "2022-01-07T03:04:34.459Z"
   },
   {
    "duration": -217,
    "start_time": "2022-01-07T03:04:34.464Z"
   },
   {
    "duration": -233,
    "start_time": "2022-01-07T03:04:34.481Z"
   },
   {
    "duration": -247,
    "start_time": "2022-01-07T03:04:34.496Z"
   },
   {
    "duration": -254,
    "start_time": "2022-01-07T03:04:34.504Z"
   },
   {
    "duration": -260,
    "start_time": "2022-01-07T03:04:34.511Z"
   },
   {
    "duration": -272,
    "start_time": "2022-01-07T03:04:34.523Z"
   },
   {
    "duration": -279,
    "start_time": "2022-01-07T03:04:34.531Z"
   },
   {
    "duration": -286,
    "start_time": "2022-01-07T03:04:34.539Z"
   },
   {
    "duration": -302,
    "start_time": "2022-01-07T03:04:34.556Z"
   },
   {
    "duration": -308,
    "start_time": "2022-01-07T03:04:34.563Z"
   },
   {
    "duration": 17,
    "start_time": "2022-01-07T03:08:31.340Z"
   },
   {
    "duration": 1142,
    "start_time": "2022-01-07T03:08:41.473Z"
   },
   {
    "duration": 62,
    "start_time": "2022-01-07T03:08:42.617Z"
   },
   {
    "duration": 14,
    "start_time": "2022-01-07T03:08:42.681Z"
   },
   {
    "duration": 25,
    "start_time": "2022-01-07T03:08:42.697Z"
   },
   {
    "duration": 16,
    "start_time": "2022-01-07T03:08:42.724Z"
   },
   {
    "duration": 6,
    "start_time": "2022-01-07T03:08:42.760Z"
   },
   {
    "duration": 7,
    "start_time": "2022-01-07T03:08:42.768Z"
   },
   {
    "duration": 7,
    "start_time": "2022-01-07T03:08:42.778Z"
   },
   {
    "duration": 8,
    "start_time": "2022-01-07T03:08:42.787Z"
   },
   {
    "duration": 7,
    "start_time": "2022-01-07T03:08:42.797Z"
   },
   {
    "duration": 14,
    "start_time": "2022-01-07T03:08:42.805Z"
   },
   {
    "duration": 43,
    "start_time": "2022-01-07T03:08:42.821Z"
   },
   {
    "duration": 8,
    "start_time": "2022-01-07T03:08:42.866Z"
   },
   {
    "duration": 3,
    "start_time": "2022-01-07T03:08:42.876Z"
   },
   {
    "duration": 6,
    "start_time": "2022-01-07T03:08:42.881Z"
   },
   {
    "duration": 6,
    "start_time": "2022-01-07T03:08:42.889Z"
   },
   {
    "duration": 4,
    "start_time": "2022-01-07T03:08:42.897Z"
   },
   {
    "duration": 14,
    "start_time": "2022-01-07T03:08:42.902Z"
   },
   {
    "duration": 49,
    "start_time": "2022-01-07T03:08:42.917Z"
   },
   {
    "duration": 15,
    "start_time": "2022-01-07T03:08:42.968Z"
   },
   {
    "duration": 6,
    "start_time": "2022-01-07T03:08:42.985Z"
   },
   {
    "duration": 4,
    "start_time": "2022-01-07T03:08:42.993Z"
   },
   {
    "duration": 327,
    "start_time": "2022-01-07T03:08:43.001Z"
   },
   {
    "duration": -696,
    "start_time": "2022-01-07T03:08:44.026Z"
   },
   {
    "duration": -702,
    "start_time": "2022-01-07T03:08:44.032Z"
   },
   {
    "duration": -706,
    "start_time": "2022-01-07T03:08:44.037Z"
   },
   {
    "duration": -766,
    "start_time": "2022-01-07T03:08:44.098Z"
   },
   {
    "duration": -775,
    "start_time": "2022-01-07T03:08:44.108Z"
   },
   {
    "duration": -780,
    "start_time": "2022-01-07T03:08:44.114Z"
   },
   {
    "duration": -787,
    "start_time": "2022-01-07T03:08:44.121Z"
   },
   {
    "duration": -797,
    "start_time": "2022-01-07T03:08:44.132Z"
   },
   {
    "duration": -803,
    "start_time": "2022-01-07T03:08:44.139Z"
   },
   {
    "duration": -808,
    "start_time": "2022-01-07T03:08:44.145Z"
   },
   {
    "duration": -812,
    "start_time": "2022-01-07T03:08:44.150Z"
   },
   {
    "duration": -818,
    "start_time": "2022-01-07T03:08:44.156Z"
   },
   {
    "duration": -822,
    "start_time": "2022-01-07T03:08:44.161Z"
   },
   {
    "duration": -826,
    "start_time": "2022-01-07T03:08:44.166Z"
   },
   {
    "duration": -834,
    "start_time": "2022-01-07T03:08:44.175Z"
   },
   {
    "duration": -838,
    "start_time": "2022-01-07T03:08:44.180Z"
   },
   {
    "duration": -848,
    "start_time": "2022-01-07T03:08:44.190Z"
   },
   {
    "duration": -862,
    "start_time": "2022-01-07T03:08:44.205Z"
   },
   {
    "duration": -867,
    "start_time": "2022-01-07T03:08:44.211Z"
   },
   {
    "duration": -870,
    "start_time": "2022-01-07T03:08:44.215Z"
   },
   {
    "duration": -877,
    "start_time": "2022-01-07T03:08:44.223Z"
   },
   {
    "duration": -882,
    "start_time": "2022-01-07T03:08:44.228Z"
   },
   {
    "duration": -886,
    "start_time": "2022-01-07T03:08:44.233Z"
   },
   {
    "duration": -891,
    "start_time": "2022-01-07T03:08:44.239Z"
   },
   {
    "duration": -896,
    "start_time": "2022-01-07T03:08:44.245Z"
   },
   {
    "duration": -900,
    "start_time": "2022-01-07T03:08:44.250Z"
   },
   {
    "duration": -904,
    "start_time": "2022-01-07T03:08:44.255Z"
   },
   {
    "duration": -908,
    "start_time": "2022-01-07T03:08:44.260Z"
   },
   {
    "duration": -912,
    "start_time": "2022-01-07T03:08:44.265Z"
   },
   {
    "duration": -917,
    "start_time": "2022-01-07T03:08:44.271Z"
   },
   {
    "duration": 4,
    "start_time": "2022-01-07T03:10:39.976Z"
   },
   {
    "duration": 18,
    "start_time": "2022-01-07T03:10:52.611Z"
   },
   {
    "duration": 5,
    "start_time": "2022-01-07T03:10:54.559Z"
   },
   {
    "duration": 4,
    "start_time": "2022-01-07T03:11:12.728Z"
   },
   {
    "duration": 18,
    "start_time": "2022-01-07T03:11:15.531Z"
   },
   {
    "duration": 84,
    "start_time": "2022-01-07T03:11:31.921Z"
   },
   {
    "duration": 11,
    "start_time": "2022-01-07T03:11:35.453Z"
   },
   {
    "duration": 15,
    "start_time": "2022-01-07T03:11:57.091Z"
   },
   {
    "duration": 14,
    "start_time": "2022-01-07T03:12:09.675Z"
   },
   {
    "duration": 17,
    "start_time": "2022-01-07T03:14:31.401Z"
   },
   {
    "duration": 6,
    "start_time": "2022-01-07T03:15:31.218Z"
   },
   {
    "duration": 12,
    "start_time": "2022-01-07T03:15:36.441Z"
   },
   {
    "duration": 11,
    "start_time": "2022-01-07T03:15:39.443Z"
   },
   {
    "duration": 1189,
    "start_time": "2022-01-07T03:15:59.137Z"
   },
   {
    "duration": 62,
    "start_time": "2022-01-07T03:16:00.328Z"
   },
   {
    "duration": 14,
    "start_time": "2022-01-07T03:16:00.392Z"
   },
   {
    "duration": 46,
    "start_time": "2022-01-07T03:16:00.407Z"
   },
   {
    "duration": 22,
    "start_time": "2022-01-07T03:16:00.455Z"
   },
   {
    "duration": 18,
    "start_time": "2022-01-07T03:16:00.479Z"
   },
   {
    "duration": 8,
    "start_time": "2022-01-07T03:16:00.499Z"
   },
   {
    "duration": 11,
    "start_time": "2022-01-07T03:16:00.509Z"
   },
   {
    "duration": 5,
    "start_time": "2022-01-07T03:16:00.522Z"
   },
   {
    "duration": 6,
    "start_time": "2022-01-07T03:16:00.529Z"
   },
   {
    "duration": 24,
    "start_time": "2022-01-07T03:16:00.537Z"
   },
   {
    "duration": 10,
    "start_time": "2022-01-07T03:16:00.563Z"
   },
   {
    "duration": 12,
    "start_time": "2022-01-07T03:16:00.574Z"
   },
   {
    "duration": 10,
    "start_time": "2022-01-07T03:16:00.588Z"
   },
   {
    "duration": 14,
    "start_time": "2022-01-07T03:16:00.599Z"
   },
   {
    "duration": 20,
    "start_time": "2022-01-07T03:16:00.614Z"
   },
   {
    "duration": 8,
    "start_time": "2022-01-07T03:16:00.635Z"
   },
   {
    "duration": 20,
    "start_time": "2022-01-07T03:16:00.644Z"
   },
   {
    "duration": 8,
    "start_time": "2022-01-07T03:16:00.666Z"
   },
   {
    "duration": 9,
    "start_time": "2022-01-07T03:16:00.676Z"
   },
   {
    "duration": 16,
    "start_time": "2022-01-07T03:16:00.687Z"
   },
   {
    "duration": 4,
    "start_time": "2022-01-07T03:16:00.704Z"
   },
   {
    "duration": 335,
    "start_time": "2022-01-07T03:16:00.712Z"
   },
   {
    "duration": -220,
    "start_time": "2022-01-07T03:16:01.269Z"
   },
   {
    "duration": -225,
    "start_time": "2022-01-07T03:16:01.275Z"
   },
   {
    "duration": -230,
    "start_time": "2022-01-07T03:16:01.281Z"
   },
   {
    "duration": -235,
    "start_time": "2022-01-07T03:16:01.287Z"
   },
   {
    "duration": -240,
    "start_time": "2022-01-07T03:16:01.293Z"
   },
   {
    "duration": -245,
    "start_time": "2022-01-07T03:16:01.298Z"
   },
   {
    "duration": -250,
    "start_time": "2022-01-07T03:16:01.304Z"
   },
   {
    "duration": -305,
    "start_time": "2022-01-07T03:16:01.360Z"
   },
   {
    "duration": -311,
    "start_time": "2022-01-07T03:16:01.367Z"
   },
   {
    "duration": -321,
    "start_time": "2022-01-07T03:16:01.377Z"
   },
   {
    "duration": -329,
    "start_time": "2022-01-07T03:16:01.386Z"
   },
   {
    "duration": -333,
    "start_time": "2022-01-07T03:16:01.391Z"
   },
   {
    "duration": -338,
    "start_time": "2022-01-07T03:16:01.397Z"
   },
   {
    "duration": -342,
    "start_time": "2022-01-07T03:16:01.402Z"
   },
   {
    "duration": -346,
    "start_time": "2022-01-07T03:16:01.407Z"
   },
   {
    "duration": -355,
    "start_time": "2022-01-07T03:16:01.416Z"
   },
   {
    "duration": -360,
    "start_time": "2022-01-07T03:16:01.422Z"
   },
   {
    "duration": -364,
    "start_time": "2022-01-07T03:16:01.427Z"
   },
   {
    "duration": -369,
    "start_time": "2022-01-07T03:16:01.433Z"
   },
   {
    "duration": -373,
    "start_time": "2022-01-07T03:16:01.438Z"
   },
   {
    "duration": -379,
    "start_time": "2022-01-07T03:16:01.444Z"
   },
   {
    "duration": -383,
    "start_time": "2022-01-07T03:16:01.449Z"
   },
   {
    "duration": -388,
    "start_time": "2022-01-07T03:16:01.455Z"
   },
   {
    "duration": -402,
    "start_time": "2022-01-07T03:16:01.470Z"
   },
   {
    "duration": -408,
    "start_time": "2022-01-07T03:16:01.477Z"
   },
   {
    "duration": -414,
    "start_time": "2022-01-07T03:16:01.484Z"
   },
   {
    "duration": -421,
    "start_time": "2022-01-07T03:16:01.491Z"
   },
   {
    "duration": -427,
    "start_time": "2022-01-07T03:16:01.498Z"
   },
   {
    "duration": -431,
    "start_time": "2022-01-07T03:16:01.503Z"
   },
   {
    "duration": -436,
    "start_time": "2022-01-07T03:16:01.509Z"
   },
   {
    "duration": -439,
    "start_time": "2022-01-07T03:16:01.514Z"
   },
   {
    "duration": -443,
    "start_time": "2022-01-07T03:16:01.519Z"
   },
   {
    "duration": -452,
    "start_time": "2022-01-07T03:16:01.529Z"
   },
   {
    "duration": 10,
    "start_time": "2022-01-07T03:17:21.309Z"
   },
   {
    "duration": 4,
    "start_time": "2022-01-07T03:25:44.903Z"
   },
   {
    "duration": 16,
    "start_time": "2022-01-07T03:25:52.310Z"
   },
   {
    "duration": 4,
    "start_time": "2022-01-07T03:25:53.200Z"
   },
   {
    "duration": 4,
    "start_time": "2022-01-07T03:26:40.458Z"
   },
   {
    "duration": 6,
    "start_time": "2022-01-07T03:27:01.767Z"
   },
   {
    "duration": 5,
    "start_time": "2022-01-07T03:27:14.103Z"
   },
   {
    "duration": 9,
    "start_time": "2022-01-07T03:28:09.776Z"
   },
   {
    "duration": 10,
    "start_time": "2022-01-07T03:28:38.959Z"
   },
   {
    "duration": 9,
    "start_time": "2022-01-07T03:29:06.342Z"
   },
   {
    "duration": 18,
    "start_time": "2022-01-07T03:29:07.628Z"
   },
   {
    "duration": 25,
    "start_time": "2022-01-07T03:29:07.780Z"
   },
   {
    "duration": 23,
    "start_time": "2022-01-07T03:29:07.946Z"
   },
   {
    "duration": 25,
    "start_time": "2022-01-07T03:29:08.119Z"
   },
   {
    "duration": 23,
    "start_time": "2022-01-07T03:29:08.276Z"
   },
   {
    "duration": 22,
    "start_time": "2022-01-07T03:29:08.449Z"
   },
   {
    "duration": 9,
    "start_time": "2022-01-07T03:29:08.972Z"
   },
   {
    "duration": 16,
    "start_time": "2022-01-07T03:29:09.286Z"
   },
   {
    "duration": 9,
    "start_time": "2022-01-07T03:29:09.423Z"
   },
   {
    "duration": 10,
    "start_time": "2022-01-07T03:29:09.631Z"
   },
   {
    "duration": 13,
    "start_time": "2022-01-07T03:29:11.667Z"
   },
   {
    "duration": 195,
    "start_time": "2022-01-07T03:29:11.837Z"
   },
   {
    "duration": 187,
    "start_time": "2022-01-07T03:29:12.795Z"
   },
   {
    "duration": 291,
    "start_time": "2022-01-07T03:29:14.781Z"
   },
   {
    "duration": 7,
    "start_time": "2022-01-07T03:29:17.912Z"
   },
   {
    "duration": 190,
    "start_time": "2022-01-07T03:29:18.071Z"
   },
   {
    "duration": 100,
    "start_time": "2022-01-07T03:29:21.325Z"
   },
   {
    "duration": 236,
    "start_time": "2022-01-07T03:29:22.505Z"
   },
   {
    "duration": 4,
    "start_time": "2022-01-07T03:29:47.803Z"
   },
   {
    "duration": 319,
    "start_time": "2022-01-07T03:31:26.353Z"
   },
   {
    "duration": 5,
    "start_time": "2022-01-07T03:31:27.230Z"
   },
   {
    "duration": 107,
    "start_time": "2022-01-07T03:31:42.834Z"
   },
   {
    "duration": 9,
    "start_time": "2022-01-07T03:31:43.370Z"
   },
   {
    "duration": 10,
    "start_time": "2022-01-07T03:31:47.281Z"
   },
   {
    "duration": 11,
    "start_time": "2022-01-07T03:33:34.936Z"
   },
   {
    "duration": 11,
    "start_time": "2022-01-07T03:33:57.647Z"
   },
   {
    "duration": 9,
    "start_time": "2022-01-07T03:33:57.848Z"
   },
   {
    "duration": 10,
    "start_time": "2022-01-07T03:34:00.877Z"
   },
   {
    "duration": 13,
    "start_time": "2022-01-07T03:34:25.954Z"
   },
   {
    "duration": 10,
    "start_time": "2022-01-07T03:37:07.538Z"
   },
   {
    "duration": 9,
    "start_time": "2022-01-07T03:37:14.636Z"
   },
   {
    "duration": 1109,
    "start_time": "2022-01-07T10:20:49.717Z"
   },
   {
    "duration": 145,
    "start_time": "2022-01-07T10:20:50.828Z"
   },
   {
    "duration": 14,
    "start_time": "2022-01-07T10:20:50.977Z"
   },
   {
    "duration": 26,
    "start_time": "2022-01-07T10:20:50.993Z"
   },
   {
    "duration": 16,
    "start_time": "2022-01-07T10:20:51.021Z"
   },
   {
    "duration": 6,
    "start_time": "2022-01-07T10:20:51.039Z"
   },
   {
    "duration": 6,
    "start_time": "2022-01-07T10:20:51.048Z"
   },
   {
    "duration": 7,
    "start_time": "2022-01-07T10:20:51.092Z"
   },
   {
    "duration": 5,
    "start_time": "2022-01-07T10:20:51.101Z"
   },
   {
    "duration": 6,
    "start_time": "2022-01-07T10:20:51.108Z"
   },
   {
    "duration": 10,
    "start_time": "2022-01-07T10:20:51.115Z"
   },
   {
    "duration": 4,
    "start_time": "2022-01-07T10:20:51.127Z"
   },
   {
    "duration": 7,
    "start_time": "2022-01-07T10:20:51.133Z"
   },
   {
    "duration": 4,
    "start_time": "2022-01-07T10:20:51.142Z"
   },
   {
    "duration": 45,
    "start_time": "2022-01-07T10:20:51.148Z"
   },
   {
    "duration": 7,
    "start_time": "2022-01-07T10:20:51.195Z"
   },
   {
    "duration": 5,
    "start_time": "2022-01-07T10:20:51.203Z"
   },
   {
    "duration": 14,
    "start_time": "2022-01-07T10:20:51.210Z"
   },
   {
    "duration": 7,
    "start_time": "2022-01-07T10:20:51.226Z"
   },
   {
    "duration": 58,
    "start_time": "2022-01-07T10:20:51.235Z"
   },
   {
    "duration": 4,
    "start_time": "2022-01-07T10:20:51.294Z"
   },
   {
    "duration": 6,
    "start_time": "2022-01-07T10:20:51.302Z"
   },
   {
    "duration": 4,
    "start_time": "2022-01-07T10:20:51.310Z"
   },
   {
    "duration": 13,
    "start_time": "2022-01-07T10:20:51.316Z"
   },
   {
    "duration": 9,
    "start_time": "2022-01-07T10:20:51.331Z"
   },
   {
    "duration": 8,
    "start_time": "2022-01-07T10:20:51.342Z"
   },
   {
    "duration": 48,
    "start_time": "2022-01-07T10:20:51.352Z"
   },
   {
    "duration": 23,
    "start_time": "2022-01-07T10:20:51.402Z"
   },
   {
    "duration": 22,
    "start_time": "2022-01-07T10:20:51.427Z"
   },
   {
    "duration": 53,
    "start_time": "2022-01-07T10:20:51.451Z"
   },
   {
    "duration": 22,
    "start_time": "2022-01-07T10:20:51.505Z"
   },
   {
    "duration": 18,
    "start_time": "2022-01-07T10:20:51.529Z"
   },
   {
    "duration": 8,
    "start_time": "2022-01-07T10:20:51.549Z"
   },
   {
    "duration": 40,
    "start_time": "2022-01-07T10:20:51.558Z"
   },
   {
    "duration": 7,
    "start_time": "2022-01-07T10:20:51.600Z"
   },
   {
    "duration": 10,
    "start_time": "2022-01-07T10:20:51.609Z"
   },
   {
    "duration": 13,
    "start_time": "2022-01-07T10:20:51.621Z"
   },
   {
    "duration": 243,
    "start_time": "2022-01-07T10:20:51.635Z"
   },
   {
    "duration": 221,
    "start_time": "2022-01-07T10:20:51.879Z"
   },
   {
    "duration": 340,
    "start_time": "2022-01-07T10:20:52.101Z"
   },
   {
    "duration": 7,
    "start_time": "2022-01-07T10:20:52.442Z"
   },
   {
    "duration": 220,
    "start_time": "2022-01-07T10:20:52.450Z"
   },
   {
    "duration": 129,
    "start_time": "2022-01-07T10:20:52.672Z"
   },
   {
    "duration": 298,
    "start_time": "2022-01-07T10:20:52.802Z"
   },
   {
    "duration": 4,
    "start_time": "2022-01-07T10:20:53.102Z"
   },
   {
    "duration": 305,
    "start_time": "2022-01-07T10:20:53.108Z"
   },
   {
    "duration": 5,
    "start_time": "2022-01-07T10:20:53.415Z"
   },
   {
    "duration": 127,
    "start_time": "2022-01-07T10:20:53.421Z"
   },
   {
    "duration": 9,
    "start_time": "2022-01-07T10:20:53.549Z"
   },
   {
    "duration": 10,
    "start_time": "2022-01-07T10:20:53.560Z"
   },
   {
    "duration": 83,
    "start_time": "2022-01-07T10:20:53.572Z"
   },
   {
    "duration": 10,
    "start_time": "2022-01-07T10:20:53.657Z"
   },
   {
    "duration": 31,
    "start_time": "2022-01-07T10:20:53.669Z"
   },
   {
    "duration": 8,
    "start_time": "2022-01-07T10:20:53.702Z"
   },
   {
    "duration": 18,
    "start_time": "2022-01-07T10:20:53.712Z"
   },
   {
    "duration": 759,
    "start_time": "2022-01-07T10:52:39.078Z"
   },
   {
    "duration": 13,
    "start_time": "2022-01-07T10:53:14.689Z"
   },
   {
    "duration": 6,
    "start_time": "2022-01-07T10:53:31.065Z"
   },
   {
    "duration": 7,
    "start_time": "2022-01-07T10:55:13.375Z"
   },
   {
    "duration": 7,
    "start_time": "2022-01-07T10:55:17.481Z"
   },
   {
    "duration": 13,
    "start_time": "2022-01-07T10:55:36.501Z"
   },
   {
    "duration": 207,
    "start_time": "2022-01-07T10:55:37.208Z"
   },
   {
    "duration": 661,
    "start_time": "2022-01-07T10:55:41.724Z"
   },
   {
    "duration": 12,
    "start_time": "2022-01-07T10:56:43.265Z"
   },
   {
    "duration": 707,
    "start_time": "2022-01-07T10:57:05.794Z"
   },
   {
    "duration": 44,
    "start_time": "2022-01-07T10:59:53.488Z"
   },
   {
    "duration": 1046,
    "start_time": "2022-01-07T11:00:50.176Z"
   },
   {
    "duration": 4784,
    "start_time": "2022-01-07T11:01:09.669Z"
   },
   {
    "duration": 44,
    "start_time": "2022-01-07T11:01:36.622Z"
   },
   {
    "duration": 39,
    "start_time": "2022-01-07T11:03:08.959Z"
   },
   {
    "duration": 5222,
    "start_time": "2022-01-07T11:27:11.484Z"
   },
   {
    "duration": 547,
    "start_time": "2022-01-07T11:27:48.461Z"
   },
   {
    "duration": 16,
    "start_time": "2022-01-07T11:28:39.446Z"
   },
   {
    "duration": 4852,
    "start_time": "2022-01-07T11:28:40.069Z"
   },
   {
    "duration": 23,
    "start_time": "2022-01-07T11:29:03.905Z"
   },
   {
    "duration": 461,
    "start_time": "2022-01-07T11:29:14.815Z"
   },
   {
    "duration": 319,
    "start_time": "2022-01-07T11:29:38.530Z"
   },
   {
    "duration": 20,
    "start_time": "2022-01-07T11:30:51.036Z"
   },
   {
    "duration": 407,
    "start_time": "2022-01-07T11:31:13.077Z"
   },
   {
    "duration": 47,
    "start_time": "2022-01-07T11:31:28.218Z"
   },
   {
    "duration": 19,
    "start_time": "2022-01-07T11:31:28.694Z"
   },
   {
    "duration": 383,
    "start_time": "2022-01-07T11:31:29.245Z"
   },
   {
    "duration": 225,
    "start_time": "2022-01-07T11:31:55.300Z"
   },
   {
    "duration": 1092,
    "start_time": "2022-01-07T11:32:27.296Z"
   },
   {
    "duration": 60,
    "start_time": "2022-01-07T11:32:28.390Z"
   },
   {
    "duration": 16,
    "start_time": "2022-01-07T11:32:28.455Z"
   },
   {
    "duration": 27,
    "start_time": "2022-01-07T11:32:28.473Z"
   },
   {
    "duration": 17,
    "start_time": "2022-01-07T11:32:28.502Z"
   },
   {
    "duration": 6,
    "start_time": "2022-01-07T11:32:28.521Z"
   },
   {
    "duration": 6,
    "start_time": "2022-01-07T11:32:28.529Z"
   },
   {
    "duration": 5,
    "start_time": "2022-01-07T11:32:28.537Z"
   },
   {
    "duration": 5,
    "start_time": "2022-01-07T11:32:28.544Z"
   },
   {
    "duration": 47,
    "start_time": "2022-01-07T11:32:28.550Z"
   },
   {
    "duration": 9,
    "start_time": "2022-01-07T11:32:28.599Z"
   },
   {
    "duration": 6,
    "start_time": "2022-01-07T11:32:28.610Z"
   },
   {
    "duration": 8,
    "start_time": "2022-01-07T11:32:28.617Z"
   },
   {
    "duration": 5,
    "start_time": "2022-01-07T11:32:28.626Z"
   },
   {
    "duration": 7,
    "start_time": "2022-01-07T11:32:28.632Z"
   },
   {
    "duration": 7,
    "start_time": "2022-01-07T11:32:28.641Z"
   },
   {
    "duration": 42,
    "start_time": "2022-01-07T11:32:28.650Z"
   },
   {
    "duration": 14,
    "start_time": "2022-01-07T11:32:28.694Z"
   },
   {
    "duration": 9,
    "start_time": "2022-01-07T11:32:28.710Z"
   },
   {
    "duration": 16,
    "start_time": "2022-01-07T11:32:28.720Z"
   },
   {
    "duration": 4,
    "start_time": "2022-01-07T11:32:28.738Z"
   },
   {
    "duration": 6,
    "start_time": "2022-01-07T11:32:28.791Z"
   },
   {
    "duration": 4,
    "start_time": "2022-01-07T11:32:28.800Z"
   },
   {
    "duration": 7,
    "start_time": "2022-01-07T11:32:28.806Z"
   },
   {
    "duration": 8,
    "start_time": "2022-01-07T11:32:28.815Z"
   },
   {
    "duration": 9,
    "start_time": "2022-01-07T11:32:28.825Z"
   },
   {
    "duration": 16,
    "start_time": "2022-01-07T11:32:28.835Z"
   },
   {
    "duration": 59,
    "start_time": "2022-01-07T11:32:28.853Z"
   },
   {
    "duration": 21,
    "start_time": "2022-01-07T11:32:28.914Z"
   },
   {
    "duration": 20,
    "start_time": "2022-01-07T11:32:28.936Z"
   },
   {
    "duration": 43,
    "start_time": "2022-01-07T11:32:28.957Z"
   },
   {
    "duration": 18,
    "start_time": "2022-01-07T11:32:29.002Z"
   },
   {
    "duration": 7,
    "start_time": "2022-01-07T11:32:29.022Z"
   },
   {
    "duration": 16,
    "start_time": "2022-01-07T11:32:29.031Z"
   },
   {
    "duration": 9,
    "start_time": "2022-01-07T11:32:29.049Z"
   },
   {
    "duration": 9,
    "start_time": "2022-01-07T11:32:29.092Z"
   },
   {
    "duration": 12,
    "start_time": "2022-01-07T11:32:29.103Z"
   },
   {
    "duration": 9,
    "start_time": "2022-01-07T11:32:29.117Z"
   },
   {
    "duration": 424,
    "start_time": "2022-01-07T11:32:29.128Z"
   },
   {
    "duration": 240,
    "start_time": "2022-01-07T11:32:29.554Z"
   },
   {
    "duration": 4698,
    "start_time": "2022-01-07T11:32:29.795Z"
   },
   {
    "duration": 684,
    "start_time": "2022-01-07T11:32:33.811Z"
   },
   {
    "duration": 682,
    "start_time": "2022-01-07T11:32:33.815Z"
   },
   {
    "duration": 676,
    "start_time": "2022-01-07T11:32:33.822Z"
   },
   {
    "duration": 674,
    "start_time": "2022-01-07T11:32:33.825Z"
   },
   {
    "duration": 672,
    "start_time": "2022-01-07T11:32:33.828Z"
   },
   {
    "duration": 671,
    "start_time": "2022-01-07T11:32:33.830Z"
   },
   {
    "duration": 670,
    "start_time": "2022-01-07T11:32:33.832Z"
   },
   {
    "duration": 668,
    "start_time": "2022-01-07T11:32:33.835Z"
   },
   {
    "duration": 666,
    "start_time": "2022-01-07T11:32:33.837Z"
   },
   {
    "duration": 666,
    "start_time": "2022-01-07T11:32:33.839Z"
   },
   {
    "duration": 663,
    "start_time": "2022-01-07T11:32:33.842Z"
   },
   {
    "duration": 663,
    "start_time": "2022-01-07T11:32:33.844Z"
   },
   {
    "duration": 662,
    "start_time": "2022-01-07T11:32:33.846Z"
   },
   {
    "duration": 643,
    "start_time": "2022-01-07T11:32:33.866Z"
   },
   {
    "duration": 641,
    "start_time": "2022-01-07T11:32:33.869Z"
   },
   {
    "duration": 640,
    "start_time": "2022-01-07T11:32:33.871Z"
   },
   {
    "duration": 639,
    "start_time": "2022-01-07T11:32:33.873Z"
   },
   {
    "duration": 638,
    "start_time": "2022-01-07T11:32:33.875Z"
   },
   {
    "duration": 359,
    "start_time": "2022-01-07T11:33:01.947Z"
   },
   {
    "duration": 226,
    "start_time": "2022-01-07T11:33:03.693Z"
   },
   {
    "duration": 4100,
    "start_time": "2022-01-07T11:33:15.108Z"
   },
   {
    "duration": 213,
    "start_time": "2022-01-07T11:35:46.799Z"
   },
   {
    "duration": 217,
    "start_time": "2022-01-07T11:36:08.883Z"
   },
   {
    "duration": 1619,
    "start_time": "2022-01-07T18:56:20.676Z"
   },
   {
    "duration": 70,
    "start_time": "2022-01-07T18:56:22.298Z"
   },
   {
    "duration": 22,
    "start_time": "2022-01-07T18:56:22.371Z"
   },
   {
    "duration": 39,
    "start_time": "2022-01-07T18:56:22.395Z"
   },
   {
    "duration": 43,
    "start_time": "2022-01-07T18:56:22.459Z"
   },
   {
    "duration": 9,
    "start_time": "2022-01-07T18:56:22.505Z"
   },
   {
    "duration": 11,
    "start_time": "2022-01-07T18:56:22.516Z"
   },
   {
    "duration": 11,
    "start_time": "2022-01-07T18:56:22.561Z"
   },
   {
    "duration": 9,
    "start_time": "2022-01-07T18:56:22.576Z"
   },
   {
    "duration": 6,
    "start_time": "2022-01-07T18:56:22.588Z"
   },
   {
    "duration": 10,
    "start_time": "2022-01-07T18:56:22.596Z"
   },
   {
    "duration": 52,
    "start_time": "2022-01-07T18:56:22.609Z"
   },
   {
    "duration": 12,
    "start_time": "2022-01-07T18:56:22.664Z"
   },
   {
    "duration": 9,
    "start_time": "2022-01-07T18:56:22.678Z"
   },
   {
    "duration": 8,
    "start_time": "2022-01-07T18:56:22.689Z"
   },
   {
    "duration": 9,
    "start_time": "2022-01-07T18:56:22.699Z"
   },
   {
    "duration": 6,
    "start_time": "2022-01-07T18:56:22.710Z"
   },
   {
    "duration": 62,
    "start_time": "2022-01-07T18:56:22.719Z"
   },
   {
    "duration": 11,
    "start_time": "2022-01-07T18:56:22.785Z"
   },
   {
    "duration": 20,
    "start_time": "2022-01-07T18:56:22.798Z"
   },
   {
    "duration": 8,
    "start_time": "2022-01-07T18:56:22.859Z"
   },
   {
    "duration": 13,
    "start_time": "2022-01-07T18:56:22.869Z"
   },
   {
    "duration": 6,
    "start_time": "2022-01-07T18:56:22.890Z"
   },
   {
    "duration": 13,
    "start_time": "2022-01-07T18:56:22.900Z"
   },
   {
    "duration": 16,
    "start_time": "2022-01-07T18:56:22.961Z"
   },
   {
    "duration": 13,
    "start_time": "2022-01-07T18:56:22.980Z"
   },
   {
    "duration": 19,
    "start_time": "2022-01-07T18:56:22.995Z"
   },
   {
    "duration": 73,
    "start_time": "2022-01-07T18:56:23.016Z"
   },
   {
    "duration": 32,
    "start_time": "2022-01-07T18:56:23.091Z"
   },
   {
    "duration": 60,
    "start_time": "2022-01-07T18:56:23.125Z"
   },
   {
    "duration": 29,
    "start_time": "2022-01-07T18:56:23.187Z"
   },
   {
    "duration": 56,
    "start_time": "2022-01-07T18:56:23.219Z"
   },
   {
    "duration": 11,
    "start_time": "2022-01-07T18:56:23.278Z"
   },
   {
    "duration": 29,
    "start_time": "2022-01-07T18:56:23.291Z"
   },
   {
    "duration": 13,
    "start_time": "2022-01-07T18:56:23.322Z"
   },
   {
    "duration": 16,
    "start_time": "2022-01-07T18:56:23.359Z"
   },
   {
    "duration": 537,
    "start_time": "2022-01-07T18:56:23.377Z"
   },
   {
    "duration": -1637,
    "start_time": "2022-01-07T18:56:25.553Z"
   },
   {
    "duration": -1700,
    "start_time": "2022-01-07T18:56:25.618Z"
   },
   {
    "duration": -1707,
    "start_time": "2022-01-07T18:56:25.626Z"
   },
   {
    "duration": -1711,
    "start_time": "2022-01-07T18:56:25.632Z"
   },
   {
    "duration": -1716,
    "start_time": "2022-01-07T18:56:25.638Z"
   },
   {
    "duration": -1726,
    "start_time": "2022-01-07T18:56:25.649Z"
   },
   {
    "duration": -1732,
    "start_time": "2022-01-07T18:56:25.656Z"
   },
   {
    "duration": -1736,
    "start_time": "2022-01-07T18:56:25.662Z"
   },
   {
    "duration": -1741,
    "start_time": "2022-01-07T18:56:25.668Z"
   },
   {
    "duration": -1746,
    "start_time": "2022-01-07T18:56:25.674Z"
   },
   {
    "duration": -1752,
    "start_time": "2022-01-07T18:56:25.681Z"
   },
   {
    "duration": -1756,
    "start_time": "2022-01-07T18:56:25.687Z"
   },
   {
    "duration": -1761,
    "start_time": "2022-01-07T18:56:25.693Z"
   },
   {
    "duration": -1765,
    "start_time": "2022-01-07T18:56:25.699Z"
   },
   {
    "duration": -1772,
    "start_time": "2022-01-07T18:56:25.707Z"
   },
   {
    "duration": -1776,
    "start_time": "2022-01-07T18:56:25.712Z"
   },
   {
    "duration": -1803,
    "start_time": "2022-01-07T18:56:25.740Z"
   },
   {
    "duration": -1809,
    "start_time": "2022-01-07T18:56:25.747Z"
   },
   {
    "duration": -1816,
    "start_time": "2022-01-07T18:56:25.755Z"
   },
   {
    "duration": -1823,
    "start_time": "2022-01-07T18:56:25.764Z"
   },
   {
    "duration": -1830,
    "start_time": "2022-01-07T18:56:25.772Z"
   },
   {
    "duration": -1835,
    "start_time": "2022-01-07T18:56:25.778Z"
   },
   {
    "duration": -1840,
    "start_time": "2022-01-07T18:56:25.784Z"
   },
   {
    "duration": 47,
    "start_time": "2022-01-07T18:56:28.824Z"
   },
   {
    "duration": 25,
    "start_time": "2022-01-07T18:56:29.311Z"
   },
   {
    "duration": 1130,
    "start_time": "2022-01-07T18:56:30.195Z"
   },
   {
    "duration": 15,
    "start_time": "2022-01-07T18:57:25.431Z"
   },
   {
    "duration": 907,
    "start_time": "2022-01-07T18:58:44.836Z"
   },
   {
    "duration": 1128,
    "start_time": "2022-01-07T19:00:56.225Z"
   },
   {
    "duration": 1386,
    "start_time": "2022-01-07T19:03:45.652Z"
   },
   {
    "duration": 1106,
    "start_time": "2022-01-07T19:04:08.826Z"
   },
   {
    "duration": 10293,
    "start_time": "2022-01-07T19:04:25.628Z"
   },
   {
    "duration": 10744,
    "start_time": "2022-01-07T19:04:57.696Z"
   },
   {
    "duration": 47,
    "start_time": "2022-01-07T19:05:45.924Z"
   },
   {
    "duration": 26,
    "start_time": "2022-01-07T19:05:52.157Z"
   },
   {
    "duration": 1004,
    "start_time": "2022-01-07T19:05:52.799Z"
   },
   {
    "duration": 1161,
    "start_time": "2022-01-07T19:06:02.711Z"
   },
   {
    "duration": 17,
    "start_time": "2022-01-07T19:06:19.123Z"
   },
   {
    "duration": 351,
    "start_time": "2022-01-07T19:06:20.058Z"
   },
   {
    "duration": 348,
    "start_time": "2022-01-07T19:06:30.723Z"
   },
   {
    "duration": 1000,
    "start_time": "2022-01-07T19:07:13.424Z"
   },
   {
    "duration": 1034,
    "start_time": "2022-01-07T19:07:20.187Z"
   },
   {
    "duration": 1348,
    "start_time": "2022-01-07T19:08:11.321Z"
   },
   {
    "duration": 1369,
    "start_time": "2022-01-07T19:09:09.136Z"
   },
   {
    "duration": 1440,
    "start_time": "2022-01-07T19:09:14.097Z"
   },
   {
    "duration": 1416,
    "start_time": "2022-01-07T19:09:43.202Z"
   },
   {
    "duration": 1231,
    "start_time": "2022-01-07T19:10:05.095Z"
   },
   {
    "duration": 1051,
    "start_time": "2022-01-07T19:10:16.260Z"
   },
   {
    "duration": 1165,
    "start_time": "2022-01-07T19:10:30.845Z"
   },
   {
    "duration": 991,
    "start_time": "2022-01-07T19:11:24.114Z"
   },
   {
    "duration": 409,
    "start_time": "2022-01-07T19:11:29.519Z"
   },
   {
    "duration": 16,
    "start_time": "2022-01-07T19:11:38.242Z"
   },
   {
    "duration": 378,
    "start_time": "2022-01-07T19:11:38.749Z"
   },
   {
    "duration": 313,
    "start_time": "2022-01-07T19:12:04.399Z"
   },
   {
    "duration": 321,
    "start_time": "2022-01-07T19:12:10.699Z"
   },
   {
    "duration": 319,
    "start_time": "2022-01-07T19:21:54.320Z"
   },
   {
    "duration": 10909,
    "start_time": "2022-01-07T19:24:43.137Z"
   },
   {
    "duration": 1000,
    "start_time": "2022-01-07T19:25:36.429Z"
   },
   {
    "duration": 319,
    "start_time": "2022-01-07T19:25:51.965Z"
   },
   {
    "duration": 333,
    "start_time": "2022-01-07T19:25:54.845Z"
   },
   {
    "duration": 930,
    "start_time": "2022-01-07T19:29:09.236Z"
   },
   {
    "duration": -263,
    "start_time": "2022-01-07T19:29:10.435Z"
   },
   {
    "duration": 1543,
    "start_time": "2022-01-07T19:29:10.676Z"
   },
   {
    "duration": 92,
    "start_time": "2022-01-07T19:29:12.222Z"
   },
   {
    "duration": 20,
    "start_time": "2022-01-07T19:29:12.317Z"
   },
   {
    "duration": 40,
    "start_time": "2022-01-07T19:29:12.340Z"
   },
   {
    "duration": 35,
    "start_time": "2022-01-07T19:29:12.383Z"
   },
   {
    "duration": 7,
    "start_time": "2022-01-07T19:29:12.421Z"
   },
   {
    "duration": 10,
    "start_time": "2022-01-07T19:29:12.459Z"
   },
   {
    "duration": 9,
    "start_time": "2022-01-07T19:29:12.473Z"
   },
   {
    "duration": 6,
    "start_time": "2022-01-07T19:29:12.485Z"
   },
   {
    "duration": 6,
    "start_time": "2022-01-07T19:29:12.494Z"
   },
   {
    "duration": 64,
    "start_time": "2022-01-07T19:29:12.503Z"
   },
   {
    "duration": 7,
    "start_time": "2022-01-07T19:29:12.569Z"
   },
   {
    "duration": 10,
    "start_time": "2022-01-07T19:29:12.578Z"
   },
   {
    "duration": 4,
    "start_time": "2022-01-07T19:29:12.590Z"
   },
   {
    "duration": 7,
    "start_time": "2022-01-07T19:29:12.596Z"
   },
   {
    "duration": 7,
    "start_time": "2022-01-07T19:29:12.606Z"
   },
   {
    "duration": 6,
    "start_time": "2022-01-07T19:29:12.659Z"
   },
   {
    "duration": 22,
    "start_time": "2022-01-07T19:29:12.668Z"
   },
   {
    "duration": 11,
    "start_time": "2022-01-07T19:29:12.692Z"
   },
   {
    "duration": 62,
    "start_time": "2022-01-07T19:29:12.705Z"
   },
   {
    "duration": 6,
    "start_time": "2022-01-07T19:29:12.769Z"
   },
   {
    "duration": 18,
    "start_time": "2022-01-07T19:29:12.777Z"
   },
   {
    "duration": 6,
    "start_time": "2022-01-07T19:29:12.801Z"
   },
   {
    "duration": 11,
    "start_time": "2022-01-07T19:29:12.810Z"
   },
   {
    "duration": 45,
    "start_time": "2022-01-07T19:29:12.823Z"
   },
   {
    "duration": 19,
    "start_time": "2022-01-07T19:29:12.871Z"
   },
   {
    "duration": 13,
    "start_time": "2022-01-07T19:29:12.892Z"
   },
   {
    "duration": 52,
    "start_time": "2022-01-07T19:29:12.907Z"
   },
   {
    "duration": 16,
    "start_time": "2022-01-07T19:29:12.961Z"
   },
   {
    "duration": 11,
    "start_time": "2022-01-07T19:29:12.979Z"
   },
   {
    "duration": 1436,
    "start_time": "2022-01-07T19:29:12.992Z"
   },
   {
    "duration": -92,
    "start_time": "2022-01-07T19:29:14.523Z"
   },
   {
    "duration": -98,
    "start_time": "2022-01-07T19:29:14.531Z"
   },
   {
    "duration": -104,
    "start_time": "2022-01-07T19:29:14.538Z"
   },
   {
    "duration": -299,
    "start_time": "2022-01-07T19:29:14.734Z"
   },
   {
    "duration": -303,
    "start_time": "2022-01-07T19:29:14.740Z"
   },
   {
    "duration": -308,
    "start_time": "2022-01-07T19:29:14.746Z"
   },
   {
    "duration": -311,
    "start_time": "2022-01-07T19:29:14.751Z"
   },
   {
    "duration": -315,
    "start_time": "2022-01-07T19:29:14.757Z"
   },
   {
    "duration": -320,
    "start_time": "2022-01-07T19:29:14.763Z"
   },
   {
    "duration": -324,
    "start_time": "2022-01-07T19:29:14.769Z"
   },
   {
    "duration": -341,
    "start_time": "2022-01-07T19:29:14.787Z"
   },
   {
    "duration": -347,
    "start_time": "2022-01-07T19:29:14.795Z"
   },
   {
    "duration": -352,
    "start_time": "2022-01-07T19:29:14.801Z"
   },
   {
    "duration": -356,
    "start_time": "2022-01-07T19:29:14.807Z"
   },
   {
    "duration": -360,
    "start_time": "2022-01-07T19:29:14.812Z"
   },
   {
    "duration": -364,
    "start_time": "2022-01-07T19:29:14.818Z"
   },
   {
    "duration": -370,
    "start_time": "2022-01-07T19:29:14.825Z"
   },
   {
    "duration": -377,
    "start_time": "2022-01-07T19:29:14.833Z"
   },
   {
    "duration": 1164,
    "start_time": "2022-01-07T19:29:45.441Z"
   },
   {
    "duration": 340,
    "start_time": "2022-01-07T19:29:51.362Z"
   },
   {
    "duration": 326,
    "start_time": "2022-01-07T19:30:00.729Z"
   },
   {
    "duration": 345,
    "start_time": "2022-01-07T19:30:06.914Z"
   },
   {
    "duration": 428,
    "start_time": "2022-01-07T19:31:20.052Z"
   },
   {
    "duration": 10,
    "start_time": "2022-01-07T19:33:48.272Z"
   },
   {
    "duration": 345,
    "start_time": "2022-01-07T19:33:48.744Z"
   },
   {
    "duration": 319,
    "start_time": "2022-01-07T19:34:09.691Z"
   },
   {
    "duration": 489,
    "start_time": "2022-01-07T19:34:14.473Z"
   },
   {
    "duration": 340,
    "start_time": "2022-01-07T19:34:18.596Z"
   },
   {
    "duration": 319,
    "start_time": "2022-01-07T19:34:27.367Z"
   },
   {
    "duration": 224,
    "start_time": "2022-01-07T19:34:46.068Z"
   },
   {
    "duration": 453,
    "start_time": "2022-01-07T19:34:46.473Z"
   },
   {
    "duration": 207,
    "start_time": "2022-01-07T19:35:09.615Z"
   },
   {
    "duration": 373,
    "start_time": "2022-01-07T19:35:15.974Z"
   },
   {
    "duration": 8,
    "start_time": "2022-01-07T19:35:50.065Z"
   },
   {
    "duration": 457,
    "start_time": "2022-01-07T19:36:55.136Z"
   },
   {
    "duration": 7,
    "start_time": "2022-01-07T19:37:35.275Z"
   },
   {
    "duration": 701,
    "start_time": "2022-01-07T19:37:42.283Z"
   },
   {
    "duration": 387,
    "start_time": "2022-01-07T19:37:52.790Z"
   },
   {
    "duration": 6,
    "start_time": "2022-01-07T19:37:57.863Z"
   },
   {
    "duration": 6,
    "start_time": "2022-01-07T19:38:01.578Z"
   },
   {
    "duration": 238,
    "start_time": "2022-01-07T19:38:51.123Z"
   },
   {
    "duration": 13,
    "start_time": "2022-01-07T19:38:52.247Z"
   },
   {
    "duration": 14,
    "start_time": "2022-01-07T19:38:53.857Z"
   },
   {
    "duration": 206,
    "start_time": "2022-01-07T19:39:28.497Z"
   },
   {
    "duration": 11,
    "start_time": "2022-01-07T19:39:29.654Z"
   },
   {
    "duration": 10,
    "start_time": "2022-01-07T19:39:32.507Z"
   },
   {
    "duration": 16,
    "start_time": "2022-01-07T19:40:07.611Z"
   },
   {
    "duration": 15,
    "start_time": "2022-01-07T19:40:55.031Z"
   },
   {
    "duration": 17,
    "start_time": "2022-01-07T19:40:55.605Z"
   },
   {
    "duration": 11,
    "start_time": "2022-01-07T19:41:03.576Z"
   },
   {
    "duration": 14,
    "start_time": "2022-01-07T19:41:39.750Z"
   },
   {
    "duration": 14,
    "start_time": "2022-01-07T19:41:48.312Z"
   },
   {
    "duration": 11,
    "start_time": "2022-01-07T19:41:49.392Z"
   },
   {
    "duration": 22,
    "start_time": "2022-01-07T19:42:55.959Z"
   },
   {
    "duration": 5,
    "start_time": "2022-01-07T19:46:58.480Z"
   },
   {
    "duration": 89,
    "start_time": "2022-01-07T19:46:58.487Z"
   },
   {
    "duration": 16,
    "start_time": "2022-01-07T19:46:58.578Z"
   },
   {
    "duration": 38,
    "start_time": "2022-01-07T19:46:58.596Z"
   },
   {
    "duration": 42,
    "start_time": "2022-01-07T19:46:58.636Z"
   },
   {
    "duration": 8,
    "start_time": "2022-01-07T19:46:58.680Z"
   },
   {
    "duration": 9,
    "start_time": "2022-01-07T19:46:58.691Z"
   },
   {
    "duration": 9,
    "start_time": "2022-01-07T19:46:58.702Z"
   },
   {
    "duration": 7,
    "start_time": "2022-01-07T19:46:58.760Z"
   },
   {
    "duration": 7,
    "start_time": "2022-01-07T19:46:58.769Z"
   },
   {
    "duration": 10,
    "start_time": "2022-01-07T19:46:58.778Z"
   },
   {
    "duration": 8,
    "start_time": "2022-01-07T19:46:58.791Z"
   },
   {
    "duration": 9,
    "start_time": "2022-01-07T19:46:58.801Z"
   },
   {
    "duration": 52,
    "start_time": "2022-01-07T19:46:58.812Z"
   },
   {
    "duration": 8,
    "start_time": "2022-01-07T19:46:58.866Z"
   },
   {
    "duration": 9,
    "start_time": "2022-01-07T19:46:58.877Z"
   },
   {
    "duration": 12,
    "start_time": "2022-01-07T19:46:58.889Z"
   },
   {
    "duration": 18,
    "start_time": "2022-01-07T19:46:58.903Z"
   },
   {
    "duration": 11,
    "start_time": "2022-01-07T19:46:58.966Z"
   },
   {
    "duration": 22,
    "start_time": "2022-01-07T19:46:58.981Z"
   },
   {
    "duration": 5,
    "start_time": "2022-01-07T19:46:59.006Z"
   },
   {
    "duration": 46,
    "start_time": "2022-01-07T19:46:59.014Z"
   },
   {
    "duration": 5,
    "start_time": "2022-01-07T19:46:59.062Z"
   },
   {
    "duration": 11,
    "start_time": "2022-01-07T19:46:59.069Z"
   },
   {
    "duration": 12,
    "start_time": "2022-01-07T19:46:59.083Z"
   },
   {
    "duration": 61,
    "start_time": "2022-01-07T19:46:59.098Z"
   },
   {
    "duration": 14,
    "start_time": "2022-01-07T19:46:59.162Z"
   },
   {
    "duration": 14,
    "start_time": "2022-01-07T19:46:59.179Z"
   },
   {
    "duration": 16,
    "start_time": "2022-01-07T19:46:59.195Z"
   },
   {
    "duration": 48,
    "start_time": "2022-01-07T19:46:59.213Z"
   },
   {
    "duration": 1036,
    "start_time": "2022-01-07T19:46:59.263Z"
   },
   {
    "duration": 345,
    "start_time": "2022-01-07T19:47:00.302Z"
   },
   {
    "duration": 327,
    "start_time": "2022-01-07T19:47:00.650Z"
   },
   {
    "duration": 493,
    "start_time": "2022-01-07T19:47:00.980Z"
   },
   {
    "duration": 10,
    "start_time": "2022-01-07T19:47:01.476Z"
   },
   {
    "duration": 333,
    "start_time": "2022-01-07T19:47:01.489Z"
   },
   {
    "duration": 192,
    "start_time": "2022-01-07T19:47:01.824Z"
   },
   {
    "duration": 413,
    "start_time": "2022-01-07T19:47:02.018Z"
   },
   {
    "duration": 6,
    "start_time": "2022-01-07T19:47:02.434Z"
   },
   {
    "duration": 421,
    "start_time": "2022-01-07T19:47:02.459Z"
   },
   {
    "duration": 6,
    "start_time": "2022-01-07T19:47:02.882Z"
   },
   {
    "duration": 219,
    "start_time": "2022-01-07T19:47:02.891Z"
   },
   {
    "duration": 13,
    "start_time": "2022-01-07T19:47:03.113Z"
   },
   {
    "duration": 34,
    "start_time": "2022-01-07T19:47:03.128Z"
   },
   {
    "duration": 16,
    "start_time": "2022-01-07T19:47:03.165Z"
   },
   {
    "duration": 16,
    "start_time": "2022-01-07T19:47:03.184Z"
   },
   {
    "duration": 14,
    "start_time": "2022-01-07T19:47:03.202Z"
   },
   {
    "duration": 10,
    "start_time": "2022-01-07T19:47:03.260Z"
   },
   {
    "duration": 20,
    "start_time": "2022-01-07T19:47:03.273Z"
   },
   {
    "duration": 1162,
    "start_time": "2022-01-15T03:51:45.487Z"
   },
   {
    "duration": 165,
    "start_time": "2022-01-15T03:51:46.651Z"
   },
   {
    "duration": 13,
    "start_time": "2022-01-15T03:51:46.818Z"
   },
   {
    "duration": 24,
    "start_time": "2022-01-15T03:51:46.833Z"
   },
   {
    "duration": 17,
    "start_time": "2022-01-15T03:51:46.859Z"
   },
   {
    "duration": 24,
    "start_time": "2022-01-15T03:51:46.878Z"
   },
   {
    "duration": 11,
    "start_time": "2022-01-15T03:51:46.903Z"
   },
   {
    "duration": 5,
    "start_time": "2022-01-15T03:51:46.917Z"
   },
   {
    "duration": 5,
    "start_time": "2022-01-15T03:51:46.924Z"
   },
   {
    "duration": 6,
    "start_time": "2022-01-15T03:51:46.931Z"
   },
   {
    "duration": 9,
    "start_time": "2022-01-15T03:51:46.939Z"
   },
   {
    "duration": 5,
    "start_time": "2022-01-15T03:51:46.949Z"
   },
   {
    "duration": 8,
    "start_time": "2022-01-15T03:51:46.956Z"
   },
   {
    "duration": 2,
    "start_time": "2022-01-15T03:51:46.999Z"
   },
   {
    "duration": 8,
    "start_time": "2022-01-15T03:51:47.002Z"
   },
   {
    "duration": 7,
    "start_time": "2022-01-15T03:51:47.011Z"
   },
   {
    "duration": 4,
    "start_time": "2022-01-15T03:51:47.020Z"
   },
   {
    "duration": 13,
    "start_time": "2022-01-15T03:51:47.026Z"
   },
   {
    "duration": 7,
    "start_time": "2022-01-15T03:51:47.041Z"
   },
   {
    "duration": 49,
    "start_time": "2022-01-15T03:51:47.050Z"
   },
   {
    "duration": 4,
    "start_time": "2022-01-15T03:51:47.101Z"
   },
   {
    "duration": 7,
    "start_time": "2022-01-15T03:51:47.106Z"
   },
   {
    "duration": 3,
    "start_time": "2022-01-15T03:51:47.117Z"
   },
   {
    "duration": 8,
    "start_time": "2022-01-15T03:51:47.122Z"
   },
   {
    "duration": 10,
    "start_time": "2022-01-15T03:51:47.131Z"
   },
   {
    "duration": 12,
    "start_time": "2022-01-15T03:51:47.142Z"
   },
   {
    "duration": 44,
    "start_time": "2022-01-15T03:51:47.156Z"
   },
   {
    "duration": 8,
    "start_time": "2022-01-15T03:51:47.202Z"
   },
   {
    "duration": 13,
    "start_time": "2022-01-15T03:51:47.212Z"
   },
   {
    "duration": 7,
    "start_time": "2022-01-15T03:51:47.227Z"
   },
   {
    "duration": 625,
    "start_time": "2022-01-15T03:51:47.236Z"
   },
   {
    "duration": 220,
    "start_time": "2022-01-15T03:51:47.862Z"
   },
   {
    "duration": 228,
    "start_time": "2022-01-15T03:51:48.083Z"
   },
   {
    "duration": 328,
    "start_time": "2022-01-15T03:51:48.312Z"
   },
   {
    "duration": 6,
    "start_time": "2022-01-15T03:51:48.641Z"
   },
   {
    "duration": 221,
    "start_time": "2022-01-15T03:51:48.649Z"
   },
   {
    "duration": 128,
    "start_time": "2022-01-15T03:51:48.872Z"
   },
   {
    "duration": 332,
    "start_time": "2022-01-15T03:51:49.001Z"
   },
   {
    "duration": 4,
    "start_time": "2022-01-15T03:51:49.335Z"
   },
   {
    "duration": 339,
    "start_time": "2022-01-15T03:51:49.340Z"
   },
   {
    "duration": 4,
    "start_time": "2022-01-15T03:51:49.680Z"
   },
   {
    "duration": 116,
    "start_time": "2022-01-15T03:51:49.685Z"
   },
   {
    "duration": 7,
    "start_time": "2022-01-15T03:51:49.803Z"
   },
   {
    "duration": 10,
    "start_time": "2022-01-15T03:51:49.812Z"
   },
   {
    "duration": 9,
    "start_time": "2022-01-15T03:51:49.823Z"
   },
   {
    "duration": 7,
    "start_time": "2022-01-15T03:51:49.834Z"
   },
   {
    "duration": 74,
    "start_time": "2022-01-15T03:51:49.843Z"
   },
   {
    "duration": 7,
    "start_time": "2022-01-15T03:51:49.919Z"
   },
   {
    "duration": 12,
    "start_time": "2022-01-15T03:51:49.927Z"
   },
   {
    "duration": 1445,
    "start_time": "2022-01-17T05:30:17.998Z"
   },
   {
    "duration": 112,
    "start_time": "2022-01-17T05:30:19.446Z"
   },
   {
    "duration": 21,
    "start_time": "2022-01-17T05:30:19.561Z"
   },
   {
    "duration": 42,
    "start_time": "2022-01-17T05:30:19.585Z"
   },
   {
    "duration": 56,
    "start_time": "2022-01-17T05:30:19.630Z"
   },
   {
    "duration": 9,
    "start_time": "2022-01-17T05:30:19.688Z"
   },
   {
    "duration": 11,
    "start_time": "2022-01-17T05:30:19.700Z"
   },
   {
    "duration": 53,
    "start_time": "2022-01-17T05:30:19.714Z"
   },
   {
    "duration": 8,
    "start_time": "2022-01-17T05:30:19.771Z"
   },
   {
    "duration": 9,
    "start_time": "2022-01-17T05:30:19.782Z"
   },
   {
    "duration": 15,
    "start_time": "2022-01-17T05:30:19.794Z"
   },
   {
    "duration": 58,
    "start_time": "2022-01-17T05:30:19.811Z"
   },
   {
    "duration": 11,
    "start_time": "2022-01-17T05:30:19.872Z"
   },
   {
    "duration": 6,
    "start_time": "2022-01-17T05:30:19.886Z"
   },
   {
    "duration": 12,
    "start_time": "2022-01-17T05:30:19.895Z"
   },
   {
    "duration": 10,
    "start_time": "2022-01-17T05:30:19.910Z"
   },
   {
    "duration": 48,
    "start_time": "2022-01-17T05:30:19.923Z"
   },
   {
    "duration": 27,
    "start_time": "2022-01-17T05:30:19.973Z"
   },
   {
    "duration": 13,
    "start_time": "2022-01-17T05:30:20.004Z"
   },
   {
    "duration": 57,
    "start_time": "2022-01-17T05:30:20.020Z"
   },
   {
    "duration": 7,
    "start_time": "2022-01-17T05:30:20.080Z"
   },
   {
    "duration": 11,
    "start_time": "2022-01-17T05:30:20.090Z"
   },
   {
    "duration": 7,
    "start_time": "2022-01-17T05:30:20.109Z"
   },
   {
    "duration": 56,
    "start_time": "2022-01-17T05:30:20.119Z"
   },
   {
    "duration": 12,
    "start_time": "2022-01-17T05:30:20.178Z"
   },
   {
    "duration": 23,
    "start_time": "2022-01-17T05:30:20.193Z"
   },
   {
    "duration": 49,
    "start_time": "2022-01-17T05:30:20.218Z"
   },
   {
    "duration": 15,
    "start_time": "2022-01-17T05:30:20.271Z"
   },
   {
    "duration": 29,
    "start_time": "2022-01-17T05:30:20.289Z"
   },
   {
    "duration": 13,
    "start_time": "2022-01-17T05:30:20.321Z"
   },
   {
    "duration": 1034,
    "start_time": "2022-01-17T05:30:20.368Z"
   },
   {
    "duration": 376,
    "start_time": "2022-01-17T05:30:21.405Z"
   },
   {
    "duration": 346,
    "start_time": "2022-01-17T05:30:21.784Z"
   },
   {
    "duration": 467,
    "start_time": "2022-01-17T05:30:22.132Z"
   },
   {
    "duration": 9,
    "start_time": "2022-01-17T05:30:22.602Z"
   },
   {
    "duration": 347,
    "start_time": "2022-01-17T05:30:22.613Z"
   },
   {
    "duration": 223,
    "start_time": "2022-01-17T05:30:22.962Z"
   },
   {
    "duration": 398,
    "start_time": "2022-01-17T05:30:23.187Z"
   },
   {
    "duration": 6,
    "start_time": "2022-01-17T05:30:23.588Z"
   },
   {
    "duration": 423,
    "start_time": "2022-01-17T05:30:23.596Z"
   },
   {
    "duration": 6,
    "start_time": "2022-01-17T05:30:24.022Z"
   },
   {
    "duration": 224,
    "start_time": "2022-01-17T05:30:24.030Z"
   },
   {
    "duration": 20,
    "start_time": "2022-01-17T05:30:24.256Z"
   },
   {
    "duration": 13,
    "start_time": "2022-01-17T05:30:24.279Z"
   },
   {
    "duration": 15,
    "start_time": "2022-01-17T05:30:24.295Z"
   },
   {
    "duration": 14,
    "start_time": "2022-01-17T05:30:24.312Z"
   },
   {
    "duration": 127,
    "start_time": "2022-01-17T05:30:24.328Z"
   },
   {
    "duration": 9,
    "start_time": "2022-01-17T05:30:24.468Z"
   },
   {
    "duration": 20,
    "start_time": "2022-01-17T05:30:24.480Z"
   },
   {
    "duration": 12,
    "start_time": "2022-01-17T05:30:36.094Z"
   }
  ],
  "kernelspec": {
   "display_name": "Python 3 (ipykernel)",
   "language": "python",
   "name": "python3"
  },
  "language_info": {
   "codemirror_mode": {
    "name": "ipython",
    "version": 3
   },
   "file_extension": ".py",
   "mimetype": "text/x-python",
   "name": "python",
   "nbconvert_exporter": "python",
   "pygments_lexer": "ipython3",
   "version": "3.9.5"
  },
  "toc": {
   "base_numbering": 1,
   "nav_menu": {},
   "number_sections": true,
   "sideBar": true,
   "skip_h1_title": true,
   "title_cell": "Table of Contents",
   "title_sidebar": "Contents",
   "toc_cell": false,
   "toc_position": {
    "height": "calc(100% - 180px)",
    "left": "10px",
    "top": "150px",
    "width": "513.391px"
   },
   "toc_section_display": true,
   "toc_window_display": false
  }
 },
 "nbformat": 4,
 "nbformat_minor": 2
}
